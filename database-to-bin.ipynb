{
 "cells": [
  {
   "cell_type": "markdown",
   "metadata": {},
   "source": [
    "This notebook takes the well data stored in a local database and renders out a binary file with the well location data in EarthTime format."
   ]
  },
  {
   "cell_type": "markdown",
   "metadata": {},
   "source": [
    "## Clean wells that are outside of their states\n",
    "\n",
    "The dataset has ~50,000 wells that are well outside of their state boundaries. The code below creates a 50km buffer around the state boundaries (to allow for offshore wells) and then deletes the location of anything outside the buffer.\n",
    "\n",
    "For validation purposes:\n",
    "```sql\n",
    "-- DROP MATERIALIZED VIEW IF EXISTS outliers;\n",
    "CREATE MATERIALIZED VIEW outliers as \n",
    "SELECT wells.* FROM wells\n",
    "JOIN states_shape sf ON wells.state = sf.stusps\n",
    "AND NOT ST_Within(wells.location::geometry, sf.geom);\n",
    "```"
   ]
  },
  {
   "cell_type": "code",
   "execution_count": null,
   "metadata": {},
   "outputs": [],
   "source": [
    "%%sql\n",
    "CREATE MATERIALIZED VIEW states_buffered AS\n",
    "SELECT gid, stusps, name, ST_Transform(ST_Buffer(ST_Transform(geom, 2955), 50000), 4326) as geom\n",
    "FROM states_shape;"
   ]
  },
  {
   "cell_type": "code",
   "execution_count": null,
   "metadata": {},
   "outputs": [],
   "source": [
    "%%sql\n",
    "UPDATE wells SET location = NULL\n",
    "WHERE api IN (\n",
    "    SELECT api FROM wells\n",
    "    JOIN states_buffered sf ON wells.state = sf.stusps\n",
    "    WHERE NOT ST_Within(wells.location::geometry, sf.geom)\n",
    ")"
   ]
  },
  {
   "cell_type": "markdown",
   "metadata": {},
   "source": [
    "## Export Data"
   ]
  },
  {
   "cell_type": "code",
   "execution_count": 1,
   "metadata": {},
   "outputs": [],
   "source": [
    "import os, array, csv, json, math, random\n",
    "from datetime import datetime\n",
    "from datetime import date\n",
    "import db_settings\n",
    "import psycopg2\n",
    "\n",
    "def LonLatToPixelXY(lonlat):\n",
    "    (lon, lat) = lonlat\n",
    "    x = (lon + 180.0) * 256.0 / 360.0\n",
    "    y = 128.0 - math.log(math.tan((lat + 90.0) * math.pi / 360.0)) * 128.0 / math.pi\n",
    "    return [x, y]"
   ]
  },
  {
   "cell_type": "markdown",
   "metadata": {},
   "source": [
    "## Traditional - Lat / Lon / Time"
   ]
  },
  {
   "cell_type": "code",
   "execution_count": 2,
   "metadata": {},
   "outputs": [],
   "source": [
    "conn = psycopg2.connect(database=db_settings.DB, user=db_settings.USER, password=db_settings.PASSWD, host=db_settings.HOST)\n",
    "with conn:\n",
    "    with conn.cursor() as cur:\n",
    "        query = \"\"\"\n",
    "            SELECT date, state,\n",
    "                ST_X(location::geometry) AS lon, \n",
    "                ST_Y(location::geometry) AS lat \n",
    "            FROM wells\n",
    "            WHERE type IN ('OIL', 'GAS', 'OILANDGAS') AND\n",
    "                location IS NOT NULL;\n",
    "        \"\"\"\n",
    "        #query = 'SELECT date, ST_X(location::geometry) AS lon, ST_Y(location::geometry) AS lat FROM wells '\n",
    "        #query += \"WHERE type IN ('OIL', 'GAS', 'OILANDGAS')\"\n",
    "\n",
    "        try:\n",
    "            cur.execute(query)\n",
    "        except psycopg2.Error as e:\n",
    "            print (query)\n",
    "            print (e.pgerror)\n",
    "        wells = cur.fetchall()\n",
    "conn.close()"
   ]
  },
  {
   "cell_type": "code",
   "execution_count": 4,
   "metadata": {},
   "outputs": [],
   "source": [
    "# the traditional version\n",
    "data = []\n",
    "\n",
    "for well in wells:\n",
    "    well_date, state, lon, lat = well\n",
    "    x, y = LonLatToPixelXY([lon,lat])\n",
    "    if well_date:\n",
    "        well_date = datetime.combine(well_date, datetime.min.time())\n",
    "        epochtime = (well_date - datetime(1970, 1, 1)).total_seconds()\n",
    "    else:\n",
    "        epochtime = 0\n",
    "    data += [x,y,epochtime]\n",
    "array.array('f', data).tofile(open('data/data-plain.bin', 'wb'))"
   ]
  },
  {
   "cell_type": "markdown",
   "metadata": {},
   "source": [
    "### Fill in missing dates with random dates\n",
    "* For Texas, fill in random dates between 1894 and 1984\n",
    "* For New Mexico, fill in random dates between 1922 (first commercial well) and 1984\n",
    "* any others, fade in between 1960 and 1984"
   ]
  },
  {
   "cell_type": "code",
   "execution_count": 5,
   "metadata": {},
   "outputs": [],
   "source": [
    "from random import randrange\n",
    "from datetime import timedelta\n",
    "\n",
    "def random_date(start = date(1900, 1, 1), end = date(1984, 1, 1)):\n",
    "    \"\"\"\n",
    "    This function will return a random datetime between two datetime \n",
    "    objects.\n",
    "    \"\"\"\n",
    "    delta = end - start\n",
    "    #int_delta = (delta.days * 24 * 60 * 60) + delta.seconds\n",
    "    random_day = randrange(delta.days)\n",
    "    return start + timedelta(days=random_day)\n",
    "\n",
    "data = []\n",
    "\n",
    "for well in wells:\n",
    "    well_date, state, lon, lat = well\n",
    "    x, y = LonLatToPixelXY([lon,lat])\n",
    "    if well_date:\n",
    "        if state == 'NM' and well_date < date(1901, 1, 1):\n",
    "            well_date = random_date(start = date(1922, 1, 1))\n",
    "        elif state == 'OK' and well_date < date(1897, 1, 1):\n",
    "            well_date = random_date(start = date(1907, 1, 1))\n",
    "    elif state == 'TX':\n",
    "        well_date = random_date(start = date(1894, 1, 1))\n",
    "    else:\n",
    "        well_date = random_date(start = date(1960, 1, 1))\n",
    "    \n",
    "    well_date = datetime.combine(well_date, datetime.min.time())\n",
    "    epochtime = (well_date - datetime(1970, 1, 1)).total_seconds()\n",
    "    data += [x,y,epochtime]\n",
    "array.array('f', data).tofile(open('data/data.bin', 'wb'))"
   ]
  },
  {
   "cell_type": "markdown",
   "metadata": {},
   "source": [
    "# Experimental - Lat / Lon / Time / Active"
   ]
  },
  {
   "cell_type": "code",
   "execution_count": null,
   "metadata": {},
   "outputs": [],
   "source": [
    "# Extract well data from database and write to .bin file\n",
    "\n",
    "import db_settings\n",
    "import psycopg2, psycopg2.extras, ast, math, array\n",
    "from datetime import datetime\n",
    "result_file = 'data/decay.bin'\n",
    "\n",
    "query = \"\"\"\n",
    "SELECT DISTINCT ON(api) api, ST_AsGeoJSON(location) AS location, \n",
    "date,\n",
    "date_part('year', date) AS year,\n",
    "date_part('month', date) AS month,\n",
    "date_part('day', date) AS day,\n",
    "CASE WHEN status = 'ACTIVE' THEN 'True' ELSE 'False' END AS active\n",
    "FROM wells\n",
    "WHERE type IN ('OIL', 'OILANDGAS', 'GAS')\n",
    "AND date IS NOT NULL\n",
    "ORDER BY api, date, capture_time DESC;\n",
    "\"\"\"\n",
    "data = []\n",
    "conn = psycopg2.connect(database=db_settings.DB, user=db_settings.USER, password=db_settings.PASSWD, host=db_settings.HOST)\n",
    "with conn:\n",
    "    with conn.cursor(name='wells_cur', cursor_factory=psycopg2.extras.DictCursor) as cur:\n",
    "        cur.execute(query)\n",
    "        for record in cur:\n",
    "            if record['date']:\n",
    "                date = datetime(int(record['year']), int(record['month']), int(record['day']))\n",
    "            epochtime = (date - datetime(1970, 1, 1)).total_seconds()\n",
    "            value = 1 if ast.literal_eval(record['active']) else 0            \n",
    "            point = ast.literal_eval(record['location'])\n",
    "            x = (point['coordinates'][0] + 180.0) * 256.0 / 360.0\n",
    "            y = 128.0 - math.log(math.tan((point['coordinates'][1] + 90.0) * math.pi / 360.0)) * 128.0 / math.pi\n",
    "            data += [x, y, epochtime, value];\n",
    "\n",
    "array.array('f', data).tofile(open(result_file, 'wb'))\n",
    "print ('wrote', str(len(data)/4), 'records to', result_file)"
   ]
  },
  {
   "cell_type": "code",
   "execution_count": null,
   "metadata": {},
   "outputs": [],
   "source": []
  }
 ],
 "metadata": {
  "kernelspec": {
   "display_name": "Python 3",
   "language": "python",
   "name": "python3"
  },
  "language_info": {
   "codemirror_mode": {
    "name": "ipython",
    "version": 3
   },
   "file_extension": ".py",
   "mimetype": "text/x-python",
   "name": "python",
   "nbconvert_exporter": "python",
   "pygments_lexer": "ipython3",
   "version": "3.6.4"
  }
 },
 "nbformat": 4,
 "nbformat_minor": 1
}
