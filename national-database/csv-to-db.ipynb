{
 "cells": [
  {
   "cell_type": "markdown",
   "metadata": {},
   "source": [
    "### Instructions for building field maps\n",
    "\n",
    "1. Begin with a blank template like:\n",
    "\n",
    "```python\n",
    "# Oregon\n",
    "state = fieldmaps.State('OR')\n",
    "\n",
    "layout = {\n",
    "    'api_field': '',\n",
    "    'date_field': '',\n",
    "    'lat_field': '',\n",
    "    'lon_field': '',\n",
    "    'status_field': '',\n",
    "    'status_map': None,\n",
    "    'type_field': '',\n",
    "    'type_map': None\n",
    "}\n",
    "#import fieldmaps.ks\n",
    "wells = fieldmaps.Dataset(state, )\n",
    "wells.write_to_db()\n",
    "```\n",
    "\n",
    "  * The API and Date fields can be strings or lists of strings (which will be evaluated in the order given).\n",
    "  * If the date is in JavaScript epoch time, add `webdate = True` to the state object declaration\n",
    "2. Fill in the fields (except status_map and type_map) from the provided list\n",
    "3. Change the second to last line to: `wells = fieldmaps.Dataset(state, layout)`\n",
    "4. Overwrite the status_map and type_map lines with the output, and fill in the appropriate values\n",
    "\n",
    "A (likely incomplete) list of valid types:\n",
    "well_types = {'OIL',\n",
    "    'GAS',\n",
    "    'OILANDGAS',\n",
    "    'INJECTION',\n",
    "    'STORAGE',\n",
    "    'DISPOSAL',\n",
    "    'SERVICE',\n",
    "    'DRY HOLE',\n",
    "    'OBSERVATION',\n",
    "    'TEST',\n",
    "    'WATER',\n",
    "    'OTHER',\n",
    "    'UNKNOWN'}\n",
    "well_statuses = {'ACTIVE', 'INACTIVE', 'A', 'PA', 'TA', 'SI', 'DRY', 'ORPHAN', 'PERMITTED', 'CANCELLED', 'UNKNOWN'} # PA: plugged and abandoned, TA: temporarily abandoned\n",
    "well_categories = {'CONVENTIONAL','UNCONVENTIONAL','FRAC','CBM','SERVICE','TEST','STORAGE','WATER','OTHER','UNKNOWN'}\n"
   ]
  },
  {
   "cell_type": "code",
   "execution_count": 2,
   "metadata": {},
   "outputs": [],
   "source": [
    "# module that imports CSVs and processes to DB\n",
    "import os, errno, array, csv, math, re\n",
    "from datetime import datetime\n",
    "import dateutil.parser\n",
    "import importlib\n",
    "import psycopg2\n",
    "import fieldmaps"
   ]
  },
  {
   "cell_type": "code",
   "execution_count": 3,
   "metadata": {},
   "outputs": [
    {
     "name": "stdout",
     "output_type": "stream",
     "text": [
      "Wrote description for AL to database\n",
      "16414 of 17086 rows loaded\n",
      "first item: [{'state': 'AL', 'api': '01297203230000', 'lon': -88.302816, 'lat': 30.245575, 'date': datetime.date(1991, 7, 29), 'type': 'GAS', 'status': 'PA', 'category': 'CONVENTIONAL', 'description': 'Permit Num: 10008-OS-52-BH\\nWell Name: STATE LEASE 527 #1\\nOperator: Arco Oil & Gas Co., Div. Of Atlantic Richfield'}]\n",
      "loaded 16414 of 16414 records into the database\n"
     ]
    }
   ],
   "source": [
    "# Alabama\n",
    "import fieldmaps.al\n",
    "state = fieldmaps.State('AL', webdate = True)\n",
    "well_source_url = 'http://www.gsa.state.al.us/ogb/results.aspx?api=%s&permit=%s'\n",
    "state.source_url = 'http://www.gsa.state.al.us/ogb/db_main.html'\n",
    "state.description = \"\"\"\n",
    "Data from the Geological Survey of Alabama State Oil and Gas Board\n",
    "\"\"\"\n",
    "state.write_to_db()\n",
    "\n",
    "dataset = fieldmaps.Dataset(state, fieldmaps.al.layout)\n",
    "db_result = dataset.write_to_db()"
   ]
  },
  {
   "cell_type": "code",
   "execution_count": 5,
   "metadata": {},
   "outputs": [
    {
     "name": "stdout",
     "output_type": "stream",
     "text": [
      "Wrote description for AK to database\n",
      "8911 of 9160 rows loaded\n",
      "first item: [{'state': 'AK', 'api': '50103205776300', 'lon': -151.043238764074, 'lat': 70.3376726847063, 'date': datetime.date(2018, 3, 13), 'type': 'OIL', 'status': 'UNKNOWN', 'category': 'CONVENTIONAL', 'description': 'Permit No. 218026\\nOperator: CONOCOPHILLIPS ALASKA, INC.\\nArea: ARCTIC SLOPE\\nField: COLVILLE RIVER\\nPools: QANNIK  OIL\\nWell Name: COLVILLE RIV QANN CD2-463L2-01'}]\n",
      "loaded 8911 of 8911 records into the database\n"
     ]
    },
    {
     "data": {
      "text/plain": [
       "8911"
      ]
     },
     "execution_count": 5,
     "metadata": {},
     "output_type": "execute_result"
    }
   ],
   "source": [
    "# Alaska\n",
    "import fieldmaps.ak\n",
    "state = fieldmaps.State('AK')\n",
    "state.projection = 4267 # NAD27\n",
    "state.source_url = 'http://aogweb.state.ak.us/DataMiner3/Forms/WellList.aspx'\n",
    "state.description = \"\"\"\n",
    "Data from the Alaska Oil and Gas Conservation Commission\n",
    "\"\"\"\n",
    "state.write_to_db()\n",
    "\n",
    "dataset = fieldmaps.Dataset(state, fieldmaps.ak.layout)\n",
    "dataset.write_to_db()"
   ]
  },
  {
   "cell_type": "code",
   "execution_count": 7,
   "metadata": {},
   "outputs": [
    {
     "name": "stdout",
     "output_type": "stream",
     "text": [
      "Wrote description for AR to database\n",
      "30318 of 52490 rows loaded\n",
      "first item: [{'state': 'AR', 'api': '03131110170000', 'lon': -94.2957, 'lat': 35.2014, 'date': datetime.date(2003, 9, 8), 'type': 'GAS', 'status': 'ACTIVE', 'category': 'CONVENTIONAL', 'description': 'WELL NAME: Harkreader  2-15\\nWELL NUMBER: 2-15\\nOPERATOR: Xto Energy, Inc.\\nCOUNTY: Sebastian\\nFIELD NAME: B-44 Area'}]\n",
      "loaded 30318 of 30318 records into the database\n"
     ]
    },
    {
     "data": {
      "text/plain": [
       "30318"
      ]
     },
     "execution_count": 7,
     "metadata": {},
     "output_type": "execute_result"
    }
   ],
   "source": [
    "# Arkansas\n",
    "import fieldmaps.ar\n",
    "state = fieldmaps.State('AR')\n",
    "state.source_url = 'http://www.noggateway.org/reports'\n",
    "state.description = \"Data from the National Oil and Gas Gateway\"\n",
    "state.write_to_db()\n",
    "\n",
    "state.projection = 4269 # NAD83\n",
    "\n",
    "dataset = fieldmaps.Dataset(state, fieldmaps.ar.layout)\n",
    "dataset.write_to_db()"
   ]
  },
  {
   "cell_type": "code",
   "execution_count": 10,
   "metadata": {},
   "outputs": [
    {
     "name": "stdout",
     "output_type": "stream",
     "text": [
      "Wrote description for AZ to database\n",
      "1144 of 4774 rows loaded\n",
      "first item: [{'state': 'AZ', 'api': '0201290001', 'lon': -113.6326688, 'lat': 33.49979433, 'date': None, 'type': 'TEST', 'status': 'PA', 'category': None, 'description': 'Well Name: Phillips Petroleum H01 Federal\\nOperator: Phillips Petroleum\\nCounty: LA PAZ\\nField: \\nAZ OGCC Notes: no logs'}]\n",
      "loaded 1144 of 1144 records into the database\n"
     ]
    }
   ],
   "source": [
    "# Arizona\n",
    "import fieldmaps.az\n",
    "state = fieldmaps.State('AZ')\n",
    "state.source_url = 'http://services.azgs.az.gov/arcgis/rest/services/aasggeothermal/AZWellHeaders/MapServer/0'\n",
    "state.description = \"\"\"\n",
    "Data from the Arizona Oil and Gas Conservation Commission ArcGIS map at http://ogviewer.azdeq.gov/.\n",
    "\n",
    "Dates do not seem to be available from this source.\n",
    "\"\"\"\n",
    "state.date_function = lambda x: None\n",
    "state.write_to_db()\n",
    "\n",
    "dataset = fieldmaps.Dataset(state, fieldmaps.az.layout)\n",
    "db_result = dataset.write_to_db()"
   ]
  },
  {
   "cell_type": "code",
   "execution_count": 11,
   "metadata": {},
   "outputs": [
    {
     "name": "stdout",
     "output_type": "stream",
     "text": [
      "Wrote description for CA to database\n",
      "226634 of 226634 rows loaded\n",
      "first item: [{'state': 'CA', 'api': '0402900001', 'lon': -118.95876, 'lat': 35.43406, 'date': datetime.date(2008, 11, 29), 'type': 'OILANDGAS', 'status': 'ACTIVE', 'category': None, 'description': 'LeaseName: \\nOpName: Chevron U.S.A. Inc.\\nURL: https://secure.conservation.ca.gov/WellSearch/Details?api=02900001\\nComments: \\nFieldName: Kern River'}]\n",
      "loaded 226634 of 226634 records into the database\n"
     ]
    },
    {
     "data": {
      "text/plain": [
       "226634"
      ]
     },
     "execution_count": 11,
     "metadata": {},
     "output_type": "execute_result"
    }
   ],
   "source": [
    "# California\n",
    "import fieldmaps.ca\n",
    "state = fieldmaps.State('CA', filename = 'california-data.csv', prepend_api = True, webdate = True)\n",
    "state.source_url = 'http://spatialservices.conservation.ca.gov/arcgis/rest/services/DOMS/Wells/MapServer/0'\n",
    "state.description = \"\"\"California Division of Oil, Gas, & Geothermal Resources \n",
    "at http://www.conservation.ca.gov/dog. Type codes: ftp://ftp.consrv.ca.gov/pub/oil/GIS/ReadMe.pdf\"\"\"\n",
    "state.write_to_db()\n",
    "\n",
    "dataset = fieldmaps.Dataset(state, fieldmaps.ca.layout)\n",
    "dataset.write_to_db()"
   ]
  },
  {
   "cell_type": "code",
   "execution_count": 12,
   "metadata": {},
   "outputs": [
    {
     "name": "stdout",
     "output_type": "stream",
     "text": [
      "114537 of 114537 rows loaded\n",
      "first item: [{'state': 'CO', 'api': '0500105000', 'lon': -103.727484, 'lat': 39.741587, 'date': datetime.date(1957, 10, 15), 'type': 'DRY HOLE', 'status': 'A', 'category': None, 'description': 'Operator TOMBERLIN* BILL\\nWell_Title 1 UPRR-JOLLY'}]\n",
      "loaded 114537 of 114537 records into the database\n"
     ]
    },
    {
     "data": {
      "text/plain": [
       "114537"
      ]
     },
     "execution_count": 12,
     "metadata": {},
     "output_type": "execute_result"
    }
   ],
   "source": [
    "# Colorado\n",
    "import fieldmaps.co\n",
    "state = fieldmaps.State('CO')\n",
    "\n",
    "wells = fieldmaps.Dataset(state, fieldmaps.co.layout)\n",
    "wells.write_to_db()"
   ]
  },
  {
   "cell_type": "code",
   "execution_count": null,
   "metadata": {},
   "outputs": [],
   "source": [
    "# Connecticut - No Oil or Gas Drilling"
   ]
  },
  {
   "cell_type": "code",
   "execution_count": null,
   "metadata": {},
   "outputs": [],
   "source": [
    "# Delaware - No Oil or Gas Drilling"
   ]
  },
  {
   "cell_type": "code",
   "execution_count": null,
   "metadata": {},
   "outputs": [],
   "source": [
    "# District of Columbia - No Oil or Gas Drilling"
   ]
  },
  {
   "cell_type": "code",
   "execution_count": 13,
   "metadata": {},
   "outputs": [
    {
     "name": "stdout",
     "output_type": "stream",
     "text": [
      "1267 of 1444 rows loaded\n",
      "first item: [{'state': 'FL', 'api': '09912310003', 'lon': -83.45759326189415, 'lat': 30.132361018336038, 'date': datetime.date(1949, 12, 8), 'type': 'DRY HOLE', 'status': 'A', 'category': None, 'description': None}]\n",
      "loaded 1267 of 1267 records into the database\n"
     ]
    },
    {
     "data": {
      "text/plain": [
       "1267"
      ]
     },
     "execution_count": 13,
     "metadata": {},
     "output_type": "execute_result"
    }
   ],
   "source": [
    "# Florida\n",
    "state = fieldmaps.State('FL', webdate = True,  prepend_api = True)\n",
    "import fieldmaps.fl\n",
    "\n",
    "wells = fieldmaps.Dataset(state, fieldmaps.fl.layout, quiet = True)\n",
    "wells.write_to_db()"
   ]
  },
  {
   "cell_type": "code",
   "execution_count": null,
   "metadata": {},
   "outputs": [],
   "source": [
    "# Georgia - No oil or gas activity"
   ]
  },
  {
   "cell_type": "code",
   "execution_count": null,
   "metadata": {},
   "outputs": [],
   "source": [
    "# Hawaii - No oil or gas activity"
   ]
  },
  {
   "cell_type": "code",
   "execution_count": 14,
   "metadata": {},
   "outputs": [
    {
     "name": "stdout",
     "output_type": "stream",
     "text": [
      "171 of 200 rows loaded\n",
      "first item: [{'state': 'ID', 'api': '1108100001', 'lon': -111.22, 'lat': 43.8, 'date': datetime.date(1903, 1, 16), 'type': 'UNKNOWN', 'status': 'PA', 'category': None, 'description': None}]\n",
      "loaded 171 of 171 records into the database\n"
     ]
    },
    {
     "data": {
      "text/plain": [
       "171"
      ]
     },
     "execution_count": 14,
     "metadata": {},
     "output_type": "execute_result"
    }
   ],
   "source": [
    "# Idaho\n",
    "state = fieldmaps.State('ID')\n",
    "# import fieldmaps.id\n",
    "state.load_data()\n",
    "layout = {\n",
    "    'api_field': 'API',\n",
    "    'date_field': 'Date',\n",
    "    'lat_field': 'lattitudeWGS84',\n",
    "    'lon_field': 'longitudeWGS84',\n",
    "    'status_field': 'Status',\n",
    "    'status_map': {\n",
    "        'Not Drilled - Permit Expired': 'CANCELLED',\n",
    "        'Permitted Well': 'PERMITTED',\n",
    "        'Expired Permit': 'CANCELLED',\n",
    "        'Plugged and Abandoned': 'PA',\n",
    "        'Shut In': 'SI',\n",
    "        'Not Drilled': 'PERMITTED',\n",
    "        'Drilling': 'ACTIVE',\n",
    "        'Producing': 'ACTIVE',\n",
    "        'Completed': 'ACTIVE',\n",
    "    },\n",
    "    'type_field': 'Well Type',\n",
    "    'type_map': {\n",
    "        '': 'UNKNOWN',\n",
    "        'Expired Location': 'UNKNOWN',\n",
    "        'Oil Well': 'OIL',\n",
    "        'Oil & Gas': 'OILANDGAS',\n",
    "        'Gas Well': 'GAS',\n",
    "        'Dry Hole': 'DRY HOLE',\n",
    "    }\n",
    "}\n",
    "wells = fieldmaps.Dataset(state, layout, quiet = True)\n",
    "wells.write_to_db()"
   ]
  },
  {
   "cell_type": "code",
   "execution_count": 15,
   "metadata": {},
   "outputs": [
    {
     "name": "stdout",
     "output_type": "stream",
     "text": [
      "195735 of 195735 rows loaded\n",
      "first item: [{'state': 'IL', 'api': '120010000200', 'lon': -90.92110000000001, 'lat': 40.080721, 'date': datetime.date(1945, 12, 31), 'type': 'DRY HOLE', 'status': 'A', 'category': None, 'description': None}]\n",
      "loaded 195735 of 195735 records into the database\n"
     ]
    },
    {
     "data": {
      "text/plain": [
       "195735"
      ]
     },
     "execution_count": 15,
     "metadata": {},
     "output_type": "execute_result"
    }
   ],
   "source": [
    "# Illinois\n",
    "state = fieldmaps.State('IL', webdate = True, filename = 'il-data-old.csv')\n",
    "import fieldmaps.il\n",
    "wells = fieldmaps.Dataset(state, fieldmaps.il.layout, quiet = True)\n",
    "wells.write_to_db()"
   ]
  },
  {
   "cell_type": "code",
   "execution_count": 16,
   "metadata": {},
   "outputs": [
    {
     "name": "stdout",
     "output_type": "stream",
     "text": [
      "49741 of 50714 rows loaded\n",
      "first item: [{'state': 'IN', 'api': '1316735', 'lon': -87.5878048752559, 'lat': 37.87489933916674, 'date': None, 'type': 'OIL', 'status': 'ACTIVE', 'category': None, 'description': 'County: Vanderburgh    \\nField Name: Barker                   \\nIGS ID: 16735\\nIGS Reported Status: Active\\nLink: <a href=\"https://igs.indiana.edu/pdms/wellEvents.cfm?igsID=16735\">IGS link</a>'}]\n",
      "loaded 49741 of 49741 records into the database\n"
     ]
    },
    {
     "data": {
      "text/plain": [
       "49741"
      ]
     },
     "execution_count": 16,
     "metadata": {},
     "output_type": "execute_result"
    }
   ],
   "source": [
    "# Indiana\n",
    "state = fieldmaps.State('IN', prepend_api = True)\n",
    "import fieldmaps.indiana\n",
    "wells = fieldmaps.Dataset(state, fieldmaps.indiana.layout)\n",
    "wells.write_to_db()"
   ]
  },
  {
   "cell_type": "code",
   "execution_count": null,
   "metadata": {},
   "outputs": [],
   "source": [
    "# Iowa - No oil or Gas"
   ]
  },
  {
   "cell_type": "code",
   "execution_count": 23,
   "metadata": {},
   "outputs": [
    {
     "name": "stdout",
     "output_type": "stream",
     "text": [
      "Invalid layout. Available source file columns: \n",
      "'', 'API_NUMBER', 'API_WELL_NUMBER', 'API_WORKOVERS', 'COMPLETION_DATE', 'COMPLETION_DATE_TXT', 'COMPLETION_YEAR', 'COUNTY', 'COUNTY_CODE', 'CURR_OPERATOR', 'ELEVATION_DF', 'ELEVATION_GL', 'ELEVATION_KB', 'FEET_EAST_FROM_REFERENCE', 'FEET_NORTH_FROM_REFERENCE', 'FIELD_KID', 'FIELD_NAME', 'KID', 'LEASE_NAME', 'NAD27_LATITUDE', 'NAD27_LONGITUDE', 'NAD83_LATITUDE', 'NAD83_LONGITUDE', 'OBJECTID', 'OPERATOR_KID', 'OPERATOR_NAME', 'ORIG_FID', 'PERMIT_DATE', 'PERMIT_DATE_TXT', 'PLUG_DATE', 'PLUG_DATE_TXT', 'PRINCIPAL_MERIDIAN', 'PRODUCING_FORMATION', 'RANGE', 'RANGE_DIRECTION', 'REFERENCE_CORNER', 'ROTARY_TOTAL_DEPTH', 'SECTION', 'SPOT', 'SPUD_DATE', 'SPUD_DATE_TXT', 'STATE_CODE', 'STATUS', 'STATUS_TXT', 'SUBDIVISION_1_LARGEST', 'SUBDIVISION_2', 'SUBDIVISION_3', 'SUBDIVISION_4_SMALLEST', 'TOWNSHIP', 'TOWNSHIP_DIRECTION', 'WELL_CLASS', 'WELL_LABEL', 'WELL_NAME', 'WELL_TYPE'\n",
      "\n",
      "Example rows: [OrderedDict([('', '0'), ('API_NUMBER', '15-007-10179'), ('API_WELL_NUMBER', '10179.0'), ('API_WORKOVERS', ''), ('COMPLETION_DATE', '-665107200000.0'), ('COMPLETION_DATE_TXT', '12/04/1948'), ('COMPLETION_YEAR', '1948'), ('COUNTY', 'Barber'), ('COUNTY_CODE', '7.0'), ('CURR_OPERATOR', ' '), ('ELEVATION_DF', '1680.0'), ('ELEVATION_GL', ''), ('ELEVATION_KB', ''), ('FEET_EAST_FROM_REFERENCE', '330.0'), ('FEET_NORTH_FROM_REFERENCE', '2970.0'), ('FIELD_KID', '1000146487.0'), ('FIELD_NAME', 'Skinner'), ('KID', '1001186874'), ('LEASE_NAME', \"Skinner 'B'\"), ('NAD27_LATITUDE', '37.3480839'), ('NAD27_LONGITUDE', '-98.8749025'), ('NAD83_LATITUDE', '37.3481067'), ('NAD83_LONGITUDE', '-98.8752778'), ('OBJECTID', '1'), ('OPERATOR_KID', ''), ('OPERATOR_NAME', 'coppinger & southern'), ('ORIG_FID', '-1'), ('PERMIT_DATE', ''), ('PERMIT_DATE_TXT', ' '), ('PLUG_DATE', '-650160000000.0'), ('PLUG_DATE_TXT', '05/26/1949'), ('PRINCIPAL_MERIDIAN', '6'), ('PRODUCING_FORMATION', ' '), ('RANGE', '14'), ('RANGE_DIRECTION', 'W'), ('REFERENCE_CORNER', 'SW'), ('ROTARY_TOTAL_DEPTH', '4469.0'), ('SECTION', '17'), ('SPOT', 'C'), ('SPUD_DATE', '-667440000000.0'), ('SPUD_DATE_TXT', '11/07/1948'), ('STATE_CODE', '15'), ('STATUS', 'OIL-P&A'), ('STATUS_TXT', 'Oil, Plugged'), ('SUBDIVISION_1_LARGEST', 'NW'), ('SUBDIVISION_2', 'SW'), ('SUBDIVISION_3', 'SW'), ('SUBDIVISION_4_SMALLEST', ' '), ('TOWNSHIP', '31'), ('TOWNSHIP_DIRECTION', 'S'), ('WELL_CLASS', 'Plugged and Abandoned'), ('WELL_LABEL', \"Skinner 'B' 3\"), ('WELL_NAME', '3'), ('WELL_TYPE', 'OIL')]), OrderedDict([('', '1'), ('API_NUMBER', '15-007-10188'), ('API_WELL_NUMBER', '10188.0'), ('API_WORKOVERS', ''), ('COMPLETION_DATE', '-658108800000.0'), ('COMPLETION_DATE_TXT', '02/23/1949'), ('COMPLETION_YEAR', '1949'), ('COUNTY', 'Barber'), ('COUNTY_CODE', '7.0'), ('CURR_OPERATOR', ' '), ('ELEVATION_DF', '1649.0'), ('ELEVATION_GL', ''), ('ELEVATION_KB', ''), ('FEET_EAST_FROM_REFERENCE', '-4290.0'), ('FEET_NORTH_FROM_REFERENCE', '-990.0'), ('FIELD_KID', '1000146487.0'), ('FIELD_NAME', 'Skinner'), ('KID', '1001186875'), ('LEASE_NAME', 'Skinner'), ('NAD27_LATITUDE', '37.3517494'), ('NAD27_LONGITUDE', '-98.8724615'), ('NAD83_LATITUDE', '37.3517721'), ('NAD83_LONGITUDE', '-98.8728363'), ('OBJECTID', '2'), ('OPERATOR_KID', ''), ('OPERATOR_NAME', 'j m huber corp.'), ('ORIG_FID', '-1'), ('PERMIT_DATE', ''), ('PERMIT_DATE_TXT', ' '), ('PLUG_DATE', '-426038400000.0'), ('PLUG_DATE_TXT', '07/02/1956'), ('PRINCIPAL_MERIDIAN', '6'), ('PRODUCING_FORMATION', ' '), ('RANGE', '14'), ('RANGE_DIRECTION', 'W'), ('REFERENCE_CORNER', 'NE'), ('ROTARY_TOTAL_DEPTH', '4398.0'), ('SECTION', '17'), ('SPOT', 'C'), ('SPUD_DATE', '-662688000000.0'), ('SPUD_DATE_TXT', '01/01/1949'), ('STATE_CODE', '15'), ('STATUS', 'OIL-P&A'), ('STATUS_TXT', 'Oil, Plugged'), ('SUBDIVISION_1_LARGEST', 'NW'), ('SUBDIVISION_2', 'NW'), ('SUBDIVISION_3', 'SE'), ('SUBDIVISION_4_SMALLEST', ' '), ('TOWNSHIP', '31'), ('TOWNSHIP_DIRECTION', 'S'), ('WELL_CLASS', 'Plugged and Abandoned'), ('WELL_LABEL', 'Skinner 3'), ('WELL_NAME', '3'), ('WELL_TYPE', 'OIL')])]\n",
      "Missing values for: description_layout, description_fields\n",
      "Error converting date for row:\n",
      "\n",
      "OrderedDict([('', '102463'), ('API_NUMBER', '15-007-22376'), ('API_WELL_NUMBER', '22376.0'), ('API_WORKOVERS', ''), ('COMPLETION_DATE', '684460800000.0'), ('COMPLETION_DATE_TXT', '09/10/1991'), ('COMPLETION_YEAR', '1991'), ('COUNTY', 'Barber'), ('COUNTY_CODE', '7.0'), ('CURR_OPERATOR', 'Dixon Energy, Inc.'), ('ELEVATION_DF', ''), ('ELEVATION_GL', '1678.0'), ('ELEVATION_KB', '1683.0'), ('FEET_EAST_FROM_REFERENCE', '-330.0'), ('FEET_NORTH_FROM_REFERENCE', '630.0'), ('FIELD_KID', '1000146506.0'), ('FIELD_NAME', 'Whelan'), ('KID', '1006017934'), ('LEASE_NAME', 'Watkins'), ('NAD27_LATITUDE', '37.3280089'), ('NAD27_LONGITUDE', '-98.5332943'), ('NAD83_LATITUDE', '37.3280307'), ('NAD83_LONGITUDE', '-98.5336536'), ('OBJECTID', '85469'), ('OPERATOR_KID', '1027995484.0'), ('OPERATOR_NAME', ''), ('ORIG_FID', None), ('PERMIT_DATE', None), ('PERMIT_DATE_TXT', None), ('PLUG_DATE', None), ('PLUG_DATE_TXT', None), ('PRINCIPAL_MERIDIAN', None), ('PRODUCING_FORMATION', None), ('RANGE', None), ('RANGE_DIRECTION', None), ('REFERENCE_CORNER', None), ('ROTARY_TOTAL_DEPTH', None), ('SECTION', None), ('SPOT', None), ('SPUD_DATE', None), ('SPUD_DATE_TXT', None), ('STATE_CODE', None), ('STATUS', None), ('STATUS_TXT', None), ('SUBDIVISION_1_LARGEST', None), ('SUBDIVISION_2', None), ('SUBDIVISION_3', None), ('SUBDIVISION_4_SMALLEST', None), ('TOWNSHIP', None), ('TOWNSHIP_DIRECTION', None), ('WELL_CLASS', None), ('WELL_LABEL', None), ('WELL_NAME', None), ('WELL_TYPE', None)])\n",
      "461547 of 481016 rows loaded\n",
      "first item: [{'state': 'KS', 'api': '1500710179', 'lon': -98.8752778, 'lat': 37.3481067, 'date': datetime.date(1948, 11, 6), 'type': 'OIL', 'status': 'PA', 'category': None, 'description': None}]\n",
      "loaded 461547 of 461547 records into the database\n"
     ]
    },
    {
     "data": {
      "text/plain": [
       "461547"
      ]
     },
     "execution_count": 23,
     "metadata": {},
     "output_type": "execute_result"
    }
   ],
   "source": [
    "# Kansas\n",
    "state = fieldmaps.State('KS', webdate = True)\n",
    "state.projection = 4269 # NAD83\n",
    "\n",
    "import fieldmaps.ks\n",
    "layout = fieldmaps.ks.layout\n",
    "wells = fieldmaps.Dataset(state, layout, quiet = True)\n",
    "wells.write_to_db()"
   ]
  },
  {
   "cell_type": "code",
   "execution_count": 40,
   "metadata": {},
   "outputs": [
    {
     "name": "stdout",
     "output_type": "stream",
     "text": [
      "117639 of 145745 rows loaded\n",
      "first item: [{'state': 'KY', 'api': '16195060750000', 'lon': -82.5155, 'lat': 37.3224, 'date': datetime.date(2009, 6, 27), 'type': 'GAS', 'status': 'ACTIVE', 'category': None, 'description': 'WELL NAME: Equitable Production Company 567990\\nWELL NUMBER: 567990\\nOPERATOR: Eqt Production Company\\nCOUNTY: Pike\\nFIELD NAME: '}]\n",
      "loaded 117639 of 117639 records into the database\n"
     ]
    },
    {
     "data": {
      "text/plain": [
       "117639"
      ]
     },
     "execution_count": 40,
     "metadata": {},
     "output_type": "execute_result"
    }
   ],
   "source": [
    "# Kentucky\n",
    "state = fieldmaps.State('KY')\n",
    "state.projection = 4267 # NAD27\n",
    "\n",
    "import fieldmaps.ky\n",
    "wells = fieldmaps.Dataset(state, fieldmaps.ky.layout)\n",
    "wells.write_to_db()"
   ]
  },
  {
   "cell_type": "code",
   "execution_count": 59,
   "metadata": {},
   "outputs": [
    {
     "name": "stdout",
     "output_type": "stream",
     "text": [
      "Invalid layout. Available source file columns: \n",
      "'', 'API_NUM', 'AREA_USDW_VALUE', 'CLASSIFICATION', 'COASTAL_PERMIT_NUM', 'COMMENTS', 'DIRWELL', 'DISTRICT_CODE', 'DOC_ACCESS', 'EFFECTIVE_DATE', 'EXEMPT_29E_FLAG', 'FIELD_ID', 'FIELD_NAME', 'FORMATIONS', 'GIS_UPD_DATE', 'HYPERLINK', 'INJECTION_RATE', 'INJECTION_VOLUME', 'INSPECTION_DATE', 'INSPECTION_YEAR_INDEX', 'LAST_RECOMPLETION_DATE', 'LAST_TEST_DATE', 'LEASE_NUM', 'LEGEND', 'LEGEND_DESC', 'LOCATION', 'LOG_REVIEWED_FLAG', 'LOWER_PERFS', 'LUW_CODE', 'LUW_NAME', 'LUW_TYPE_CODE', 'LW_REC_STATUS', 'MAX_SIP', 'MEASURED_DEPTH', 'MERIDIAN', 'MINERAL_INTEREST_FLAG', 'MUD_DENSITY', 'OBJECTID', 'OPERATION_TYPE_CODE', 'ORGANIZATION_ID', 'ORGOP_LINE_ID', 'ORG_OPER_NAME', 'ORIGINAL_COMPLETION_DATE', 'ORPHANED_FLAG', 'ORPHAN_STATUS_CODE', 'ORPHAN_STATUS_DATE', 'PARISH_CODE', 'PARISH_NAME', 'PERMIT_DATE', 'PRODUCT_TYPE_CODE', 'RESERVOIRS', 'SANDS', 'SCOUT_DETAIL', 'SCOUT_MEASURED_DEPTH', 'SCOUT_REPORT_DATE', 'SCOUT_TRUE_VERTICAL_DEPTH', 'SCOUT_WELL_STATUS_CODE', 'SECTION', 'SECTN', 'SIP_ASSIGNED_DATE', 'SOURCE_AREA_USDW_VALUE', 'SOURCE_OF_SIP_VALUE', 'SPUD_DATE', 'STATE_INTEREST_FLAG', 'STATE_ZONE', 'SURFACE_COORD_SYSTEM_CODE', 'SURFACE_LAMBERT_X', 'SURFACE_LAMBERT_Y', 'SURFACE_LAT_DEC_DEG', 'SURFACE_LONG_DEC_DEG', 'SURFACE_UTM83_X', 'SURFACE_UTM83_Y', 'SURFACE_ZONE', 'TOWNSHIP', 'UNIT_WELL_FLAG', 'UPPER_PERFS', 'USDW_VALUE', 'WELL_CLASS_TYPE_CODE', 'WELL_NAME', 'WELL_NUM', 'WELL_RANGE', 'WELL_SERIAL_NUM', 'WELL_STATUS_CODE', 'WELL_STATUS_DATE'\n",
      "\n",
      "Example rows: [OrderedDict([('', '0'), ('API_NUM', '00000000000000'), ('AREA_USDW_VALUE', ''), ('CLASSIFICATION', ''), ('COASTAL_PERMIT_NUM', ''), ('COMMENTS', '\\nMAX SIP 0 REVISED NOTES: '), ('DIRWELL', '3000'), ('DISTRICT_CODE', ''), ('DOC_ACCESS', 'http://ucmwww.dnr.state.la.us/ucmsearch/FindDocuments.aspx?idx=xwellserialnumber&val=3'), ('EFFECTIVE_DATE', '-1109808000000'), ('EXEMPT_29E_FLAG', 'N'), ('FIELD_ID', '9715'), ('FIELD_NAME', 'WILDCAT-NO LA SHREVEPORT DIST'), ('FORMATIONS', ''), ('GIS_UPD_DATE', '1520655534000'), ('HYPERLINK', 'http://sonlite.dnr.state.la.us/sundown/cart_prod/cart_con_wellinfo2?p_WSN=3'), ('INJECTION_RATE', ''), ('INJECTION_VOLUME', ''), ('INSPECTION_DATE', ''), ('INSPECTION_YEAR_INDEX', ''), ('LAST_RECOMPLETION_DATE', ''), ('LAST_TEST_DATE', ''), ('LEASE_NUM', ''), ('LEGEND', '3000'), ('LEGEND_DESC', 'PLUGGED AND ABANDONED  NO PRODUCT SPECIFIED'), ('LOCATION', ''), ('LOG_REVIEWED_FLAG', ''), ('LOWER_PERFS', ''), ('LUW_CODE', ''), ('LUW_NAME', ''), ('LUW_TYPE_CODE', ''), ('LW_REC_STATUS', ''), ('MAX_SIP', '0.0'), ('MEASURED_DEPTH', ''), ('MERIDIAN', 'W'), ('MINERAL_INTEREST_FLAG', 'N'), ('MUD_DENSITY', ''), ('OBJECTID', '1'), ('OPERATION_TYPE_CODE', '01'), ('ORGANIZATION_ID', '9999'), ('ORGOP_LINE_ID', '1'), ('ORG_OPER_NAME', 'INACTIVE OPERATOR'), ('ORIGINAL_COMPLETION_DATE', ''), ('ORPHANED_FLAG', ''), ('ORPHAN_STATUS_CODE', ''), ('ORPHAN_STATUS_DATE', ''), ('PARISH_CODE', '41'), ('PARISH_NAME', 'RED RIVER'), ('PERMIT_DATE', ''), ('PRODUCT_TYPE_CODE', '00'), ('RESERVOIRS', ''), ('SANDS', ''), ('SCOUT_DETAIL', ''), ('SCOUT_MEASURED_DEPTH', ''), ('SCOUT_REPORT_DATE', ''), ('SCOUT_TRUE_VERTICAL_DEPTH', ''), ('SCOUT_WELL_STATUS_CODE', ''), ('SECTION', '025'), ('SECTN', '025'), ('SIP_ASSIGNED_DATE', ''), ('SOURCE_AREA_USDW_VALUE', ''), ('SOURCE_OF_SIP_VALUE', ''), ('SPUD_DATE', ''), ('STATE_INTEREST_FLAG', 'N'), ('STATE_ZONE', 'NORTH'), ('SURFACE_COORD_SYSTEM_CODE', '01'), ('SURFACE_LAMBERT_X', '1707395.0'), ('SURFACE_LAMBERT_Y', '518012.0'), ('SURFACE_LAT_DEC_DEG', '32.087417632'), ('SURFACE_LONG_DEC_DEG', '-93.444976416'), ('SURFACE_UTM83_X', '458009.340566329'), ('SURFACE_UTM83_Y', '3550211.96366651'), ('SURFACE_ZONE', 'N'), ('TOWNSHIP', '13N'), ('UNIT_WELL_FLAG', 'N'), ('UPPER_PERFS', ''), ('USDW_VALUE', '0.0'), ('WELL_CLASS_TYPE_CODE', ''), ('WELL_NAME', 'E T ROBINSON'), ('WELL_NUM', '003'), ('WELL_RANGE', '11W'), ('WELL_SERIAL_NUM', '3'), ('WELL_STATUS_CODE', '30'), ('WELL_STATUS_DATE', '-1111017600000')]), OrderedDict([('', '1'), ('API_NUM', '00000000000000'), ('AREA_USDW_VALUE', ''), ('CLASSIFICATION', ''), ('COASTAL_PERMIT_NUM', ''), ('COMMENTS', '\\nMAX SIP 0 REVISED NOTES: '), ('DIRWELL', '3000'), ('DISTRICT_CODE', ''), ('DOC_ACCESS', 'http://ucmwww.dnr.state.la.us/ucmsearch/FindDocuments.aspx?idx=xwellserialnumber&val=4'), ('EFFECTIVE_DATE', '-1080950400000'), ('EXEMPT_29E_FLAG', 'N'), ('FIELD_ID', '9715'), ('FIELD_NAME', 'WILDCAT-NO LA SHREVEPORT DIST'), ('FORMATIONS', ''), ('GIS_UPD_DATE', '1520655534000'), ('HYPERLINK', 'http://sonlite.dnr.state.la.us/sundown/cart_prod/cart_con_wellinfo2?p_WSN=4'), ('INJECTION_RATE', ''), ('INJECTION_VOLUME', ''), ('INSPECTION_DATE', ''), ('INSPECTION_YEAR_INDEX', ''), ('LAST_RECOMPLETION_DATE', ''), ('LAST_TEST_DATE', ''), ('LEASE_NUM', ''), ('LEGEND', '3000'), ('LEGEND_DESC', 'PLUGGED AND ABANDONED  NO PRODUCT SPECIFIED'), ('LOCATION', ''), ('LOG_REVIEWED_FLAG', ''), ('LOWER_PERFS', ''), ('LUW_CODE', ''), ('LUW_NAME', ''), ('LUW_TYPE_CODE', ''), ('LW_REC_STATUS', ''), ('MAX_SIP', '0.0'), ('MEASURED_DEPTH', ''), ('MERIDIAN', 'W'), ('MINERAL_INTEREST_FLAG', 'N'), ('MUD_DENSITY', ''), ('OBJECTID', '2'), ('OPERATION_TYPE_CODE', '01'), ('ORGANIZATION_ID', '9999'), ('ORGOP_LINE_ID', '1'), ('ORG_OPER_NAME', 'INACTIVE OPERATOR'), ('ORIGINAL_COMPLETION_DATE', ''), ('ORPHANED_FLAG', ''), ('ORPHAN_STATUS_CODE', ''), ('ORPHAN_STATUS_DATE', ''), ('PARISH_CODE', '41'), ('PARISH_NAME', 'RED RIVER'), ('PERMIT_DATE', ''), ('PRODUCT_TYPE_CODE', '00'), ('RESERVOIRS', ''), ('SANDS', ''), ('SCOUT_DETAIL', ''), ('SCOUT_MEASURED_DEPTH', ''), ('SCOUT_REPORT_DATE', ''), ('SCOUT_TRUE_VERTICAL_DEPTH', ''), ('SCOUT_WELL_STATUS_CODE', ''), ('SECTION', '025'), ('SECTN', '025'), ('SIP_ASSIGNED_DATE', ''), ('SOURCE_AREA_USDW_VALUE', ''), ('SOURCE_OF_SIP_VALUE', ''), ('SPUD_DATE', ''), ('STATE_INTEREST_FLAG', 'N'), ('STATE_ZONE', 'NORTH'), ('SURFACE_COORD_SYSTEM_CODE', '01'), ('SURFACE_LAMBERT_X', '1707572.0'), ('SURFACE_LAMBERT_Y', '514711.0'), ('SURFACE_LAT_DEC_DEG', '32.078347823'), ('SURFACE_LONG_DEC_DEG', '-93.444312099'), ('SURFACE_UTM83_X', '458067.889067117'), ('SURFACE_UTM83_Y', '3549206.35890122'), ('SURFACE_ZONE', 'N'), ('TOWNSHIP', '13N'), ('UNIT_WELL_FLAG', 'N'), ('UPPER_PERFS', ''), ('USDW_VALUE', '0.0'), ('WELL_CLASS_TYPE_CODE', ''), ('WELL_NAME', 'E T ROBINSON'), ('WELL_NUM', '026'), ('WELL_RANGE', '11W'), ('WELL_SERIAL_NUM', '4'), ('WELL_STATUS_CODE', '30'), ('WELL_STATUS_DATE', '-1079481600000')])]\n",
      "Missing values for: description_layout, description_fields\n",
      "214470 of 240791 rows loaded\n",
      "first item: [{'state': 'LA', 'api': '00000000000000', 'lon': -93.444976416, 'lat': 32.087417632, 'date': datetime.date(1934, 10, 17), 'type': 'UNKNOWN', 'status': 'PA', 'category': None, 'description': None}]\n",
      "loaded 214470 of 214470 records into the database\n"
     ]
    },
    {
     "data": {
      "text/plain": [
       "214470"
      ]
     },
     "execution_count": 59,
     "metadata": {},
     "output_type": "execute_result"
    }
   ],
   "source": [
    "# Louisiana\n",
    "\n",
    "state = fieldmaps.State('LA', webdate = True)\n",
    "import fieldmaps.la\n",
    "\n",
    "wells = fieldmaps.Dataset(state, fieldmaps.la.layout, quiet = True)\n",
    "wells.write_to_db()"
   ]
  },
  {
   "cell_type": "code",
   "execution_count": 42,
   "metadata": {},
   "outputs": [],
   "source": [
    "# Maine - No Oil or Gas"
   ]
  },
  {
   "cell_type": "code",
   "execution_count": 63,
   "metadata": {},
   "outputs": [
    {
     "name": "stdout",
     "output_type": "stream",
     "text": [
      "Invalid layout. Available source file columns: \n",
      "'X', 'Y', 'Id', 'Date_drill', 'Date_Plugg', 'Depth', 'Formation', 'Permit_Num', 'Permittee', 'Completion', 'Well_Depth', 'Show_of_Ga', 'Common_Nam', 'Status', 'Dry_hole', 'POINT_X', 'POINT_Y', 'Comp_Rpt'\n",
      "\n",
      "Example rows: [OrderedDict([('X', '-79.37919687'), ('Y', '39.39788269'), ('Id', '0'), ('Date_drill', '7/1/51'), ('Date_Plugg', 'September of 1952'), ('Depth', '3602'), ('Formation', 'Oriskeny'), ('Permit_Num', '7977'), ('Permittee', 'Mid-Atlantic Oil and Gas Co.'), ('Completion', 'yes'), ('Well_Depth', '3602'), ('Show_of_Ga', '3523'), ('Common_Nam', 'Grimes No. 2'), ('Status', 'Plugged'), ('Dry_hole', 'Unknown'), ('POINT_X', '195082.9925'), ('POINT_Y', '194847.897'), ('Comp_Rpt', '<a href=\"L:/MINING/GIS_Shapefiles/Historic_Reports/hopkins-series.pdf#page=44\">Completion Report</a>')]), OrderedDict([('X', '-79.32807733'), ('Y', '39.43129633'), ('Id', '0'), ('Date_drill', '11/9/52'), ('Date_Plugg', 'na'), ('Depth', '5195'), ('Formation', 'Oriskeny'), ('Permit_Num', '7882'), ('Permittee', 'Mid-Atlantic Oil & Gas Co.'), ('Completion', 'yes'), ('Well_Depth', '5195'), ('Show_of_Ga', '4656'), ('Common_Nam', 'Lashorn No. 1'), ('Status', '?'), ('Dry_hole', 'Unknown'), ('POINT_X', '199579.4803'), ('POINT_Y', '198442.8488'), ('Comp_Rpt', '<a href=\"L:/MINING/GIS_Shapefiles/Historic_Reports/hopkins-series.pdf#page=43\">Completion Report</a>')])]\n",
      "Missing values for: description_layout, description_fields\n",
      "Error converting status for row:\n",
      "\n",
      "OrderedDict([('X', '-79.37415535'), ('Y', '39.39558305'), ('Id', '0'), ('Date_drill', '12/10/51'), ('Date_Plugg', ''), ('Depth', '3719'), ('Formation', ''), ('Permit_Num', '8709'), ('Permittee', 'Thomas Lafferty & Columbus Whetzel'), ('Completion', 'yes'), ('Well_Depth', '3719'), ('Show_of_Ga', ''), ('Common_Nam', 'Ashby No. 1'), ('Status', ''), ('Dry_hole', 'Not exact location, waterfound at depth'), ('POINT_X', '0'), ('POINT_Y', '0'), ('Comp_Rpt', '<a href=\"L:/MINING/GIS_Shapefiles/Historic_Reports/hopkins-series.pdf#page=71\">Completion Report</a>')])\n",
      "8 of 125 rows loaded\n",
      "first item: [{'state': 'MD', 'api': '190', 'lon': -79.37919687, 'lat': 39.39788269, 'date': datetime.date(2051, 7, 1), 'type': 'GAS', 'status': 'PA', 'category': None, 'description': None}]\n",
      "loaded 8 of 8 records into the database\n"
     ]
    },
    {
     "data": {
      "text/plain": [
       "8"
      ]
     },
     "execution_count": 63,
     "metadata": {},
     "output_type": "execute_result"
    }
   ],
   "source": [
    "# Maryland - gas only\n",
    "state = fieldmaps.State('MD', prepend_api = True)\n",
    "layout = {\n",
    "    'api_field': 'Id',\n",
    "    'date_field': 'Date_drill',\n",
    "    'lat_field': 'Y',\n",
    "    'lon_field': 'X',\n",
    "    'status_field': 'Status',\n",
    "    'status_map': {\n",
    "        '?': 'UNKNOWN',\n",
    "        'Abandoned': 'A',\n",
    "        'Active': 'ACTIVE',\n",
    "        'Plugged': 'PA',\n",
    "        'Plugged?': 'PA',\n",
    "        'plugged': 'PA',\n",
    "    },\n",
    "    'type_field': 'Status',\n",
    "    'type_map': {\n",
    "        '?': 'GAS',\n",
    "        'Abandoned': 'GAS',\n",
    "        'Active': 'GAS',\n",
    "        'Plugged': 'GAS',\n",
    "        'Plugged?': 'GAS',\n",
    "        'plugged': 'GAS',\n",
    "    },\n",
    "}\n",
    "wells = fieldmaps.Dataset(state, layout)\n",
    "wells.write_to_db()"
   ]
  },
  {
   "cell_type": "code",
   "execution_count": 44,
   "metadata": {},
   "outputs": [],
   "source": [
    "# Massachusetts - No oil or gas"
   ]
  },
  {
   "cell_type": "code",
   "execution_count": 68,
   "metadata": {},
   "outputs": [
    {
     "name": "stdout",
     "output_type": "stream",
     "text": [
      "Invalid layout. Available source file columns: \n",
      "'', 'BH_CNTY', 'CNTY_NAME', 'OBJECTID', 'PRUName', 'PRUNumber', 'PermDate', 'PlugDate', 'Slant', 'TRS', 'api_wellno', 'bh_lat', 'bh_long', 'bh_mgr_x', 'bh_mgr_y', 'bore_type', 'cnty_fips', 'co_name', 'completion', 'concen_h2s', 'deep_fm', 'deep_fm_cd', 'dtd', 'elev_ref', 'fed_land', 'fieldname', 'fieldtype', 'kotvd', 'lease_name', 'op_no', 'permit_no', 'prod_fm', 'prod_fm_cd', 'qqqs', 'qqs', 'qs', 'ref_tops', 'sidetrck', 'state_land', 'surf_owner', 'tvd', 'twp_name', 'well_no', 'well_stat', 'well_type'\n",
      "\n",
      "Example rows: [OrderedDict([('', '0'), ('BH_CNTY', ''), ('CNTY_NAME', ''), ('OBJECTID', '1'), ('PRUName', ''), ('PRUNumber', ''), ('PermDate', ''), ('PlugDate', ''), ('Slant', 'V'), ('TRS', ''), ('api_wellno', '21001003199000'), ('bh_lat', '44.7351'), ('bh_long', '-83.45521'), ('bh_mgr_x', '701317.24'), ('bh_mgr_y', '467974.61'), ('bore_type', 'Pre-Permit'), ('cnty_fips', ''), ('co_name', 'Kurrasch  H A'), ('completion', '0'), ('concen_h2s', ''), ('deep_fm', 'ANTRIM'), ('deep_fm_cd', 'ANRM'), ('dtd', '729.0'), ('elev_ref', ''), ('fed_land', '0.0'), ('fieldname', ''), ('fieldtype', ''), ('kotvd', ''), ('lease_name', 'Kurrasch, H.A.'), ('op_no', '6186'), ('permit_no', '319'), ('prod_fm', ''), ('prod_fm_cd', ''), ('qqqs', ''), ('qqs', ''), ('qs', ''), ('ref_tops', ''), ('sidetrck', '90'), ('state_land', '0.0'), ('surf_owner', ''), ('tvd', ''), ('twp_name', ''), ('well_no', '1'), ('well_stat', 'Plugging Approved'), ('well_type', 'DH')]), OrderedDict([('', '1'), ('BH_CNTY', ''), ('CNTY_NAME', ''), ('OBJECTID', '2'), ('PRUName', ''), ('PRUNumber', ''), ('PermDate', ''), ('PlugDate', ''), ('Slant', 'V'), ('TRS', ''), ('api_wellno', '21001004539000'), ('bh_lat', '44.71426'), ('bh_long', '-83.33211'), ('bh_mgr_x', '711137.97'), ('bh_mgr_y', '465971.07'), ('bore_type', 'Pre-Permit'), ('cnty_fips', ''), ('co_name', 'ALCONA PROSPECTING CO'), ('completion', '0'), ('concen_h2s', ''), ('deep_fm', 'DETROIT RIVER GROUP'), ('deep_fm_cd', 'DRRV3'), ('dtd', '1710.0'), ('elev_ref', ''), ('fed_land', '0.0'), ('fieldname', ''), ('fieldtype', ''), ('kotvd', ''), ('lease_name', 'Campbell, John'), ('op_no', '6076'), ('permit_no', '453'), ('prod_fm', ''), ('prod_fm_cd', ''), ('qqqs', ''), ('qqs', ''), ('qs', ''), ('ref_tops', 'G'), ('sidetrck', '90'), ('state_land', '0.0'), ('surf_owner', ''), ('tvd', ''), ('twp_name', ''), ('well_no', '1'), ('well_stat', 'Plugging Approved'), ('well_type', 'DH')])]\n",
      "Missing values for: description_layout\n",
      "signed integer is greater than maximum\n",
      "Error converting date for row:\n",
      "\n",
      "OrderedDict([('', '3'), ('BH_CNTY', ''), ('CNTY_NAME', ''), ('OBJECTID', '4'), ('PRUName', ''), ('PRUNumber', ''), ('PermDate', '-1086998400000.0'), ('PlugDate', '460684800000.0'), ('Slant', 'V'), ('TRS', ''), ('api_wellno', '21001026520000'), ('bh_lat', '44.79712'), ('bh_long', '-83.29715'), ('bh_mgr_x', '713601.93'), ('bh_mgr_y', '475264.79'), ('bore_type', 'Oil and Gas Test'), ('cnty_fips', ''), ('co_name', 'KIRKHAM VIRGIL R D'), ('completion', '0'), ('concen_h2s', ''), ('deep_fm', 'TRAVERSE  LIMESTONE'), ('deep_fm_cd', 'TRVR4'), ('dtd', '381.0'), ('elev_ref', ''), ('fed_land', '0.0'), ('fieldname', ''), ('fieldtype', ''), ('kotvd', ''), ('lease_name', 'JOZWIAK'), ('op_no', '1286'), ('permit_no', '2652'), ('prod_fm', ''), ('prod_fm_cd', ''), ('qqqs', ''), ('qqs', ''), ('qs', ''), ('ref_tops', 'G'), ('sidetrck', '0'), ('state_land', '0.0'), ('surf_owner', ''), ('tvd', ''), ('twp_name', ''), ('well_no', '1'), ('well_stat', 'Plugging Approved'), ('well_type', 'DH')])\n",
      "76944 of 80087 rows loaded\n",
      "first item: [{'state': 'MI', 'api': '21001003199000', 'lon': -83.45521, 'lat': 44.7351, 'date': '', 'type': 'DRY HOLE', 'status': 'PA', 'category': None, 'description': None}]\n",
      "loaded 76944 of 76944 records into the database\n"
     ]
    },
    {
     "data": {
      "text/plain": [
       "76944"
      ]
     },
     "execution_count": 68,
     "metadata": {},
     "output_type": "execute_result"
    }
   ],
   "source": [
    "# Michigan\n",
    "# the date fields appear to be all empty. may require some supplemental scraping\n",
    "state = fieldmaps.State('MI')\n",
    "\n",
    "import fieldmaps.mi\n",
    "wells = fieldmaps.Dataset(state, fieldmaps.mi.layout)\n",
    "wells.write_to_db()"
   ]
  },
  {
   "cell_type": "code",
   "execution_count": null,
   "metadata": {},
   "outputs": [],
   "source": [
    "# Minnesota - no oil or gas"
   ]
  },
  {
   "cell_type": "code",
   "execution_count": 69,
   "metadata": {},
   "outputs": [
    {
     "name": "stdout",
     "output_type": "stream",
     "text": [
      "Invalid layout. Available source file columns: \n",
      "'API NUMBER', 'WELL NAME', 'WELL NUMBER', 'OPERATOR', 'STATE', 'COUNTY', 'COMPLETED FORMATION NAME', 'ENCOUNTERED FORMATION NAME', 'STANDARD WELL TYPE DESCRIPTION', 'STANDARD WELL STATUS DESCRIPTION', 'WELLHEAD LATITUDE, DECIMAL DEGREES', 'WELLHEAD LONGITUDE, DECIMAL DEGREES', 'MEASURED DEPTH, FEET', 'TOTAL VERTICAL DEPTH, FEET', 'DRILLING ORIENTATION', 'BASIN NAME', 'FIELD NAME', 'STATE SUBDIVISION', 'FIRST PRODUCTION DATE', 'SPUD DATE', 'FIRST COMPLETION DATE', 'TOP WELL PERFORATION, FEET', 'BOTTOM WELL PERFORATION, FEET', 'FORMATION TOP, FEET', 'FORMATION BOTTOM, FEET', 'IN FRACFOCUS', 'UNDERGROUND SOURCE OF DRINKING WATER', 'LITHOLOGY', 'STATE WELL TYPE', 'STATE WELL STATUS', 'BOTTOM HOLE LATITUDE, DECIMAL DEGREES', 'BOTTOM HOLE LONGITUDE, DECIMAL DEGREES', 'GEODETIC DATUM', 'WELL LOCATION METHOD', 'ELEVATION', 'ELEVATION REFERENCE POINT', 'SECTION', 'TOWNSHIP', 'TOWNSHIP DIRECTION', 'RANGE', 'RANGE DIRECTION', 'MERIDIAN', 'FOOTAGE NORTH OR SOUTH, FEET', 'FOOTAGE EAST OR WEST, FEET', 'CITY', 'ZIP', 'STATUS DATE', 'EAST OR WEST DIRECTION', 'NORTH OR SOUTH DIRECTION', 'STANDARD WELL TYPE CODE', 'STANDARD WELL STATUS CODE', 'WELL LATITUDE IN WGS84 DATUM, DECIMAL DEGREES', 'WELL LONGITUDE IN WGS84 DATUM, DECIMAL DEGREES'\n",
      "\n",
      "Example rows: [OrderedDict([('API NUMBER', '=\"23037215470000\"'), ('WELL NAME', 'Spencer 25-4 1'), ('WELL NUMBER', '1'), ('OPERATOR', 'Moon-hines-tigrett Operating Co., Inc.'), ('STATE', 'Mississippi'), ('COUNTY', 'Franklin'), ('COMPLETED FORMATION NAME', ''), ('ENCOUNTERED FORMATION NAME', ''), ('STANDARD WELL TYPE DESCRIPTION', 'Dry Hole'), ('STANDARD WELL STATUS DESCRIPTION', 'Abandoned:Plugged'), ('WELLHEAD LATITUDE, DECIMAL DEGREES', '31.3777'), ('WELLHEAD LONGITUDE, DECIMAL DEGREES', '-90.6654'), ('MEASURED DEPTH, FEET', '11050'), ('TOTAL VERTICAL DEPTH, FEET', ''), ('DRILLING ORIENTATION', 'Vertical'), ('BASIN NAME', ''), ('FIELD NAME', 'Wildcat'), ('STATE SUBDIVISION', ''), ('FIRST PRODUCTION DATE', ''), ('SPUD DATE', '2015-10-14'), ('FIRST COMPLETION DATE', '2016-01-15'), ('TOP WELL PERFORATION, FEET', '11028'), ('BOTTOM WELL PERFORATION, FEET', '11031'), ('FORMATION TOP, FEET', ''), ('FORMATION BOTTOM, FEET', ''), ('IN FRACFOCUS', 'No'), ('UNDERGROUND SOURCE OF DRINKING WATER', ''), ('LITHOLOGY', ''), ('STATE WELL TYPE', 'Dh - Dry Hole'), ('STATE WELL STATUS', 'Pa - Plugged And Abandoned'), ('BOTTOM HOLE LATITUDE, DECIMAL DEGREES', ''), ('BOTTOM HOLE LONGITUDE, DECIMAL DEGREES', ''), ('GEODETIC DATUM', 'NAD83'), ('WELL LOCATION METHOD', ''), ('ELEVATION', '477'), ('ELEVATION REFERENCE POINT', '0'), ('SECTION', '25'), ('TOWNSHIP', '5'), ('TOWNSHIP DIRECTION', 'N'), ('RANGE', '5'), ('RANGE DIRECTION', 'E'), ('MERIDIAN', ''), ('FOOTAGE NORTH OR SOUTH, FEET', ''), ('FOOTAGE EAST OR WEST, FEET', ''), ('CITY', ''), ('ZIP', '39664'), ('STATUS DATE', '2016-01-27'), ('EAST OR WEST DIRECTION', ''), ('NORTH OR SOUTH DIRECTION', ''), ('STANDARD WELL TYPE CODE', 'DRY'), ('STANDARD WELL STATUS CODE', 'ABN:PLG'), ('WELL LATITUDE IN WGS84 DATUM, DECIMAL DEGREES', ''), ('WELL LONGITUDE IN WGS84 DATUM, DECIMAL DEGREES', '')]), OrderedDict([('API NUMBER', '=\"23037215490000\"'), ('WELL NAME', 'Lehmann 1'), ('WELL NUMBER', '1'), ('OPERATOR', 'Saye Oil Company'), ('STATE', 'Mississippi'), ('COUNTY', 'Franklin'), ('COMPLETED FORMATION NAME', ''), ('ENCOUNTERED FORMATION NAME', ''), ('STANDARD WELL TYPE DESCRIPTION', 'Dry Hole'), ('STANDARD WELL STATUS DESCRIPTION', 'Abandoned:Plugged'), ('WELLHEAD LATITUDE, DECIMAL DEGREES', '31.5467'), ('WELLHEAD LONGITUDE, DECIMAL DEGREES', '-91.0042'), ('MEASURED DEPTH, FEET', ''), ('TOTAL VERTICAL DEPTH, FEET', ''), ('DRILLING ORIENTATION', 'Vertical'), ('BASIN NAME', ''), ('FIELD NAME', 'Wildcat'), ('STATE SUBDIVISION', ''), ('FIRST PRODUCTION DATE', ''), ('SPUD DATE', '2015-09-03'), ('FIRST COMPLETION DATE', ''), ('TOP WELL PERFORATION, FEET', ''), ('BOTTOM WELL PERFORATION, FEET', ''), ('FORMATION TOP, FEET', ''), ('FORMATION BOTTOM, FEET', ''), ('IN FRACFOCUS', 'No'), ('UNDERGROUND SOURCE OF DRINKING WATER', ''), ('LITHOLOGY', ''), ('STATE WELL TYPE', 'Dh - Dry Hole'), ('STATE WELL STATUS', 'Pa - Plugged And Abandoned'), ('BOTTOM HOLE LATITUDE, DECIMAL DEGREES', ''), ('BOTTOM HOLE LONGITUDE, DECIMAL DEGREES', ''), ('GEODETIC DATUM', 'NAD83'), ('WELL LOCATION METHOD', ''), ('ELEVATION', ''), ('ELEVATION REFERENCE POINT', ''), ('SECTION', '34'), ('TOWNSHIP', '7'), ('TOWNSHIP DIRECTION', 'N'), ('RANGE', '2'), ('RANGE DIRECTION', 'E'), ('MERIDIAN', ''), ('FOOTAGE NORTH OR SOUTH, FEET', ''), ('FOOTAGE EAST OR WEST, FEET', ''), ('CITY', ''), ('ZIP', '39661'), ('STATUS DATE', '2015-10-08'), ('EAST OR WEST DIRECTION', ''), ('NORTH OR SOUTH DIRECTION', ''), ('STANDARD WELL TYPE CODE', 'DRY'), ('STANDARD WELL STATUS CODE', 'ABN:PLG'), ('WELL LATITUDE IN WGS84 DATUM, DECIMAL DEGREES', ''), ('WELL LONGITUDE IN WGS84 DATUM, DECIMAL DEGREES', '')])]\n",
      "Missing values for: description_layout\n",
      "22033 of 34586 rows loaded\n",
      "first item: [{'state': 'MS', 'api': '23037215470000', 'lon': -90.6654, 'lat': 31.3777, 'date': datetime.date(2015, 10, 14), 'type': 'DRY HOLE', 'status': 'PA', 'category': None, 'description': None}]\n",
      "loaded 22033 of 22033 records into the database\n"
     ]
    },
    {
     "data": {
      "text/plain": [
       "22033"
      ]
     },
     "execution_count": 69,
     "metadata": {},
     "output_type": "execute_result"
    }
   ],
   "source": [
    "# Mississippi\n",
    "state = fieldmaps.State('MS')\n",
    "layout = {\n",
    "   'date_field': ['SPUD DATE', 'FIRST COMPLETION DATE', 'FIRST PRODUCTION DATE'],\n",
    "    'api_field': 'API NUMBER',\n",
    "    'type_field': 'STANDARD WELL TYPE DESCRIPTION',\n",
    "    'status_field': 'STANDARD WELL STATUS DESCRIPTION',\n",
    "    'lat_field': 'WELLHEAD LATITUDE, DECIMAL DEGREES',\n",
    "    'lon_field': 'WELLHEAD LONGITUDE, DECIMAL DEGREES',\n",
    "    'status_map': {\n",
    "        'Unassigned': 'UNKNOWN',\n",
    "        'Abandoned': 'A',\n",
    "        'Abandoned:Plugged': 'PA',\n",
    "        'Abandoned:Dry Hole': 'A',\n",
    "        'Active:Producing': 'ACTIVE',\n",
    "        'Permit:Active': 'ACTIVE',\n",
    "        'Inactive:Temporarily Abandoned': 'TA',\n",
    "        'Permit:Cancelled Expired': 'CANCELLED',\n",
    "        'Active:Completed': 'ACTIVE',\n",
    "        'Active': 'ACTIVE',\n",
    "        'Inactive': 'A',\n",
    "        'Active:Injecting': 'ACTIVE',\n",
    "    },\n",
    "    'type_map': {\n",
    "        'Other': 'OTHER',\n",
    "        'Gas': 'GAS',\n",
    "        'Unassigned': 'OTHER',\n",
    "        'Oil': 'OIL',\n",
    "        'Observation Monitor Strat Test': 'TEST',\n",
    "        'Gas Storage': 'STORAGE',\n",
    "        'Water Supply': 'WATER',\n",
    "        'Permit': 'UNKNOWN',\n",
    "        'Underground Injection Control:Class 2 Disposal': 'INJECTION',\n",
    "        'Dry Hole': 'DRY HOLE',\n",
    "        'Underground Injection Control:Class 2 Enhanced Recovery': 'INJECTION',\n",
    "        'Underground Injection Control:Class 1': 'INJECTION',\n",
    "    },\n",
    "}\n",
    "#import fieldmaps.ks\n",
    "wells = fieldmaps.Dataset(state, layout)\n",
    "wells.write_to_db()"
   ]
  },
  {
   "cell_type": "code",
   "execution_count": 83,
   "metadata": {},
   "outputs": [
    {
     "name": "stdout",
     "output_type": "stream",
     "text": [
      "10287 of 10471 rows loaded\n",
      "first item: [{'state': 'MO', 'api': '2400100001', 'lon': -92.37907, 'lat': 40.25678, 'date': datetime.date(1939, 9, 1), 'type': 'DRY HOLE', 'status': 'A', 'category': None, 'description': None}]\n",
      "loaded 10287 of 10287 records into the database\n"
     ]
    },
    {
     "data": {
      "text/plain": [
       "10287"
      ]
     },
     "execution_count": 83,
     "metadata": {},
     "output_type": "execute_result"
    }
   ],
   "source": [
    "# Missouri\n",
    "state = fieldmaps.State('MO', strip_whitespace = ['Well Status', 'Well Type'], prepend_api = True)\n",
    "#import fieldmaps.ks\n",
    "layout = {\n",
    "    'api_field': 'API Number',\n",
    "    'date_field': ['Spud Date','Well Status Date'],\n",
    "    'lat_field': 'Well Latitude Decimal',\n",
    "    'lon_field': 'Well Longitude Decimal',\n",
    "    'status_field': 'Well Status',\n",
    "    'status_map': {\n",
    "        'Abandoned': 'A',\n",
    "        'Abandoned, Known Location and Verified': 'A',\n",
    "        'Abandoned, No evidence of existence/ Unable to find': 'A',\n",
    "        'Abandoned, Unknown Location': 'A',\n",
    "        'Active Well': 'ACTIVE',\n",
    "        'Inactive Ð Initial 90 day window': 'TA',\n",
    "        'Plugged - Approved': 'PA',\n",
    "        'Proposed Well (Associated with permit application only)': 'UNKNOWN',\n",
    "        'Shut in - Complete': 'SI',\n",
    "        'Shut in - Extended': 'SI',\n",
    "        'Shut in - Incomplete': 'SI',\n",
    "        'Temporarily Abandoned(Idle)': 'TA',\n",
    "        'Under Construction': 'PERMITTED',\n",
    "        'Unknown Well Status': 'UNKNOWN',\n",
    "        'Water Well Conversion': 'UNKNOWN',\n",
    "    },\n",
    "    'type_field': 'Well Type',\n",
    "    'type_map': {\n",
    "        'Dry Hole': 'DRY HOLE',\n",
    "        'Gas Storage Wells': 'STORAGE',\n",
    "        'Gas(Coalbed Methane)': 'GAS',\n",
    "        'Gas(Convertional, Commercial)': 'GAS',\n",
    "        'Gas(Private Use)': 'GAS',\n",
    "        'Horizontal Oil Well': 'OIL',\n",
    "        'Injection(Class II Disposal)': 'INJECTION',\n",
    "        'Injection(Class II EOR)': 'INJECTION',\n",
    "        'Observation': 'OBSERVATION',\n",
    "        'Oil': 'OIL',\n",
    "        'Stratigraphic Test': 'TEST',\n",
    "        'Stratigraphic Test, None Oil/Gas Related(has geophysical log)': 'TEST',\n",
    "        'Unknown Well Type': 'UNKNOWN',\n",
    "        'Water Well': 'WATER',\n",
    "        'Water Well, None Oil/Gas Related(has geophysical log)': 'WATER',\n",
    "    },\n",
    "}\n",
    "wells = fieldmaps.Dataset(state, layout)\n",
    "wells.write_to_db()"
   ]
  },
  {
   "cell_type": "code",
   "execution_count": 22,
   "metadata": {},
   "outputs": [
    {
     "name": "stdout",
     "output_type": "stream",
     "text": [
      "44513 of 44534 rows loaded\n",
      "first item: [{'state': 'MT', 'api': '25009052950000', 'lon': -108.7862105, 'lat': 45.53405547, 'date': datetime.date(2051, 6, 1), 'type': 'DRY HOLE', 'status': 'PA', 'category': None, 'description': None}]\n",
      "loaded 44513 of 44513 records into the database\n"
     ]
    },
    {
     "data": {
      "text/plain": [
       "44513"
      ]
     },
     "execution_count": 22,
     "metadata": {},
     "output_type": "execute_result"
    }
   ],
   "source": [
    "# Montana\n",
    "state = fieldmaps.State('MT')\n",
    "#import fieldmaps.ks\n",
    "layout = {\n",
    "   'date_field': 'Dt_Cmp',\n",
    "    'api_field': 'API #',\n",
    "    'type_field': 'Well_Type',\n",
    "    'status_field': 'Wl_Status',\n",
    "    'lat_field': 'Wh_Lat',\n",
    "    'lon_field': 'Wh_Long',\n",
    "    'status_map': {\n",
    "        'Abandoned': 'A',\n",
    "        'Abandoned - Unapproved': 'A',\n",
    "        'Active Injection': 'ACTIVE',\n",
    "        'Completed': 'ACTIVE',\n",
    "        'Domestic': 'ACTIVE',\n",
    "        'Expired Permit': 'CANCELLED',\n",
    "        'Expired, Not Released': 'CANCELLED',\n",
    "        'Not Completed': 'PERMITTED',\n",
    "        'Other': 'UNKNOWN',\n",
    "        'P&A - Approved': 'PA',\n",
    "        'Permit to Drill': 'PERMITTED',\n",
    "        'Permitted Injection Well': 'PERMITTED',\n",
    "        'Producing': 'ACTIVE',\n",
    "        'Revoked Inj. Permit': 'CANCELLED',\n",
    "        'Shut In': 'SI',\n",
    "        'Spudded': 'ACTIVE',\n",
    "        'Temporarily Abandoned': 'TA',\n",
    "        'Unknown': 'UNKNOWN',\n",
    "        'Water Well, Completed': 'ACTIVE',\n",
    "        'Water Well, Released': 'ACTIVE',\n",
    "    },\n",
    "    'type_map': {\n",
    "        'Class V Injection': 'INJECTION',\n",
    "        'Coal Bed Methane': 'GAS',\n",
    "        'Domestic Water': 'WATER',\n",
    "        'Dry Hole': 'DRY HOLE',\n",
    "        'Expired Location': 'UNKNOWN',\n",
    "        'Gas': 'GAS',\n",
    "        'Gas Storage': 'STORAGE',\n",
    "        'Injection - Disposal': 'DISPOSAL',\n",
    "        'Injection, EOR': 'INJECTION',\n",
    "        'Injection, Indian Lands': 'INJECTION',\n",
    "        'Monitor/Observation': 'OBSERVATION',\n",
    "        'Oil': 'OIL',\n",
    "        'Oil & Gas': 'OILANDGAS',\n",
    "        'Stratigraphic Test': 'TEST',\n",
    "        'Unknown': 'UNKNOWN',\n",
    "        'Water Source': 'WATER',\n",
    "    },\n",
    "}\n",
    "wells = fieldmaps.Dataset(state, layout)\n",
    "wells.write_to_db()"
   ]
  },
  {
   "cell_type": "code",
   "execution_count": 23,
   "metadata": {},
   "outputs": [
    {
     "name": "stdout",
     "output_type": "stream",
     "text": [
      "20194 of 22253 rows loaded\n",
      "first item: [{'state': 'NE', 'api': '26105074140001', 'lon': -104.053, 'lat': 41.2764, 'date': datetime.date(1981, 5, 2), 'type': 'UNKNOWN', 'status': 'A', 'category': None, 'description': None}]\n",
      "loaded 20194 of 20194 records into the database\n"
     ]
    },
    {
     "data": {
      "text/plain": [
       "20194"
      ]
     },
     "execution_count": 23,
     "metadata": {},
     "output_type": "execute_result"
    }
   ],
   "source": [
    "# Nebraska\n",
    "state = fieldmaps.State('NE')\n",
    "\n",
    "layout = {\n",
    "   'date_field': ['SPUD DATE', 'FIRST COMPLETION DATE', 'FIRST PRODUCTION DATE'],\n",
    "    'api_field': 'API NUMBER',\n",
    "    'type_field': 'STANDARD WELL TYPE DESCRIPTION',\n",
    "    'status_field': 'STANDARD WELL STATUS DESCRIPTION',\n",
    "    'lat_field': 'WELLHEAD LATITUDE, DECIMAL DEGREES',\n",
    "    'lon_field': 'WELLHEAD LONGITUDE, DECIMAL DEGREES',\n",
    "    'status_map': {\n",
    "        'Abandoned': 'A',\n",
    "        'Abandoned:Dry Hole': 'A',\n",
    "        'Abandoned:Plugged': 'PA',\n",
    "        'Active': 'ACTIVE',\n",
    "        'Active:Injecting': 'ACTIVE',\n",
    "        'Active:Producing': 'ACTIVE',\n",
    "        'Inactive': 'A',\n",
    "        'Inactive:Shut In': 'SI',\n",
    "        'Inactive:Temporarily Abandoned': 'TA',\n",
    "        'Permit:Active': 'ACTIVE',\n",
    "        'Permit:Cancelled Expired': 'CANCELLED',\n",
    "        'Unassigned': 'UNKNOWN',\n",
    "        'Unknown': 'UNKNOWN',\n",
    "    },\n",
    "    'type_map': {\n",
    "        'Abandoned': 'UNKNOWN',\n",
    "        'Dry Hole': 'DRY HOLE',\n",
    "        'Gas': 'GAS',\n",
    "        'Gas Storage': 'STORAGE',\n",
    "        'Observation Monitor Strat Test': 'TEST',\n",
    "        'Oil': 'OIL',\n",
    "        'Other': 'OTHER',\n",
    "        'Permit': 'UNKNOWN',\n",
    "        'Unassigned': 'UNKNOWN',\n",
    "        'Underground Injection Control:Class 1': 'INJECTION',\n",
    "        'Underground Injection Control:Class 2': 'INJECTION',\n",
    "        'Underground Injection Control:Class 2 Disposal': 'DISPOSAL',\n",
    "        'Underground Injection Control:Class 2 Enhanced Recovery': 'INJECTION',\n",
    "        'Water Supply': 'WATER',\n",
    "    },\n",
    "}\n",
    "#import fieldmaps.ks\n",
    "wells = fieldmaps.Dataset(state, layout)\n",
    "wells.write_to_db()"
   ]
  },
  {
   "cell_type": "code",
   "execution_count": 26,
   "metadata": {},
   "outputs": [
    {
     "name": "stdout",
     "output_type": "stream",
     "text": [
      "String does not contain a date.\n",
      "Error converting date for row:\n",
      "\n",
      "OrderedDict([('', '1'), ('AL_BOT', '99999.0'), ('API', '  27-003-05057'), ('APROX_UTME', '653587.0'), ('APROX_UTMN', '3987300.0'), ('COMPL_DATE', ' '), ('COUNTY', 'Clark'), ('DISTFROMLI', '200 S,200 W'), ('ELEVATION', '  2,800'), ('LOGS', 'Drillers Log'), ('OBJECTID', '2'), ('OBJECTID_1', ''), ('OIL_FIELD', ' '), ('OPERATOR', 'Hatfield, L.M.'), ('PARTSECT', 'SW/4 SW/4 NW/4'), ('PERMIT', '0.0'), ('PERMIT_ISS', '31 JUL 35'), ('PLOT_SYM', 'Dry Hole'), ('RANGE', '  60E'), ('REMARKS', 'Drillers Log from Lintz, 1957, p. 23-24.'), ('SAMPLES', ' '), ('SECTION_', '20'), ('SHOW', ' '), ('STATUS', 'A'), ('TD', '   707'), ('TD_NUMERIC', '707.0'), ('TESTS', ' '), ('TOPS', ' '), ('TOWNSHIP', '  22S'), ('WELL', 'No. 1')])\n",
      "781 of 1842 rows loaded\n",
      "first item: [{'state': 'NV', 'api': '2700105054', 'lon': 367985.0, 'lat': 4369112.0, 'date': datetime.date(2024, 9, 12), 'type': 'OILANDGAS', 'status': 'PA', 'category': None, 'description': None}]\n",
      "loaded 781 of 781 records into the database\n"
     ]
    },
    {
     "data": {
      "text/plain": [
       "781"
      ]
     },
     "execution_count": 26,
     "metadata": {},
     "output_type": "execute_result"
    }
   ],
   "source": [
    "# Nevada\n",
    "state = fieldmaps.State('NV') # strip_whitespace = ['Well Status', 'Well Type']\n",
    "state.projection = 26910\n",
    "layout = {\n",
    "    'api_field': 'API',\n",
    "    'date_field': 'COMPL_DATE',\n",
    "    'lat_field': 'APROX_UTMN',\n",
    "    'lon_field': 'APROX_UTME',\n",
    "    'status_field': 'STATUS',\n",
    "    'status_map': {\n",
    "        ' ': 'UNKNOWN',\n",
    "        'A': 'A',\n",
    "        'Abandoned': 'A',\n",
    "        'Cancelled': 'CANCELLED',\n",
    "        'D & A': 'A',\n",
    "        'D & A (?)': 'A',\n",
    "        'D & A ?': 'A',\n",
    "        'D&A': 'A',\n",
    "        'D&A(?)': 'A',\n",
    "        'D&A,Water well': 'A',\n",
    "        'Drilled': 'ACTIVE',\n",
    "        'Drilled?': 'ACTIVE',\n",
    "        'Expired': 'CANCELLED',\n",
    "        'Geothermal': 'ACTIVE',\n",
    "        'Geothermal Wel': 'ACTIVE',\n",
    "        'Injection': 'ACTIVE',\n",
    "        'J & A': 'A',\n",
    "        'J & A ?': 'A',\n",
    "        'J&A ?': 'A',\n",
    "        'Lease closed': 'CANCELLED',\n",
    "        'Never Drilled': 'CANCELLED',\n",
    "        'Never drilled': 'CANCELLED',\n",
    "        'Never drilled?': 'CANCELLED',\n",
    "        'P & A': 'PA',\n",
    "        'P & A (?)': 'PA',\n",
    "        'P & A 7/17/95': 'PA',\n",
    "        'P & A 7/27/95': 'PA',\n",
    "        'P&A': 'PA',\n",
    "        'P&A (Producer)': 'PA',\n",
    "        'Permit Revoked': 'CANCELLED',\n",
    "        'Prod?Inject': 'ACTIVE',\n",
    "        'Producer': 'ACTIVE',\n",
    "        'Producer(?)': 'ACTIVE',\n",
    "        'Shut In': 'SI',\n",
    "        'Shut in': 'SI',\n",
    "        'Suspended': 'TA',\n",
    "        'TA': 'TA',\n",
    "        'TA ?': 'TA',\n",
    "        'Temp. Shut In': 'TA',\n",
    "        'Testing': 'ACTIVE',\n",
    "        'Water Disposal': 'ACTIVE',\n",
    "        'Water Well': 'ACTIVE',\n",
    "        'Water well': 'ACTIVE',\n",
    "        'drilled': 'ACTIVE',\n",
    "        'injection': 'ACTIVE',\n",
    "        'injection well': 'ACTIVE',\n",
    "        'producer': 'ACTIVE',\n",
    "        're-entry': 'ACTIVE',\n",
    "        'water well': 'ACTIVE',\n",
    "    },\n",
    "    'type_field': 'SHOW',\n",
    "    'type_map': {\n",
    "        ' ': 'UNKNOWN',\n",
    "        '?': 'UNKNOWN',\n",
    "        'GAS': 'GAS',\n",
    "        'GAS  OIL': 'OILANDGAS',\n",
    "        'GAS  WATER': 'GAS',\n",
    "        'GAS WATER': 'GAS',\n",
    "        'OIL': 'OIL',\n",
    "        'OIL   GAS': 'OILANDGAS',\n",
    "        'OIL  GAS': 'OILANDGAS',\n",
    "        'OIL  GAS  WATER': 'OILANDGAS',\n",
    "        'OIL  WATER': 'OIL',\n",
    "        'OIL  WATER  GAS': 'OILANDGAS',\n",
    "        'OIL  `': 'OIL',\n",
    "        'OIL GAS': 'OIL',\n",
    "        'OIL GAS WATER': 'OILANDGAS',\n",
    "        'OIL WATER': 'OIL',\n",
    "        'OIL, WATER': 'OIL',\n",
    "        'OIL?': 'OIL',\n",
    "        'Oil': 'OIL',\n",
    "        'WATER': 'WATER',\n",
    "        'WATER  GAS': 'GAS',\n",
    "        'WATER  HELIUM G': 'OTHER',\n",
    "        'WATER  OIL': 'OIL',\n",
    "        'WATER  OIL GAS': 'OILANDGAS',\n",
    "        'Water': 'WATER',\n",
    "        'weak oil': 'OIL',\n",
    "    },\n",
    "}\n",
    "#import fieldmaps.ks\n",
    "wells = fieldmaps.Dataset(state, layout)\n",
    "wells.write_to_db()"
   ]
  },
  {
   "cell_type": "code",
   "execution_count": null,
   "metadata": {},
   "outputs": [],
   "source": [
    "# New Hampshire - no oil or gas"
   ]
  },
  {
   "cell_type": "code",
   "execution_count": null,
   "metadata": {},
   "outputs": [],
   "source": [
    "# New Jersey - no oil or gas"
   ]
  },
  {
   "cell_type": "code",
   "execution_count": 32,
   "metadata": {},
   "outputs": [
    {
     "name": "stdout",
     "output_type": "stream",
     "text": [
      "117927 of 117927 rows loaded\n",
      "first item: [{'state': 'NM', 'api': '3001501065', 'lon': -104.2108307, 'lat': 32.5064774, 'date': datetime.date(9999, 12, 31), 'type': 'OIL', 'status': 'PA', 'category': None, 'description': None}]\n",
      "loaded 117927 of 117927 records into the database\n"
     ]
    },
    {
     "data": {
      "text/plain": [
       "117927"
      ]
     },
     "execution_count": 32,
     "metadata": {},
     "output_type": "execute_result"
    }
   ],
   "source": [
    "# New Mexico\n",
    "# I think the data is actually in WGS84 b/c that's how I requested\n",
    "# it from the NM ArcGIS server\n",
    "# status map: ftp://164.64.106.6/Public/OCD/OCD%20GIS%20Data/Metadata/NM_Wells_Metadata.pdf\n",
    "state = fieldmaps.State('NM')\n",
    "layout = {\n",
    "    'api_field': 'API',\n",
    "    'date_field': 'spud_date',\n",
    "    'lat_field': 'latitude',\n",
    "    'lon_field': 'longitude',\n",
    "    'status_field': 'status',\n",
    "    'status_map': {\n",
    "        '0': 'UNKNOWN',\n",
    "        'A': 'ACTIVE',\n",
    "        'C': 'CANCELLED',\n",
    "        'D': 'A',\n",
    "        'E': 'CANCELLED',\n",
    "        'H': 'A',\n",
    "        'N': 'PERMITTED',\n",
    "        'P': 'PA',\n",
    "        'Q': 'PA',\n",
    "        'S': 'SI',\n",
    "        'T': 'TA',\n",
    "        'X': 'PERMITTED',\n",
    "        'Z': 'TA',\n",
    "    },\n",
    "    'type_field': 'well_type',\n",
    "    'type_map': {\n",
    "        'C': 'OILANDGAS',\n",
    "        'G': 'GAS',\n",
    "        'I': 'INJECTION',\n",
    "        'M': 'OTHER',\n",
    "        'O': 'OIL',\n",
    "        'S': 'DISPOSAL',\n",
    "        'W': 'WATER',\n",
    "    },\n",
    "}\n",
    "#import fieldmaps.ks\n",
    "wells = fieldmaps.Dataset(state, layout)\n",
    "wells.write_to_db()"
   ]
  },
  {
   "cell_type": "code",
   "execution_count": 34,
   "metadata": {},
   "outputs": [
    {
     "name": "stdout",
     "output_type": "stream",
     "text": [
      "41802 of 41802 rows loaded\n",
      "first item: [{'state': 'NY', 'api': '31013116250000', 'lon': -79.42551999999999, 'lat': 42.37863, 'date': datetime.date(1975, 10, 1), 'type': 'GAS', 'status': 'ACTIVE', 'category': None, 'description': None}]\n",
      "loaded 41802 of 41802 records into the database\n"
     ]
    },
    {
     "data": {
      "text/plain": [
       "41802"
      ]
     },
     "execution_count": 34,
     "metadata": {},
     "output_type": "execute_result"
    }
   ],
   "source": [
    "# New York\n",
    "state = fieldmaps.State('NY', webdate = True)\n",
    "state.projection = 4269 # NAD83\n",
    "# STATUS CODES LOOKUP https://www.dec.ny.gov/energy/30438.html\n",
    "layout = {\n",
    "    'api_field': 'API_WELLNO',\n",
    "    'date_field': ['DATE_SPUDDED', 'DATE_PERMIT_APPLICATION', 'DATE_WELL_COMPLETED'],\n",
    "    'lat_field': 'SURFACE_LATITUDE',\n",
    "    'lon_field': 'SURFACE_LONGITUDE',\n",
    "    'status_field': 'WELL_STATUS',\n",
    "    'status_map': {\n",
    "        'AC': 'ACTIVE',\n",
    "        'AR': 'UNKNOWN',\n",
    "        'CA': 'CANCELLED',\n",
    "        'CO': 'ACTIVE',\n",
    "        'Confidential': 'ACTIVE',\n",
    "        'DC': 'ACTIVE',\n",
    "        'DD': 'ACTIVE',\n",
    "        'DG': 'ACTIVE',\n",
    "        'EX': 'CANCELLED',\n",
    "        'IN': 'INACTIVE',\n",
    "        'NR': 'UNKNOWN',\n",
    "        'PA': 'PA',\n",
    "        'PB': 'PA',\n",
    "        'PI': 'PERMITTED',\n",
    "        'PM': 'PA',\n",
    "        'RE': 'CANCELLED',\n",
    "        'SI': 'SI',\n",
    "        'TA': 'TA',\n",
    "        'TR': 'UNKNOWN',\n",
    "        'UL': 'UNKNOWN',\n",
    "        'UM': 'UNKNOWN',\n",
    "        'UN': 'UNKNOWN',\n",
    "        'VP': 'CANCELLED',\n",
    "    },\n",
    "    'type_field': 'WELL_TYPE',\n",
    "    'type_map': {\n",
    "        'BR': 'WATER',\n",
    "        'Confidential': 'UNKNOWN',\n",
    "        'DH': 'DRY HOLE',\n",
    "        'DS': 'DISPOSAL',\n",
    "        'DW': 'DRY HOLE',\n",
    "        'GD': 'GAS',\n",
    "        'GE': 'GAS',\n",
    "        'GW': 'GAS',\n",
    "        'IW': 'INJECTION',\n",
    "        'LP': 'STORAGE',\n",
    "        'MB': 'OBSERVATION',\n",
    "        'MM': 'OBSERVATION',\n",
    "        'MS': 'OBSERVATION',\n",
    "        'NL': 'OTHER',\n",
    "        'OD': 'OIL',\n",
    "        'OE': 'OIL',\n",
    "        'OW': 'OIL',\n",
    "        'SG': 'TEST',\n",
    "        'ST': 'STORAGE',\n",
    "        'TH': 'OTHER',\n",
    "    },\n",
    "}\n",
    "#import fieldmaps.ks\n",
    "wells = fieldmaps.Dataset(state, layout)\n",
    "wells.write_to_db()"
   ]
  },
  {
   "cell_type": "code",
   "execution_count": null,
   "metadata": {},
   "outputs": [],
   "source": [
    "# North Carolina - no oil or gas"
   ]
  },
  {
   "cell_type": "code",
   "execution_count": 36,
   "metadata": {},
   "outputs": [
    {
     "name": "stdout",
     "output_type": "stream",
     "text": [
      "Error converting status for row:\n",
      "\n",
      "OrderedDict([('file_no', '34479'), ('api_no', '33-105-04682-00-00'), ('operator', 'WHITING OIL AND GAS CORPORATION'), ('well_name', 'MOEN  41-2-5H'), ('td', '0'), ('spud_date', ''), ('field_name', 'STOCKYARD CREEK'), ('qq', 'LOT1'), ('sec', '2'), ('twp', '154'), ('rng', '99'), ('feet_ns', '365'), ('fnsl', 'N'), ('feet_ew', '570'), ('fewl', 'E'), ('latitude', '48.19687506'), ('longitude', '-103.36874557'), ('well_type', 'OG'), ('status', ''), ('symbol', ''), ('api', '33105046820000'), ('datecreate', ''), ('datemodifi', ''), ('scribe', ''), ('County', 'WILLIAMS')])\n",
      "35153 of 35154 rows loaded\n",
      "first item: [{'state': 'ND', 'api': '33029000020000', 'lon': -100.190907, 'lat': 46.289914, 'date': datetime.date(1950, 2, 19), 'type': 'OILANDGAS', 'status': 'DRY', 'category': None, 'description': None}]\n",
      "loaded 35153 of 35153 records into the database\n"
     ]
    },
    {
     "data": {
      "text/plain": [
       "35153"
      ]
     },
     "execution_count": 36,
     "metadata": {},
     "output_type": "execute_result"
    }
   ],
   "source": [
    "# North Dakota\n",
    "state = fieldmaps.State('ND')\n",
    "# code definitions: https://www.dmr.nd.gov/oilgas/codehelp.asp\n",
    "layout = {\n",
    "    'api_field': 'api',\n",
    "    'date_field': 'spud_date',\n",
    "    'lat_field': 'latitude',\n",
    "    'lon_field': 'longitude',\n",
    "    'status_field': 'status',\n",
    "    'status_map': {\n",
    "        'A': 'ACTIVE',\n",
    "        'AB': 'A',\n",
    "        'Confidential': 'ACTIVE',\n",
    "        'DRL': 'ACTIVE',\n",
    "        'DRY': 'DRY',\n",
    "        'EXP': 'CANCELLED',\n",
    "        'IA': 'INACTIVE',\n",
    "        'IAW': 'INACTIVE',\n",
    "        'LOC': 'PERMITTED',\n",
    "        'LOCR': 'PERMITTED',\n",
    "        'NC': 'PERMITTED',\n",
    "        'NCW': 'PERMITTED',\n",
    "        'PA': 'PA',\n",
    "        'PNC': 'CANCELLED',\n",
    "        'PNS': 'CANCELLED',\n",
    "        'TA': 'TA',\n",
    "        'TAO': 'TA',\n",
    "        'TASC': 'TA',\n",
    "        'TATD': 'TA',\n",
    "    },\n",
    "    'type_field': 'well_type',\n",
    "    'type_map': {\n",
    "        'AGD': 'DISPOSAL',\n",
    "        'AI': 'INJECTION',\n",
    "        'CBM': 'GAS',\n",
    "        'Confidential': 'UNKNOWN',\n",
    "        'DF': 'INJECTION',\n",
    "        'DFP': 'INJECTION',\n",
    "        'GASC': 'GAS',\n",
    "        'GASD': 'GAS',\n",
    "        'GASN': 'GAS',\n",
    "        'GI': 'INJECTION',\n",
    "        'GS': 'STORAGE',\n",
    "        'INJP': 'INJECTION',\n",
    "        'OG': 'OILANDGAS',\n",
    "        'ST': 'TEST',\n",
    "        'SWD': 'DISPOSAL',\n",
    "        'WI': 'INJECTION',\n",
    "        'WS': 'WATER',\n",
    "    },\n",
    "}\n",
    "#import fieldmaps.ks\n",
    "wells = fieldmaps.Dataset(state, layout)\n",
    "wells.write_to_db()"
   ]
  },
  {
   "cell_type": "code",
   "execution_count": 6,
   "metadata": {},
   "outputs": [
    {
     "name": "stdout",
     "output_type": "stream",
     "text": [
      "Error converting status for row:\n",
      "\n",
      "OrderedDict([('', '0'), ('ADDR1', '2045 Morse Rd., Bldg F-2'), ('ADDR2', ''), ('API_WELLNO', '34001200010000'), ('API_WELLNO_LINK', '34001200010000'), ('BH_LAT', ''), ('BH_LONG', ''), ('CITY', 'columbus'), ('CO_NAME', 'UNREGISTERED OWNER'), ('MapSymbol', 'dry_gasshow      '), ('MapSymbol_DESC', 'Dry hole with gas show'), ('Marcellus_Shale', '0'), ('OBJECTID', '1'), ('PHONE', ''), ('ProducingFormation1', ''), ('ProducingFormation2', ''), ('ProposedFormation', ''), ('SLANT', 'V'), ('Utica_Shale', '0'), ('WELL_NM', 'ELLISON FRANK 1'), ('WELL_NO', '1'), ('WH_LAT', '38.70370901154379'), ('WH_LONG', '-83.60375219491999'), ('WL_CNTY', 'ADAMS'), ('WL_STATUS', ''), ('WL_STATUS_DESC', ''), ('WL_TWP', 'SPRIGG'), ('ZIP1', '43229'), ('api', '34001200010000'), ('commenced', '10/6/1958'), ('completed', '11/15/1958'), ('issued', '8/8/1958')])\n",
      "230298 of 235674 rows loaded\n",
      "first item: [{'state': 'OH', 'api': '34001200020000', 'lon': -83.52674019799007, 'lat': 38.71325187307661, 'date': None, 'type': 'DRY HOLE', 'status': 'PA', 'category': None, 'description': None}]\n",
      "loaded 230298 of 230298 records into the database\n"
     ]
    },
    {
     "data": {
      "text/plain": [
       "230298"
      ]
     },
     "execution_count": 6,
     "metadata": {},
     "output_type": "execute_result"
    }
   ],
   "source": [
    "# Ohio\n",
    "state = fieldmaps.State('OH', date_function = lambda x: None)\n",
    "\n",
    "layout = {\n",
    "    'api_field': 'api',\n",
    "    'date_field': ['commenced', 'completed', 'issued'],\n",
    "    'lat_field': 'WH_LAT',\n",
    "    'lon_field': 'WH_LONG',\n",
    "    'status_field': 'WL_STATUS_DESC',\n",
    "    'status_map': {\n",
    "        'Active Injection': 'ACTIVE',\n",
    "        'Cancelled': 'CANCELLED',\n",
    "        'Domestic Well': 'ACTIVE',\n",
    "        'Drilled, Inactive': 'INACTIVE',\n",
    "        'Drilling': 'ACTIVE',\n",
    "        'Dry and Abandoned': 'A',\n",
    "        'Exempt Mississippian Well': 'UNKNOWN',\n",
    "        'Field Inspected, Well Not Found': 'UNKNOWN',\n",
    "        'Final Restoration': 'PA',\n",
    "        'Historical Production Well': 'UNKNOWN',\n",
    "        'Lost Hole': 'UNKNOWN',\n",
    "        'Not Drilled': 'CANCELLED',\n",
    "        'Orphan Well - Pending': 'ORPHAN',\n",
    "        'Orphan Well - Ready': 'ORPHAN',\n",
    "        'Plugged Back': 'PA',\n",
    "        'Plugged and Abandoned': 'PA',\n",
    "        'Producing': 'ACTIVE',\n",
    "        'Replugged Well': 'PA',\n",
    "        'Shut in': 'SI',\n",
    "        'Storage Well': 'ACTIVE',\n",
    "        'Temporary Inactive Well Status 1st Year': 'INACTIVE',\n",
    "        'Temporary Inactive Well Status 2nd Year': 'INACTIVE',\n",
    "        'Temporary Inactive Well Status 3rd Year': 'INACTIVE',\n",
    "        'Unknown status': 'UNKNOWN',\n",
    "        'Well Drilled': 'ACTIVE',\n",
    "        'Well Permitted': 'PERMITTED',\n",
    "    },\n",
    "    'type_field': 'MapSymbol_DESC',\n",
    "    'type_map': {\n",
    "        'Brine for dust control': 'WATER',\n",
    "        'Coalbed methane': 'GAS',\n",
    "        'Dry hole': 'DRY HOLE',\n",
    "        'Dry hole with gas show': 'GAS',\n",
    "        'Dry hole with oil and gas show': 'GAS',\n",
    "        'Dry hole with oil show': 'OIL',\n",
    "        'Expired permit': 'UNKNOWN',\n",
    "        'Gas': 'GAS',\n",
    "        'Gas and oil show': 'OILANDGAS',\n",
    "        'Gas show': 'GAS',\n",
    "        'Gas storage': 'GAS',\n",
    "        'Gas with oil show': 'OILANDGAS',\n",
    "        'Injection': 'INJECTION',\n",
    "        'Lost hole': 'UNKNOWN',\n",
    "        'Observation': 'OBSERVATION',\n",
    "        'Oil': 'OIL',\n",
    "        'Oil and gas': 'OILANDGAS',\n",
    "        'Oil and gas converted to water': 'WATER',\n",
    "        'Oil show': 'OIL',\n",
    "        'Oil with gas show': 'OILANDGAS',\n",
    "        'Permitted location': 'UNKNOWN',\n",
    "        'Plugged brine for dust control': 'WATER',\n",
    "        'Plugged gas': 'GAS',\n",
    "        'Plugged gas with oil show': 'OILANDGAS',\n",
    "        'Plugged injection': 'INJECTION',\n",
    "        'Plugged oil': 'OIL',\n",
    "        'Plugged oil and gas': 'OILANDGAS',\n",
    "        'Plugged oil with gas show': 'OILANDGAS',\n",
    "        'Plugged water supply': 'WATER',\n",
    "        'Plugged with gas show': 'GAS',\n",
    "        'Plugged with oil show': 'OIL',\n",
    "        'Radioactive tools lost in hole': 'UNKNOWN',\n",
    "        'Solution mining': 'UNKNOWN',\n",
    "        'Stratigraphy test': 'TEST',\n",
    "        'Unknown status': 'UNKNOWN',\n",
    "        'Water supply': 'WATER',\n",
    "    },\n",
    "}\n",
    "#import fieldmaps.ks\n",
    "wells = fieldmaps.Dataset(state, layout)\n",
    "wells.write_to_db()"
   ]
  },
  {
   "cell_type": "code",
   "execution_count": 48,
   "metadata": {},
   "outputs": [
    {
     "name": "stdout",
     "output_type": "stream",
     "text": [
      "250247 of 533003 rows loaded\n",
      "first item: [{'state': 'OK', 'api': '35139354890000', 'lon': -101.963, 'lat': 36.8249, 'date': datetime.date(1954, 11, 8), 'type': 'OIL', 'status': 'PA', 'category': None, 'description': None}]\n",
      "loaded 250247 of 250247 records into the database\n"
     ]
    },
    {
     "data": {
      "text/plain": [
       "250247"
      ]
     },
     "execution_count": 48,
     "metadata": {},
     "output_type": "execute_result"
    }
   ],
   "source": [
    "# Oklahoma\n",
    "# about half of Oklahoma's older wells are in TRS coordinates. I know\n",
    "# once upon a time I had a function to convert from TRS to decimal degrees\n",
    "# for the time being, these are getting ignored.\n",
    "# also, unclear if this dataset includes the reservation or not.\n",
    "state = fieldmaps.State('OK')\n",
    "\n",
    "layout = {\n",
    "   'date_field': ['SPUD DATE', 'FIRST COMPLETION DATE', 'FIRST PRODUCTION DATE'],\n",
    "    'api_field': 'API NUMBER',\n",
    "    'type_field': 'STANDARD WELL TYPE DESCRIPTION',\n",
    "    'status_field': 'STANDARD WELL STATUS DESCRIPTION',\n",
    "    'lat_field': 'WELLHEAD LATITUDE, DECIMAL DEGREES',\n",
    "    'lon_field': 'WELLHEAD LONGITUDE, DECIMAL DEGREES',\n",
    "    'status_map': {\n",
    "        'Abandoned:Plugged': 'PA',\n",
    "        'Active': 'ACTIVE',\n",
    "        'Active:Completed': 'ACTIVE',\n",
    "        'Inactive:Temporarily Abandoned': 'TA',\n",
    "        'Permit:Active': 'ACTIVE',\n",
    "        'Permit:Cancelled Expired': 'CANCELLED',\n",
    "        'Unassigned': 'UNKNOWN',\n",
    "        'Unknown': 'UNKNOWN',\n",
    "    },\n",
    "    'type_map': {\n",
    "        'Abandoned': 'UNKNOWN',\n",
    "        'Dry Hole': 'DRY HOLE',\n",
    "        'Gas': 'GAS',\n",
    "        'Gas Storage': 'STORAGE',\n",
    "        'Oil': 'OIL',\n",
    "        'Oil and Gas': 'OILANDGAS',\n",
    "        'Other': 'OTHER',\n",
    "        'Unassigned': 'UNKNOWN',\n",
    "        'Underground Injection Control:Class 2': 'INJECTION',\n",
    "        'Underground Injection Control:Class 2 Disposal': 'DISPOSAL',\n",
    "        'Underground Injection Control:Class 2 Enhanced Recovery': 'INJECTION',\n",
    "        'Unknown': 'UNKNOWN',\n",
    "        'Water Supply': 'WATER',\n",
    "    },\n",
    "}\n",
    "#import fieldmaps.ks\n",
    "wells = fieldmaps.Dataset(state, layout)\n",
    "wells.write_to_db()"
   ]
  },
  {
   "cell_type": "code",
   "execution_count": 53,
   "metadata": {},
   "outputs": [
    {
     "name": "stdout",
     "output_type": "stream",
     "text": [
      "714 of 723 rows loaded\n",
      "first item: [{'state': 'OR', 'api': '3600100003', 'lon': -117.7791061, 'lat': 44.8982391, 'date': datetime.date(2052, 9, 24), 'type': 'OTHER', 'status': 'UNKNOWN', 'category': None, 'description': None}]\n",
      "loaded 714 of 714 records into the database\n"
     ]
    },
    {
     "data": {
      "text/plain": [
       "714"
      ]
     },
     "execution_count": 53,
     "metadata": {},
     "output_type": "execute_result"
    }
   ],
   "source": [
    "# Oregon\n",
    "state = fieldmaps.State('OR')\n",
    "\n",
    "layout = {\n",
    "    'api_field': 'PermitID',\n",
    "    'date_field': 'ApplicationDate',\n",
    "    'lat_field': 'Latitude',\n",
    "    'lon_field': 'Longitude',\n",
    "    'status_field': 'Status',\n",
    "    'status_map': {\n",
    "        'Application': 'UNKNOWN',\n",
    "        'Application Withdrawn': 'CANCELLED',\n",
    "        'Cancelled': 'CANCELLED',\n",
    "        'Closed': 'A',\n",
    "        'Denied': 'CANCELLED',\n",
    "        'Extended to 11/24/83': 'UNKNOWN',\n",
    "        'Extended to 5/28/93': 'UNKNOWN',\n",
    "        'Extended to 7/25/87': 'UNKNOWN',\n",
    "        'Permitted': 'PERMITTED',\n",
    "        'Terminated': 'A',\n",
    "        'Unknown': 'UNKNOWN',\n",
    "        'Withdrawn': 'CANCELLED',\n",
    "    },\n",
    "    'type_field': 'WellType',\n",
    "    'type_map': {\n",
    "        'Dry Hole': 'DRY HOLE',\n",
    "        'Exploration': 'TEST',\n",
    "        'Former producer - plugged': 'OIL',\n",
    "        'Gas Injection/Withdrawal': 'INJECTION',\n",
    "        'Gas Injection/Withdrawl': 'INJECTION',\n",
    "        'Information': 'OBSERVATION',\n",
    "        'Monitoring': 'OBSERVATION',\n",
    "        'Never produced - plugged ': 'OIL',\n",
    "        'Not Drilled': 'UNKNOWN',\n",
    "        'Not drilled': 'UNKNOWN',\n",
    "        'Observation': 'OBSERVATION',\n",
    "        'Observation well': 'OBSERVATION',\n",
    "        'Producer': 'OIL',\n",
    "        'Water Disposal': 'WATER',\n",
    "    },\n",
    "}\n",
    "#import fieldmaps.ks\n",
    "wells = fieldmaps.Dataset(state, layout)\n",
    "wells.write_to_db()"
   ]
  },
  {
   "cell_type": "code",
   "execution_count": 54,
   "metadata": {},
   "outputs": [
    {
     "name": "stdout",
     "output_type": "stream",
     "text": [
      "Wrote description for PA to database\n",
      "143936 of 204142 rows loaded\n",
      "first item: [{'state': 'PA', 'api': '00300921', 'lon': -80.139878, 'lat': 40.529608, 'date': None, 'type': 'OIL', 'status': 'ACTIVE', 'category': 'CONVENTIONAL', 'description': 'County: Allegheny\\nOperator Name: DANIEL J NADLER\\nOGO No: OGO-32546\\nMunicipality: Aleppo Twp\\nFarm Name: ZACHARY NADLER 1\\nWell Configuration: Vertical Well'}]\n",
      "loaded 143936 of 143936 records into the database\n"
     ]
    },
    {
     "data": {
      "text/plain": [
       "143936"
      ]
     },
     "execution_count": 54,
     "metadata": {},
     "output_type": "execute_result"
    }
   ],
   "source": [
    "# Pennsylvania\n",
    "state = fieldmaps.State('PA')\n",
    "state.source_url = 'http://www.depreportingservices.state.pa.us/ReportServer/Pages/ReportViewer.aspx?/Oil_Gas/Spud_External_Data'\n",
    "state.description = \"\"\"\n",
    "Data downloaded in CSV form based on setting SPUD BEGIN DATE = 1/1/1800 and SPUD END DATE = 12/31/2099\n",
    "Represents 142,788, of which 110,000 have dates wells.\n",
    "\"\"\"\n",
    "state.write_to_db()\n",
    "\n",
    "layout = {\n",
    "    'date_field': 'SPUD_DATE',\n",
    "    'api_field': 'API',\n",
    "    'type_field': 'WELL_CODE_DESC',\n",
    "    'status_field': 'WELL_STATUS',\n",
    "    'category_field': 'UNCONVENTIONAL',\n",
    "    'lat_field': 'LATITUDE',\n",
    "    'lon_field': 'LONGITUDE',\n",
    "    'description_layout': '\\n'.join(['County: %s',\n",
    "                             'Operator Name: %s',\n",
    "                             'OGO No: %s',\n",
    "                             'Municipality: %s',\n",
    "                             'Farm Name: %s',\n",
    "                             'Well Configuration: %s'\n",
    "                            ]),\n",
    "    'description_fields': ['COUNTY', 'OPERATOR', 'OGO_NUM', 'MUNICIPALITY', 'FARM_NAME', 'CONFIGURATION'],\n",
    "    'type_map': {\n",
    "        'UNDETERMINED': 'OTHER',\n",
    "        'MULTIPLE WELL BORE TYPE': 'OTHER',\n",
    "        'OIL': 'OIL',\n",
    "        'OBSERVATION': 'OBSERVATION',\n",
    "        'DRY HOLE': 'DRY HOLE',\n",
    "        'COALBED METHANE': 'GAS',\n",
    "        'GAS': 'GAS',\n",
    "        'COMB. OIL&GAS': 'OILANDGAS',\n",
    "        'STORAGE WELL': 'STORAGE',\n",
    "        'WASTE DISPOSAL': 'DISPOSAL',\n",
    "        'INJECTION': 'INJECTION',\n",
    "        'TEST WELL': 'TEST',\n",
    "    },\n",
    "\n",
    "    'status_map': {\n",
    "        'DEP Abandoned List': 'ORPHAN',\n",
    "        'Plugged OG Well': 'PA',\n",
    "        'DEP Orphan List': 'ORPHAN',\n",
    "        'DEP Plugged': 'PA',\n",
    "        'Regulatory Inactive Status': 'UNKNOWN',\n",
    "        'Operator Reported Not Drilled': 'CANCELLED',\n",
    "        'Proposed But Never Materialized': 'CANCELLED',\n",
    "        'Active': 'ACTIVE',\n",
    "        'Abandoned': 'PA',\n",
    "    },\n",
    "\n",
    "    'category_map': {\n",
    "        'Yes': 'UNCONVENTIONAL',\n",
    "        'No': 'CONVENTIONAL',\n",
    "    },\n",
    "\n",
    "}\n",
    "\n",
    "wells = fieldmaps.Dataset(state, layout)\n",
    "wells.write_to_db()"
   ]
  },
  {
   "cell_type": "code",
   "execution_count": null,
   "metadata": {},
   "outputs": [],
   "source": [
    "# Rhode Island - no oil or gas"
   ]
  },
  {
   "cell_type": "code",
   "execution_count": null,
   "metadata": {},
   "outputs": [],
   "source": [
    "# South Carolina - No oil or gas"
   ]
  },
  {
   "cell_type": "code",
   "execution_count": 60,
   "metadata": {},
   "outputs": [
    {
     "name": "stdout",
     "output_type": "stream",
     "text": [
      "2104 of 2104 rows loaded\n",
      "first item: [{'state': 'SD', 'api': '4000305001', 'lon': -98.403639, 'lat': 43.788912, 'date': datetime.date(2045, 5, 28), 'type': 'TEST', 'status': 'PA', 'category': None, 'description': None}]\n",
      "loaded 2104 of 2104 records into the database\n"
     ]
    },
    {
     "data": {
      "text/plain": [
       "2104"
      ]
     },
     "execution_count": 60,
     "metadata": {},
     "output_type": "execute_result"
    }
   ],
   "source": [
    "# South Dakota\n",
    "state = fieldmaps.State('SD')\n",
    "state.projection = 4269 # NAD83\n",
    "layout = {\n",
    "    'api_field': 'API Number',\n",
    "    'date_field': ['Spud Date', 'Date Permit Issued'],\n",
    "    'lat_field': 'Latitude (GCS83)',\n",
    "    'lon_field': 'Longitude (GCS83)',\n",
    "    'status_field': 'Administrative Status',\n",
    "    'status_map': {\n",
    "        'Abandoned-Not Regulated': 'A',\n",
    "        'Converted-Domestic Gas': 'ACTIVE',\n",
    "        'Converted-Fresh Water Supply': 'ACTIVE',\n",
    "        'Converted-Water Supply-Injection': 'ACTIVE',\n",
    "        'Injecting': 'ACTIVE',\n",
    "        'Never drilled': 'CANCELLED',\n",
    "        'Not Spudded': 'PERMITTED',\n",
    "        'Plugged and Abandoned': 'PA',\n",
    "        'Producing': 'ACTIVE',\n",
    "        'Shut In': 'SI',\n",
    "        'Temporarily Abandoned': 'TA',\n",
    "    },\n",
    "    'type_field': 'Permitted Well Type',\n",
    "    'type_map': {\n",
    "        'Gas': 'GAS',\n",
    "        'Injection': 'INJECTION',\n",
    "        'Injection-Horizontal': 'INJECTION',\n",
    "        'Oil': 'OIL',\n",
    "        'Oil and Gas Exploration': 'TEST',\n",
    "        'Oil-Horizontal': 'OIL',\n",
    "    },\n",
    "}\n",
    "#import fieldmaps.ks\n",
    "wells = fieldmaps.Dataset(state, layout)\n",
    "wells.write_to_db()"
   ]
  },
  {
   "cell_type": "code",
   "execution_count": 61,
   "metadata": {},
   "outputs": [
    {
     "name": "stdout",
     "output_type": "stream",
     "text": [
      "Wrote description for TN to database\n",
      "Error converting status for row:\n",
      "\n",
      "OrderedDict([('County', 'Overton'), ('EFO Name', 'Cookeville'), ('Permit Date', '21-MAR-1994'), ('Permit No', '0008788'), ('API No', '133-21202'), ('Operator Name', 'Southeastern Oil Corp./Smithco'), ('Well Name and Number', 'BROWN WAYNE #2'), ('Latitude', '36.430083'), ('Longitude', '-85.324472'), ('Elevation', '1368'), ('Formation at Total Depth', ''), ('Purpose af Well', '')])\n",
      "10185 of 16144 rows loaded\n",
      "first item: [{'state': 'TN', 'api': '02720603R1', 'lon': -85.340056, 'lat': 36.533389, 'date': datetime.date(2018, 2, 23), 'type': 'OIL', 'status': 'ACTIVE', 'category': None, 'description': 'County: Clay\\nOperator Name: John Henry Oil Corporation\\nPermit No: 0012939\\nWell Name and Number: W. C. Vaughn #2\\nEFO Name: Cookeville'}]\n",
      "loaded 10185 of 10185 records into the database\n"
     ]
    },
    {
     "data": {
      "text/plain": [
       "10185"
      ]
     },
     "execution_count": 61,
     "metadata": {},
     "output_type": "execute_result"
    }
   ],
   "source": [
    "# Tennessee\n",
    "state = fieldmaps.State('TN')\n",
    "\n",
    "state.description = \"\"\"\n",
    "Tennessee's Department of Environment & Conservation does not \n",
    "doesn't make a lot of details available (no spud date, well status). The dates recorded are the \n",
    "Permit Date. Status is set to unknown for all wells. Per their website, \n",
    "<i>\"This minimal permit information is intended to allow the public to easily track the number and \n",
    "locations of oil and gas well permits issued. For more detailed information about a specific well, \n",
    "contact the Oil and Gas program staff at 615-687-7109 . Permit files can be accessed by visiting \n",
    "the Oil and Gas Section at the Nashville Environmental Field Office in Nashville, TN 37243.\"</i>\n",
    "\"\"\"\n",
    "state.source_url = 'http://environment-online.state.tn.us:8080/pls/enf_reports/f?p=9034:34300:0::NO:::'\n",
    "state.write_to_db()\n",
    "\n",
    "layout = {\n",
    "    'date_field': 'Permit Date',\n",
    "    'api_field': 'API No',\n",
    "    'type_field': 'Purpose af Well',\n",
    "    'status_field': 'Purpose af Well',\n",
    "    'lat_field': 'Latitude',\n",
    "    'lon_field': 'Longitude',\n",
    "    'description_layout': '\\n'.join(['County: %s',\n",
    "                             'Operator Name: %s',\n",
    "                             'Permit No: %s',\n",
    "                             'Well Name and Number: %s',\n",
    "                             'EFO Name: %s'\n",
    "                            ]),\n",
    "    'description_fields': ['County', 'Operator Name', 'Permit No', 'Well Name and Number', 'EFO Name'],\n",
    "    'type_map': {\n",
    "        'Gas': 'GAS',\n",
    "        'Mineral Core Test': 'TEST',\n",
    "        'NCG - Domestic Use': 'GAS',\n",
    "        'Oil': 'OIL',\n",
    "        'Oil And Gas': 'OILANDGAS',\n",
    "    },\n",
    "    'status_map': {\n",
    "        'Gas': 'ACTIVE',\n",
    "        'Mineral Core Test': 'UNKNOWN',\n",
    "        'NCG - Domestic Use': 'ACTIVE',\n",
    "        'Oil': 'ACTIVE',\n",
    "        'Oil And Gas': 'ACTIVE',\n",
    "    },\n",
    "}\n",
    "\n",
    "wells = fieldmaps.Dataset(state, layout)\n",
    "wells.write_to_db()"
   ]
  },
  {
   "cell_type": "code",
   "execution_count": 64,
   "metadata": {},
   "outputs": [
    {
     "name": "stdout",
     "output_type": "stream",
     "text": [
      "Missing or invalid type_map.\n",
      "valid options: {'WATER', 'OBSERVATION', 'GAS', 'TEST', 'OIL', 'UNKNOWN', 'SERVICE', 'OTHER', 'STORAGE', 'OILANDGAS', 'DRY HOLE', 'INJECTION', 'DISPOSAL'}\n",
      "    'type_map': {\n",
      "        'Brine Mining': '',\n",
      "        'Brine Mining / Oil': '',\n",
      "        'Brine Mining / Oil / Gas': '',\n",
      "        'Canceled / Abandoned Location': '',\n",
      "        'Core Test': '',\n",
      "        'Dry Hole': 'DRY HOLE',\n",
      "        'Gas Well': '',\n",
      "        'Geothermal Well': '',\n",
      "        'Injection / Disposal': '',\n",
      "        'Injection / Disposal from Gas': '',\n",
      "        'Injection / Disposal from Oil': '',\n",
      "        'Injection / Disposal from Oil/Gas': '',\n",
      "        'Injection/Disposal from Brine Mining': '',\n",
      "        'Injection/Disposal from Brine Mining / Gas': '',\n",
      "        'Injection/Disposal from Storage': '',\n",
      "        'Injection/Disposal from Storage/Brine Mining': '',\n",
      "        'Injection/Disposal from Storage/Gas': '',\n",
      "        'Injection/Disposal from Storage/Oil': '',\n",
      "        'Observation Well': '',\n",
      "        'Observation from Gas': '',\n",
      "        'Observation from Oil': '',\n",
      "        'Observation from Oil / Gas': '',\n",
      "        'Observation from Storage': '',\n",
      "        'Observation from Storage/Gas': '',\n",
      "        'Observation from Storage/Oil': '',\n",
      "        'Oil Well': '',\n",
      "        'Oil/Gas Well': '',\n",
      "        'Permitted Location': '',\n",
      "        'Plugged Brine Mining': '',\n",
      "        'Plugged Gas Well': '',\n",
      "        'Plugged Oil / Gas': '',\n",
      "        'Plugged Oil Well': '',\n",
      "        'Plugged Storage': '',\n",
      "        'Plugged Storage/Brine Mining': '',\n",
      "        'Plugged Storage/Gas': '',\n",
      "        'Plugged Storage/Oil': '',\n",
      "        'Service': 'SERVICE',\n",
      "        'Service from Brine Mining': '',\n",
      "        'Service from Oil': '',\n",
      "        'Service from Oil / Gas': '',\n",
      "        'Service from Storage/Gas': '',\n",
      "        'Shut-In Gas': '',\n",
      "        'Shut-In Oil': '',\n",
      "        'Storage Well': '',\n",
      "        'Storage from Gas': '',\n",
      "        'Storage from Oil': '',\n",
      "        'Storage from Oil/Gas': '',\n",
      "        'Storage/Brine Mining': '',\n",
      "        'Sulfur Core Test': '',\n",
      "        'Water Supply Well': '',\n",
      "        'Water Supply from Gas': '',\n",
      "        'Water Supply from Oil': '',\n",
      "        'Water Supply from Oil/Gas': '',\n",
      "    },\n",
      "Missing or invalid status map.\n",
      "valid options: {'ORPHAN', 'PERMITTED', 'CANCELLED', 'ACTIVE', 'UNKNOWN', 'TA', 'PA', 'DRY', 'A', 'SI', 'INACTIVE'}\n",
      "    'status_map': {\n",
      "        '10': '',\n",
      "        '103': '',\n",
      "        '104': '',\n",
      "        '105': '',\n",
      "        '106': '',\n",
      "        '108': '',\n",
      "        '109': '',\n",
      "        '11': '',\n",
      "        '110': '',\n",
      "        '114': '',\n",
      "        '116': '',\n",
      "        '117': '',\n",
      "        '118': '',\n",
      "        '12': '',\n",
      "        '121': '',\n",
      "        '123': '',\n",
      "        '124': '',\n",
      "        '126': '',\n",
      "        '132': '',\n",
      "        '136': '',\n",
      "        '140': '',\n",
      "        '144': '',\n",
      "        '152': '',\n",
      "        '16': '',\n",
      "        '17': '',\n",
      "        '18': '',\n",
      "        '19': '',\n",
      "        '2': '',\n",
      "        '20': '',\n",
      "        '21': '',\n",
      "        '22': '',\n",
      "        '23': '',\n",
      "        '3': '',\n",
      "        '36': '',\n",
      "        '4': '',\n",
      "        '5': '',\n",
      "        '6': '',\n",
      "        '7': '',\n",
      "        '73': '',\n",
      "        '74': '',\n",
      "        '75': '',\n",
      "        '76': '',\n",
      "        '77': '',\n",
      "        '78': '',\n",
      "        '79': '',\n",
      "        '8': '',\n",
      "        '80': '',\n",
      "        '81': '',\n",
      "        '88': '',\n",
      "        '89': '',\n",
      "        '9': '',\n",
      "        '90': '',\n",
      "        '92': '',\n",
      "    },\n",
      "data not ready\n"
     ]
    },
    {
     "data": {
      "text/plain": [
       "False"
      ]
     },
     "execution_count": 64,
     "metadata": {},
     "output_type": "execute_result"
    }
   ],
   "source": [
    "# Texas\n",
    "# ug - no date field\n",
    "state = fieldmaps.State('TX', prepend_api = True, date_function = lambda x: None)\n",
    "state.projection = 4269 # NAD83\n",
    "layout = {\n",
    "    'api_field': 'API',\n",
    "    'date_field': 'API',\n",
    "    'lat_field': 'GIS_LAT83',\n",
    "    'lon_field': 'GIS_LONG83',\n",
    "    'status_field': 'SYMNUM',\n",
    "    'status_map': None,\n",
    "    'type_field': 'GIS_SYMBOL_DESCRIPTION',\n",
    "    'type_map': None\n",
    "}\n",
    "#import fieldmaps.ks\n",
    "wells = fieldmaps.Dataset(state, layout)\n",
    "wells.write_to_db()"
   ]
  },
  {
   "cell_type": "code",
   "execution_count": 5,
   "metadata": {},
   "outputs": [],
   "source": [
    "importlib.reload(fieldmaps)\n",
    "\n",
    "layout = {\n",
    "    'api_field': '',\n",
    "    'date_field': '',\n",
    "    'lat_field': '',\n",
    "    'lon_field': '',\n",
    "    'status_field': '',\n",
    "    'status_map': None,\n",
    "    'type_field': '',\n",
    "    'type_map': None\n",
    "}"
   ]
  },
  {
   "cell_type": "code",
   "execution_count": 13,
   "metadata": {},
   "outputs": [
    {
     "name": "stdout",
     "output_type": "stream",
     "text": [
      "Missing layout.\n",
      "\n",
      "{'api_field': '', 'date_field': '', 'lat_field': '', 'lon_field': '', 'status_field': '', 'status_map': None, 'type_field': '', 'type_map': None}\n",
      "Invalid layout. Available source file columns: \n",
      "'X', 'Y', 'API', 'WellName', 'Operator', 'OperatorNo', 'FieldName', 'Ground_Ele', 'Kelly_Elev', 'DrkFloor_E', 'CoordsSurf', 'CoordsSu_1', 'UTMZone', 'Latitude', 'Longitude', 'FootageNS', 'Dir_NS', 'FootageEW', 'Dir_EW', 'QtrQtr', 'Section', 'Township', 'TownshipDi', 'Range', 'RangeDir', 'Meridian', 'County', 'Dir_Horiz', 'Dir_Vert', 'Dir_Direct', 'Confidenti', 'ConfRelDat', 'LeaseNumbe', 'LeaseType', 'SurfaceOwn', 'AbandonDat', 'WellStatus', 'WellType', 'TotCum_Oil', 'TotCum_Gas', 'TotCum_Wat', 'IndianTrib', 'Multi_Lats', 'OriginalFi', 'UnitName', 'GISStatusT', 'OrigComplD', 'JURISDICTI'\n",
      "\n",
      "Example rows: [OrderedDict([('X', '-109.838316612021'), ('Y', '40.3801299206766'), ('API', '4304710581'), ('WellName', 'ROSEMARY LLOYD 1'), ('Operator', 'HUMBLE OIL & REFINING CO'), ('OperatorNo', '101083'), ('FieldName', 'BLUEBELL'), ('Ground_Ele', '0.00000000000'), ('Kelly_Elev', '5471.00000000000'), ('DrkFloor_E', '0.00000000000'), ('CoordsSurf', '4470597.00000000000'), ('CoordsSu_1', '598610.00000000000'), ('UTMZone', '12'), ('Latitude', '40.38013077000'), ('Longitude', '-109.83831787000'), ('FootageNS', '1980'), ('Dir_NS', 'FSL'), ('FootageEW', '660'), ('Dir_EW', 'FWL'), ('QtrQtr', 'NWSW'), ('Section', '24'), ('Township', '1.00000000000'), ('TownshipDi', 'S'), ('Range', '1.00000000000'), ('RangeDir', 'E'), ('Meridian', 'U'), ('County', 'UINTAH'), ('Dir_Horiz', 'N'), ('Dir_Vert', 'N'), ('Dir_Direct', 'N'), ('Confidenti', 'No'), ('ConfRelDat', ''), ('LeaseNumbe', 'FEE'), ('LeaseType', 'Fee'), ('SurfaceOwn', 'Fee'), ('AbandonDat', '1952/10/26'), ('WellStatus', 'PA'), ('WellType', 'D'), ('TotCum_Oil', '0.00000000000'), ('TotCum_Gas', '0.00000000000'), ('TotCum_Wat', '0.00000000000'), ('IndianTrib', ''), ('Multi_Lats', '0'), ('OriginalFi', 'Development'), ('UnitName', ''), ('GISStatusT', 'PA'), ('OrigComplD', '1952/10/26'), ('JURISDICTI', 'state')]), OrderedDict([('X', '-109.574292735646'), ('Y', '39.8444017548831'), ('API', '4304710588'), ('WellName', 'WILLOW CREEK 1'), ('Operator', 'HUMBLE OIL & REFINING CO'), ('OperatorNo', '101083'), ('FieldName', 'LOVE'), ('Ground_Ele', '0.00000000000'), ('Kelly_Elev', '0.00000000000'), ('DrkFloor_E', '5743.00000000000'), ('CoordsSurf', '4411460.00000000000'), ('CoordsSu_1', '621976.00000000000'), ('UTMZone', '12'), ('Latitude', '39.84439850000'), ('Longitude', '-109.57428741000'), ('FootageNS', '1980'), ('Dir_NS', 'FSL'), ('FootageEW', '2130'), ('Dir_EW', 'FWL'), ('QtrQtr', 'NESW'), ('Section', '21'), ('Township', '11.00000000000'), ('TownshipDi', 'S'), ('Range', '21.00000000000'), ('RangeDir', 'E'), ('Meridian', 'S'), ('County', 'UINTAH'), ('Dir_Horiz', 'N'), ('Dir_Vert', 'N'), ('Dir_Direct', 'N'), ('Confidenti', 'No'), ('ConfRelDat', ''), ('LeaseNumbe', 'SL-066610'), ('LeaseType', 'Federal'), ('SurfaceOwn', 'Federal'), ('AbandonDat', '1952/02/06'), ('WellStatus', 'PA'), ('WellType', 'OW'), ('TotCum_Oil', '0.00000000000'), ('TotCum_Gas', '0.00000000000'), ('TotCum_Wat', '0.00000000000'), ('IndianTrib', ''), ('Multi_Lats', '0'), ('OriginalFi', 'Wildcat'), ('UnitName', ''), ('GISStatusT', 'PA'), ('OrigComplD', '1952/02/06'), ('JURISDICTI', 'state')])]\n",
      "data not ready\n"
     ]
    },
    {
     "data": {
      "text/plain": [
       "False"
      ]
     },
     "execution_count": 13,
     "metadata": {},
     "output_type": "execute_result"
    }
   ],
   "source": [
    "# Utah\n",
    "state = fieldmaps.State('UT')\n",
    "\n",
    "layout = {\n",
    "   'date_field': ['SPUD DATE', 'FIRST COMPLETION DATE', 'FIRST PRODUCTION DATE'],\n",
    "    'api_field': 'API NUMBER',\n",
    "    'type_field': 'STANDARD WELL TYPE DESCRIPTION',\n",
    "    'status_field': 'STANDARD WELL STATUS DESCRIPTION',\n",
    "    'lat_field': 'WELLHEAD LATITUDE, DECIMAL DEGREES',\n",
    "    'lon_field': 'WELLHEAD LONGITUDE, DECIMAL DEGREES',\n",
    "    'status_map': None,\n",
    "    'type_map': None\n",
    "}\n",
    "#import fieldmaps.ks\n",
    "wells = fieldmaps.Dataset(state, )\n",
    "wells.write_to_db()"
   ]
  },
  {
   "cell_type": "code",
   "execution_count": null,
   "metadata": {},
   "outputs": [],
   "source": [
    "# Vermont - no oil or gas"
   ]
  },
  {
   "cell_type": "code",
   "execution_count": 12,
   "metadata": {},
   "outputs": [
    {
     "ename": "NameError",
     "evalue": "name 'filename' is not defined",
     "output_type": "error",
     "traceback": [
      "\u001b[0;31m---------------------------------------------------------------------------\u001b[0m",
      "\u001b[0;31mFileNotFoundError\u001b[0m                         Traceback (most recent call last)",
      "\u001b[0;32m~/projects/drilling-data-tools/national-database/fieldmaps/__init__.py\u001b[0m in \u001b[0;36mload_data\u001b[0;34m(self)\u001b[0m\n\u001b[1;32m    105\u001b[0m         \u001b[0;32mtry\u001b[0m\u001b[0;34m:\u001b[0m\u001b[0;34m\u001b[0m\u001b[0m\n\u001b[0;32m--> 106\u001b[0;31m             \u001b[0;32mwith\u001b[0m \u001b[0mopen\u001b[0m\u001b[0;34m(\u001b[0m\u001b[0mself\u001b[0m\u001b[0;34m.\u001b[0m\u001b[0mfilename\u001b[0m\u001b[0;34m,\u001b[0m \u001b[0;34m'r'\u001b[0m\u001b[0;34m)\u001b[0m \u001b[0;32mas\u001b[0m \u001b[0mf\u001b[0m\u001b[0;34m:\u001b[0m\u001b[0;34m\u001b[0m\u001b[0m\n\u001b[0m\u001b[1;32m    107\u001b[0m                 \u001b[0mreader\u001b[0m \u001b[0;34m=\u001b[0m \u001b[0mcsv\u001b[0m\u001b[0;34m.\u001b[0m\u001b[0mDictReader\u001b[0m\u001b[0;34m(\u001b[0m\u001b[0mf\u001b[0m\u001b[0;34m)\u001b[0m\u001b[0;34m\u001b[0m\u001b[0m\n",
      "\u001b[0;31mFileNotFoundError\u001b[0m: [Errno 2] No such file or directory: 'csvs/va-data.csv'",
      "\nDuring handling of the above exception, another exception occurred:\n",
      "\u001b[0;31mNameError\u001b[0m                                 Traceback (most recent call last)",
      "\u001b[0;32m<ipython-input-12-12fac56c3445>\u001b[0m in \u001b[0;36m<module>\u001b[0;34m()\u001b[0m\n\u001b[1;32m      1\u001b[0m \u001b[0;31m# Virginia\u001b[0m\u001b[0;34m\u001b[0m\u001b[0;34m\u001b[0m\u001b[0m\n\u001b[0;32m----> 2\u001b[0;31m \u001b[0mstate\u001b[0m \u001b[0;34m=\u001b[0m \u001b[0mfieldmaps\u001b[0m\u001b[0;34m.\u001b[0m\u001b[0mState\u001b[0m\u001b[0;34m(\u001b[0m\u001b[0;34m'VA'\u001b[0m\u001b[0;34m)\u001b[0m\u001b[0;34m\u001b[0m\u001b[0m\n\u001b[0m\u001b[1;32m      3\u001b[0m \u001b[0;34m\u001b[0m\u001b[0m\n\u001b[1;32m      4\u001b[0m layout = {\n\u001b[1;32m      5\u001b[0m    \u001b[0;34m'date_field'\u001b[0m\u001b[0;34m:\u001b[0m \u001b[0;34m[\u001b[0m\u001b[0;34m'SPUD DATE'\u001b[0m\u001b[0;34m,\u001b[0m \u001b[0;34m'FIRST COMPLETION DATE'\u001b[0m\u001b[0;34m,\u001b[0m \u001b[0;34m'FIRST PRODUCTION DATE'\u001b[0m\u001b[0;34m]\u001b[0m\u001b[0;34m,\u001b[0m\u001b[0;34m\u001b[0m\u001b[0m\n",
      "\u001b[0;32m~/projects/drilling-data-tools/national-database/fieldmaps/__init__.py\u001b[0m in \u001b[0;36m__init__\u001b[0;34m(self, state, **kwargs)\u001b[0m\n\u001b[1;32m     97\u001b[0m             \u001b[0mself\u001b[0m\u001b[0;34m.\u001b[0m\u001b[0mdate_function\u001b[0m \u001b[0;34m=\u001b[0m \u001b[0;32mlambda\u001b[0m \u001b[0mx\u001b[0m\u001b[0;34m:\u001b[0m \u001b[0mdatetime\u001b[0m\u001b[0;34m.\u001b[0m\u001b[0mfromtimestamp\u001b[0m\u001b[0;34m(\u001b[0m\u001b[0mint\u001b[0m\u001b[0;34m(\u001b[0m\u001b[0mfloat\u001b[0m\u001b[0;34m(\u001b[0m\u001b[0mx\u001b[0m\u001b[0;34m)\u001b[0m\u001b[0;34m)\u001b[0m\u001b[0;34m/\u001b[0m\u001b[0;36m1000\u001b[0m\u001b[0;34m)\u001b[0m\u001b[0;34m\u001b[0m\u001b[0m\n\u001b[1;32m     98\u001b[0m \u001b[0;34m\u001b[0m\u001b[0m\n\u001b[0;32m---> 99\u001b[0;31m         \u001b[0mself\u001b[0m\u001b[0;34m.\u001b[0m\u001b[0mload_data\u001b[0m\u001b[0;34m(\u001b[0m\u001b[0;34m)\u001b[0m\u001b[0;34m\u001b[0m\u001b[0m\n\u001b[0m\u001b[1;32m    100\u001b[0m \u001b[0;34m\u001b[0m\u001b[0m\n\u001b[1;32m    101\u001b[0m     \u001b[0;32mdef\u001b[0m \u001b[0m__repr__\u001b[0m\u001b[0;34m(\u001b[0m\u001b[0mself\u001b[0m\u001b[0;34m)\u001b[0m\u001b[0;34m:\u001b[0m\u001b[0;34m\u001b[0m\u001b[0m\n",
      "\u001b[0;32m~/projects/drilling-data-tools/national-database/fieldmaps/__init__.py\u001b[0m in \u001b[0;36mload_data\u001b[0;34m(self)\u001b[0m\n\u001b[1;32m    110\u001b[0m                 \u001b[0mself\u001b[0m\u001b[0;34m.\u001b[0m\u001b[0mstrip_ws\u001b[0m\u001b[0;34m(\u001b[0m\u001b[0;34m)\u001b[0m\u001b[0;34m\u001b[0m\u001b[0m\n\u001b[1;32m    111\u001b[0m         \u001b[0;32mexcept\u001b[0m \u001b[0mIOError\u001b[0m \u001b[0;32mas\u001b[0m \u001b[0me\u001b[0m\u001b[0;34m:\u001b[0m\u001b[0;34m\u001b[0m\u001b[0m\n\u001b[0;32m--> 112\u001b[0;31m             \u001b[0;32mraise\u001b[0m \u001b[0mIOError\u001b[0m\u001b[0;34m(\u001b[0m\u001b[0;34m\"Error in state.load_csv loading data. Verify that \"\u001b[0m \u001b[0;34m+\u001b[0m \u001b[0mfilename\u001b[0m \u001b[0;34m+\u001b[0m \u001b[0;34m' exists and try again. '\u001b[0m \u001b[0;34m+\u001b[0m \u001b[0me\u001b[0m\u001b[0;34m)\u001b[0m\u001b[0;34m\u001b[0m\u001b[0m\n\u001b[0m\u001b[1;32m    113\u001b[0m \u001b[0;34m\u001b[0m\u001b[0m\n\u001b[1;32m    114\u001b[0m     \u001b[0;32mdef\u001b[0m \u001b[0mstrip_ws\u001b[0m\u001b[0;34m(\u001b[0m\u001b[0mself\u001b[0m\u001b[0;34m)\u001b[0m\u001b[0;34m:\u001b[0m\u001b[0;34m\u001b[0m\u001b[0m\n",
      "\u001b[0;31mNameError\u001b[0m: name 'filename' is not defined"
     ]
    }
   ],
   "source": [
    "# Virginia\n",
    "state = fieldmaps.State('VA')\n",
    "\n",
    "layout = {\n",
    "    'api_field': '',\n",
    "    'date_field': '',\n",
    "    'lat_field': '',\n",
    "    'lon_field': '',\n",
    "    'status_field': '',\n",
    "    'status_map': None,\n",
    "    'type_field': '',\n",
    "    'type_map': None\n",
    "}\n",
    "#import fieldmaps.ks\n",
    "wells = fieldmaps.Dataset(state, )\n",
    "wells.write_to_db()"
   ]
  },
  {
   "cell_type": "code",
   "execution_count": 11,
   "metadata": {},
   "outputs": [
    {
     "ename": "NameError",
     "evalue": "name 'filename' is not defined",
     "output_type": "error",
     "traceback": [
      "\u001b[0;31m---------------------------------------------------------------------------\u001b[0m",
      "\u001b[0;31mFileNotFoundError\u001b[0m                         Traceback (most recent call last)",
      "\u001b[0;32m~/projects/drilling-data-tools/national-database/fieldmaps/__init__.py\u001b[0m in \u001b[0;36mload_data\u001b[0;34m(self)\u001b[0m\n\u001b[1;32m    105\u001b[0m         \u001b[0;32mtry\u001b[0m\u001b[0;34m:\u001b[0m\u001b[0;34m\u001b[0m\u001b[0m\n\u001b[0;32m--> 106\u001b[0;31m             \u001b[0;32mwith\u001b[0m \u001b[0mopen\u001b[0m\u001b[0;34m(\u001b[0m\u001b[0mself\u001b[0m\u001b[0;34m.\u001b[0m\u001b[0mfilename\u001b[0m\u001b[0;34m,\u001b[0m \u001b[0;34m'r'\u001b[0m\u001b[0;34m)\u001b[0m \u001b[0;32mas\u001b[0m \u001b[0mf\u001b[0m\u001b[0;34m:\u001b[0m\u001b[0;34m\u001b[0m\u001b[0m\n\u001b[0m\u001b[1;32m    107\u001b[0m                 \u001b[0mreader\u001b[0m \u001b[0;34m=\u001b[0m \u001b[0mcsv\u001b[0m\u001b[0;34m.\u001b[0m\u001b[0mDictReader\u001b[0m\u001b[0;34m(\u001b[0m\u001b[0mf\u001b[0m\u001b[0;34m)\u001b[0m\u001b[0;34m\u001b[0m\u001b[0m\n",
      "\u001b[0;31mFileNotFoundError\u001b[0m: [Errno 2] No such file or directory: 'csvs/wa-data.csv'",
      "\nDuring handling of the above exception, another exception occurred:\n",
      "\u001b[0;31mNameError\u001b[0m                                 Traceback (most recent call last)",
      "\u001b[0;32m<ipython-input-11-9051afba8dd2>\u001b[0m in \u001b[0;36m<module>\u001b[0;34m()\u001b[0m\n\u001b[1;32m      1\u001b[0m \u001b[0;31m# Washington\u001b[0m\u001b[0;34m\u001b[0m\u001b[0;34m\u001b[0m\u001b[0m\n\u001b[0;32m----> 2\u001b[0;31m \u001b[0mstate\u001b[0m \u001b[0;34m=\u001b[0m \u001b[0mfieldmaps\u001b[0m\u001b[0;34m.\u001b[0m\u001b[0mState\u001b[0m\u001b[0;34m(\u001b[0m\u001b[0;34m'WA'\u001b[0m\u001b[0;34m)\u001b[0m\u001b[0;34m\u001b[0m\u001b[0m\n\u001b[0m\u001b[1;32m      3\u001b[0m \u001b[0;34m\u001b[0m\u001b[0m\n\u001b[1;32m      4\u001b[0m layout = {\n\u001b[1;32m      5\u001b[0m    \u001b[0;34m'date_field'\u001b[0m\u001b[0;34m:\u001b[0m \u001b[0;34m[\u001b[0m\u001b[0;34m'SPUD DATE'\u001b[0m\u001b[0;34m,\u001b[0m \u001b[0;34m'FIRST COMPLETION DATE'\u001b[0m\u001b[0;34m,\u001b[0m \u001b[0;34m'FIRST PRODUCTION DATE'\u001b[0m\u001b[0;34m]\u001b[0m\u001b[0;34m,\u001b[0m\u001b[0;34m\u001b[0m\u001b[0m\n",
      "\u001b[0;32m~/projects/drilling-data-tools/national-database/fieldmaps/__init__.py\u001b[0m in \u001b[0;36m__init__\u001b[0;34m(self, state, **kwargs)\u001b[0m\n\u001b[1;32m     97\u001b[0m             \u001b[0mself\u001b[0m\u001b[0;34m.\u001b[0m\u001b[0mdate_function\u001b[0m \u001b[0;34m=\u001b[0m \u001b[0;32mlambda\u001b[0m \u001b[0mx\u001b[0m\u001b[0;34m:\u001b[0m \u001b[0mdatetime\u001b[0m\u001b[0;34m.\u001b[0m\u001b[0mfromtimestamp\u001b[0m\u001b[0;34m(\u001b[0m\u001b[0mint\u001b[0m\u001b[0;34m(\u001b[0m\u001b[0mfloat\u001b[0m\u001b[0;34m(\u001b[0m\u001b[0mx\u001b[0m\u001b[0;34m)\u001b[0m\u001b[0;34m)\u001b[0m\u001b[0;34m/\u001b[0m\u001b[0;36m1000\u001b[0m\u001b[0;34m)\u001b[0m\u001b[0;34m\u001b[0m\u001b[0m\n\u001b[1;32m     98\u001b[0m \u001b[0;34m\u001b[0m\u001b[0m\n\u001b[0;32m---> 99\u001b[0;31m         \u001b[0mself\u001b[0m\u001b[0;34m.\u001b[0m\u001b[0mload_data\u001b[0m\u001b[0;34m(\u001b[0m\u001b[0;34m)\u001b[0m\u001b[0;34m\u001b[0m\u001b[0m\n\u001b[0m\u001b[1;32m    100\u001b[0m \u001b[0;34m\u001b[0m\u001b[0m\n\u001b[1;32m    101\u001b[0m     \u001b[0;32mdef\u001b[0m \u001b[0m__repr__\u001b[0m\u001b[0;34m(\u001b[0m\u001b[0mself\u001b[0m\u001b[0;34m)\u001b[0m\u001b[0;34m:\u001b[0m\u001b[0;34m\u001b[0m\u001b[0m\n",
      "\u001b[0;32m~/projects/drilling-data-tools/national-database/fieldmaps/__init__.py\u001b[0m in \u001b[0;36mload_data\u001b[0;34m(self)\u001b[0m\n\u001b[1;32m    110\u001b[0m                 \u001b[0mself\u001b[0m\u001b[0;34m.\u001b[0m\u001b[0mstrip_ws\u001b[0m\u001b[0;34m(\u001b[0m\u001b[0;34m)\u001b[0m\u001b[0;34m\u001b[0m\u001b[0m\n\u001b[1;32m    111\u001b[0m         \u001b[0;32mexcept\u001b[0m \u001b[0mIOError\u001b[0m \u001b[0;32mas\u001b[0m \u001b[0me\u001b[0m\u001b[0;34m:\u001b[0m\u001b[0;34m\u001b[0m\u001b[0m\n\u001b[0;32m--> 112\u001b[0;31m             \u001b[0;32mraise\u001b[0m \u001b[0mIOError\u001b[0m\u001b[0;34m(\u001b[0m\u001b[0;34m\"Error in state.load_csv loading data. Verify that \"\u001b[0m \u001b[0;34m+\u001b[0m \u001b[0mfilename\u001b[0m \u001b[0;34m+\u001b[0m \u001b[0;34m' exists and try again. '\u001b[0m \u001b[0;34m+\u001b[0m \u001b[0me\u001b[0m\u001b[0;34m)\u001b[0m\u001b[0;34m\u001b[0m\u001b[0m\n\u001b[0m\u001b[1;32m    113\u001b[0m \u001b[0;34m\u001b[0m\u001b[0m\n\u001b[1;32m    114\u001b[0m     \u001b[0;32mdef\u001b[0m \u001b[0mstrip_ws\u001b[0m\u001b[0;34m(\u001b[0m\u001b[0mself\u001b[0m\u001b[0;34m)\u001b[0m\u001b[0;34m:\u001b[0m\u001b[0;34m\u001b[0m\u001b[0m\n",
      "\u001b[0;31mNameError\u001b[0m: name 'filename' is not defined"
     ]
    }
   ],
   "source": [
    "# Washington\n",
    "state = fieldmaps.State('WA')\n",
    "\n",
    "layout = {\n",
    "    'api_field': '',\n",
    "    'date_field': '',\n",
    "    'lat_field': '',\n",
    "    'lon_field': '',\n",
    "    'status_field': '',\n",
    "    'status_map': None,\n",
    "    'type_field': '',\n",
    "    'type_map': None\n",
    "}\n",
    "#import fieldmaps.ks\n",
    "wells = fieldmaps.Dataset(state, )\n",
    "wells.write_to_db()"
   ]
  },
  {
   "cell_type": "code",
   "execution_count": 10,
   "metadata": {},
   "outputs": [
    {
     "ename": "NameError",
     "evalue": "name 'filename' is not defined",
     "output_type": "error",
     "traceback": [
      "\u001b[0;31m---------------------------------------------------------------------------\u001b[0m",
      "\u001b[0;31mFileNotFoundError\u001b[0m                         Traceback (most recent call last)",
      "\u001b[0;32m~/projects/drilling-data-tools/national-database/fieldmaps/__init__.py\u001b[0m in \u001b[0;36mload_data\u001b[0;34m(self)\u001b[0m\n\u001b[1;32m    105\u001b[0m         \u001b[0;32mtry\u001b[0m\u001b[0;34m:\u001b[0m\u001b[0;34m\u001b[0m\u001b[0m\n\u001b[0;32m--> 106\u001b[0;31m             \u001b[0;32mwith\u001b[0m \u001b[0mopen\u001b[0m\u001b[0;34m(\u001b[0m\u001b[0mself\u001b[0m\u001b[0;34m.\u001b[0m\u001b[0mfilename\u001b[0m\u001b[0;34m,\u001b[0m \u001b[0;34m'r'\u001b[0m\u001b[0;34m)\u001b[0m \u001b[0;32mas\u001b[0m \u001b[0mf\u001b[0m\u001b[0;34m:\u001b[0m\u001b[0;34m\u001b[0m\u001b[0m\n\u001b[0m\u001b[1;32m    107\u001b[0m                 \u001b[0mreader\u001b[0m \u001b[0;34m=\u001b[0m \u001b[0mcsv\u001b[0m\u001b[0;34m.\u001b[0m\u001b[0mDictReader\u001b[0m\u001b[0;34m(\u001b[0m\u001b[0mf\u001b[0m\u001b[0;34m)\u001b[0m\u001b[0;34m\u001b[0m\u001b[0m\n",
      "\u001b[0;31mFileNotFoundError\u001b[0m: [Errno 2] No such file or directory: 'csvs/wv-data.csv'",
      "\nDuring handling of the above exception, another exception occurred:\n",
      "\u001b[0;31mNameError\u001b[0m                                 Traceback (most recent call last)",
      "\u001b[0;32m<ipython-input-10-7e2a019abe6b>\u001b[0m in \u001b[0;36m<module>\u001b[0;34m()\u001b[0m\n\u001b[1;32m      1\u001b[0m \u001b[0;31m# West Virginia\u001b[0m\u001b[0;34m\u001b[0m\u001b[0;34m\u001b[0m\u001b[0m\n\u001b[0;32m----> 2\u001b[0;31m \u001b[0mstate\u001b[0m \u001b[0;34m=\u001b[0m \u001b[0mfieldmaps\u001b[0m\u001b[0;34m.\u001b[0m\u001b[0mState\u001b[0m\u001b[0;34m(\u001b[0m\u001b[0;34m'WV'\u001b[0m\u001b[0;34m)\u001b[0m\u001b[0;34m\u001b[0m\u001b[0m\n\u001b[0m\u001b[1;32m      3\u001b[0m \u001b[0;34m\u001b[0m\u001b[0m\n\u001b[1;32m      4\u001b[0m layout = {\n\u001b[1;32m      5\u001b[0m    \u001b[0;34m'date_field'\u001b[0m\u001b[0;34m:\u001b[0m \u001b[0;34m[\u001b[0m\u001b[0;34m'SPUD DATE'\u001b[0m\u001b[0;34m,\u001b[0m \u001b[0;34m'FIRST COMPLETION DATE'\u001b[0m\u001b[0;34m,\u001b[0m \u001b[0;34m'FIRST PRODUCTION DATE'\u001b[0m\u001b[0;34m]\u001b[0m\u001b[0;34m,\u001b[0m\u001b[0;34m\u001b[0m\u001b[0m\n",
      "\u001b[0;32m~/projects/drilling-data-tools/national-database/fieldmaps/__init__.py\u001b[0m in \u001b[0;36m__init__\u001b[0;34m(self, state, **kwargs)\u001b[0m\n\u001b[1;32m     97\u001b[0m             \u001b[0mself\u001b[0m\u001b[0;34m.\u001b[0m\u001b[0mdate_function\u001b[0m \u001b[0;34m=\u001b[0m \u001b[0;32mlambda\u001b[0m \u001b[0mx\u001b[0m\u001b[0;34m:\u001b[0m \u001b[0mdatetime\u001b[0m\u001b[0;34m.\u001b[0m\u001b[0mfromtimestamp\u001b[0m\u001b[0;34m(\u001b[0m\u001b[0mint\u001b[0m\u001b[0;34m(\u001b[0m\u001b[0mfloat\u001b[0m\u001b[0;34m(\u001b[0m\u001b[0mx\u001b[0m\u001b[0;34m)\u001b[0m\u001b[0;34m)\u001b[0m\u001b[0;34m/\u001b[0m\u001b[0;36m1000\u001b[0m\u001b[0;34m)\u001b[0m\u001b[0;34m\u001b[0m\u001b[0m\n\u001b[1;32m     98\u001b[0m \u001b[0;34m\u001b[0m\u001b[0m\n\u001b[0;32m---> 99\u001b[0;31m         \u001b[0mself\u001b[0m\u001b[0;34m.\u001b[0m\u001b[0mload_data\u001b[0m\u001b[0;34m(\u001b[0m\u001b[0;34m)\u001b[0m\u001b[0;34m\u001b[0m\u001b[0m\n\u001b[0m\u001b[1;32m    100\u001b[0m \u001b[0;34m\u001b[0m\u001b[0m\n\u001b[1;32m    101\u001b[0m     \u001b[0;32mdef\u001b[0m \u001b[0m__repr__\u001b[0m\u001b[0;34m(\u001b[0m\u001b[0mself\u001b[0m\u001b[0;34m)\u001b[0m\u001b[0;34m:\u001b[0m\u001b[0;34m\u001b[0m\u001b[0m\n",
      "\u001b[0;32m~/projects/drilling-data-tools/national-database/fieldmaps/__init__.py\u001b[0m in \u001b[0;36mload_data\u001b[0;34m(self)\u001b[0m\n\u001b[1;32m    110\u001b[0m                 \u001b[0mself\u001b[0m\u001b[0;34m.\u001b[0m\u001b[0mstrip_ws\u001b[0m\u001b[0;34m(\u001b[0m\u001b[0;34m)\u001b[0m\u001b[0;34m\u001b[0m\u001b[0m\n\u001b[1;32m    111\u001b[0m         \u001b[0;32mexcept\u001b[0m \u001b[0mIOError\u001b[0m \u001b[0;32mas\u001b[0m \u001b[0me\u001b[0m\u001b[0;34m:\u001b[0m\u001b[0;34m\u001b[0m\u001b[0m\n\u001b[0;32m--> 112\u001b[0;31m             \u001b[0;32mraise\u001b[0m \u001b[0mIOError\u001b[0m\u001b[0;34m(\u001b[0m\u001b[0;34m\"Error in state.load_csv loading data. Verify that \"\u001b[0m \u001b[0;34m+\u001b[0m \u001b[0mfilename\u001b[0m \u001b[0;34m+\u001b[0m \u001b[0;34m' exists and try again. '\u001b[0m \u001b[0;34m+\u001b[0m \u001b[0me\u001b[0m\u001b[0;34m)\u001b[0m\u001b[0;34m\u001b[0m\u001b[0m\n\u001b[0m\u001b[1;32m    113\u001b[0m \u001b[0;34m\u001b[0m\u001b[0m\n\u001b[1;32m    114\u001b[0m     \u001b[0;32mdef\u001b[0m \u001b[0mstrip_ws\u001b[0m\u001b[0;34m(\u001b[0m\u001b[0mself\u001b[0m\u001b[0;34m)\u001b[0m\u001b[0;34m:\u001b[0m\u001b[0;34m\u001b[0m\u001b[0m\n",
      "\u001b[0;31mNameError\u001b[0m: name 'filename' is not defined"
     ]
    }
   ],
   "source": [
    "# West Virginia\n",
    "state = fieldmaps.State('WV')\n",
    "\n",
    "layout = {\n",
    "    'api_field': '',\n",
    "    'date_field': '',\n",
    "    'lat_field': '',\n",
    "    'lon_field': '',\n",
    "    'status_field': '',\n",
    "    'status_map': None,\n",
    "    'type_field': '',\n",
    "    'type_map': None\n",
    "}\n",
    "#import fieldmaps.ks\n",
    "wells = fieldmaps.Dataset(state, )\n",
    "wells.write_to_db()"
   ]
  },
  {
   "cell_type": "code",
   "execution_count": null,
   "metadata": {},
   "outputs": [],
   "source": [
    "# Wisconsin - no oil or gas"
   ]
  },
  {
   "cell_type": "code",
   "execution_count": 9,
   "metadata": {},
   "outputs": [
    {
     "ename": "NameError",
     "evalue": "name 'filename' is not defined",
     "output_type": "error",
     "traceback": [
      "\u001b[0;31m---------------------------------------------------------------------------\u001b[0m",
      "\u001b[0;31mFileNotFoundError\u001b[0m                         Traceback (most recent call last)",
      "\u001b[0;32m~/projects/drilling-data-tools/national-database/fieldmaps/__init__.py\u001b[0m in \u001b[0;36mload_data\u001b[0;34m(self)\u001b[0m\n\u001b[1;32m    105\u001b[0m         \u001b[0;32mtry\u001b[0m\u001b[0;34m:\u001b[0m\u001b[0;34m\u001b[0m\u001b[0m\n\u001b[0;32m--> 106\u001b[0;31m             \u001b[0;32mwith\u001b[0m \u001b[0mopen\u001b[0m\u001b[0;34m(\u001b[0m\u001b[0mself\u001b[0m\u001b[0;34m.\u001b[0m\u001b[0mfilename\u001b[0m\u001b[0;34m,\u001b[0m \u001b[0;34m'r'\u001b[0m\u001b[0;34m)\u001b[0m \u001b[0;32mas\u001b[0m \u001b[0mf\u001b[0m\u001b[0;34m:\u001b[0m\u001b[0;34m\u001b[0m\u001b[0m\n\u001b[0m\u001b[1;32m    107\u001b[0m                 \u001b[0mreader\u001b[0m \u001b[0;34m=\u001b[0m \u001b[0mcsv\u001b[0m\u001b[0;34m.\u001b[0m\u001b[0mDictReader\u001b[0m\u001b[0;34m(\u001b[0m\u001b[0mf\u001b[0m\u001b[0;34m)\u001b[0m\u001b[0;34m\u001b[0m\u001b[0m\n",
      "\u001b[0;31mFileNotFoundError\u001b[0m: [Errno 2] No such file or directory: 'csvs/wy-data.csv'",
      "\nDuring handling of the above exception, another exception occurred:\n",
      "\u001b[0;31mNameError\u001b[0m                                 Traceback (most recent call last)",
      "\u001b[0;32m<ipython-input-9-094da15ecfb4>\u001b[0m in \u001b[0;36m<module>\u001b[0;34m()\u001b[0m\n\u001b[1;32m      1\u001b[0m \u001b[0;31m# Wyoming\u001b[0m\u001b[0;34m\u001b[0m\u001b[0;34m\u001b[0m\u001b[0m\n\u001b[0;32m----> 2\u001b[0;31m \u001b[0mstate\u001b[0m \u001b[0;34m=\u001b[0m \u001b[0mfieldmaps\u001b[0m\u001b[0;34m.\u001b[0m\u001b[0mState\u001b[0m\u001b[0;34m(\u001b[0m\u001b[0;34m'WY'\u001b[0m\u001b[0;34m)\u001b[0m\u001b[0;34m\u001b[0m\u001b[0m\n\u001b[0m\u001b[1;32m      3\u001b[0m \u001b[0;34m\u001b[0m\u001b[0m\n\u001b[1;32m      4\u001b[0m layout = {\n\u001b[1;32m      5\u001b[0m    \u001b[0;34m'date_field'\u001b[0m\u001b[0;34m:\u001b[0m \u001b[0;34m[\u001b[0m\u001b[0;34m'SPUD DATE'\u001b[0m\u001b[0;34m,\u001b[0m \u001b[0;34m'FIRST COMPLETION DATE'\u001b[0m\u001b[0;34m,\u001b[0m \u001b[0;34m'FIRST PRODUCTION DATE'\u001b[0m\u001b[0;34m]\u001b[0m\u001b[0;34m,\u001b[0m\u001b[0;34m\u001b[0m\u001b[0m\n",
      "\u001b[0;32m~/projects/drilling-data-tools/national-database/fieldmaps/__init__.py\u001b[0m in \u001b[0;36m__init__\u001b[0;34m(self, state, **kwargs)\u001b[0m\n\u001b[1;32m     97\u001b[0m             \u001b[0mself\u001b[0m\u001b[0;34m.\u001b[0m\u001b[0mdate_function\u001b[0m \u001b[0;34m=\u001b[0m \u001b[0;32mlambda\u001b[0m \u001b[0mx\u001b[0m\u001b[0;34m:\u001b[0m \u001b[0mdatetime\u001b[0m\u001b[0;34m.\u001b[0m\u001b[0mfromtimestamp\u001b[0m\u001b[0;34m(\u001b[0m\u001b[0mint\u001b[0m\u001b[0;34m(\u001b[0m\u001b[0mfloat\u001b[0m\u001b[0;34m(\u001b[0m\u001b[0mx\u001b[0m\u001b[0;34m)\u001b[0m\u001b[0;34m)\u001b[0m\u001b[0;34m/\u001b[0m\u001b[0;36m1000\u001b[0m\u001b[0;34m)\u001b[0m\u001b[0;34m\u001b[0m\u001b[0m\n\u001b[1;32m     98\u001b[0m \u001b[0;34m\u001b[0m\u001b[0m\n\u001b[0;32m---> 99\u001b[0;31m         \u001b[0mself\u001b[0m\u001b[0;34m.\u001b[0m\u001b[0mload_data\u001b[0m\u001b[0;34m(\u001b[0m\u001b[0;34m)\u001b[0m\u001b[0;34m\u001b[0m\u001b[0m\n\u001b[0m\u001b[1;32m    100\u001b[0m \u001b[0;34m\u001b[0m\u001b[0m\n\u001b[1;32m    101\u001b[0m     \u001b[0;32mdef\u001b[0m \u001b[0m__repr__\u001b[0m\u001b[0;34m(\u001b[0m\u001b[0mself\u001b[0m\u001b[0;34m)\u001b[0m\u001b[0;34m:\u001b[0m\u001b[0;34m\u001b[0m\u001b[0m\n",
      "\u001b[0;32m~/projects/drilling-data-tools/national-database/fieldmaps/__init__.py\u001b[0m in \u001b[0;36mload_data\u001b[0;34m(self)\u001b[0m\n\u001b[1;32m    110\u001b[0m                 \u001b[0mself\u001b[0m\u001b[0;34m.\u001b[0m\u001b[0mstrip_ws\u001b[0m\u001b[0;34m(\u001b[0m\u001b[0;34m)\u001b[0m\u001b[0;34m\u001b[0m\u001b[0m\n\u001b[1;32m    111\u001b[0m         \u001b[0;32mexcept\u001b[0m \u001b[0mIOError\u001b[0m \u001b[0;32mas\u001b[0m \u001b[0me\u001b[0m\u001b[0;34m:\u001b[0m\u001b[0;34m\u001b[0m\u001b[0m\n\u001b[0;32m--> 112\u001b[0;31m             \u001b[0;32mraise\u001b[0m \u001b[0mIOError\u001b[0m\u001b[0;34m(\u001b[0m\u001b[0;34m\"Error in state.load_csv loading data. Verify that \"\u001b[0m \u001b[0;34m+\u001b[0m \u001b[0mfilename\u001b[0m \u001b[0;34m+\u001b[0m \u001b[0;34m' exists and try again. '\u001b[0m \u001b[0;34m+\u001b[0m \u001b[0me\u001b[0m\u001b[0;34m)\u001b[0m\u001b[0;34m\u001b[0m\u001b[0m\n\u001b[0m\u001b[1;32m    113\u001b[0m \u001b[0;34m\u001b[0m\u001b[0m\n\u001b[1;32m    114\u001b[0m     \u001b[0;32mdef\u001b[0m \u001b[0mstrip_ws\u001b[0m\u001b[0;34m(\u001b[0m\u001b[0mself\u001b[0m\u001b[0;34m)\u001b[0m\u001b[0;34m:\u001b[0m\u001b[0;34m\u001b[0m\u001b[0m\n",
      "\u001b[0;31mNameError\u001b[0m: name 'filename' is not defined"
     ]
    }
   ],
   "source": [
    "# Wyoming\n",
    "state = fieldmaps.State('WY')\n",
    "\n",
    "layout = {\n",
    "    'api_field': '',\n",
    "    'date_field': '',\n",
    "    'lat_field': '',\n",
    "    'lon_field': '',\n",
    "    'status_field': '',\n",
    "    'status_map': None,\n",
    "    'type_field': '',\n",
    "    'type_map': None\n",
    "}\n",
    "#import fieldmaps.ks\n",
    "wells = fieldmaps.Dataset(state, )\n",
    "wells.write_to_db()"
   ]
  },
  {
   "cell_type": "code",
   "execution_count": null,
   "metadata": {},
   "outputs": [],
   "source": [
    "# Alaska Offshore\n",
    "state = State('AK1')\n",
    "# Pacific Coast Offshore\n",
    "state = State('CA1')\n",
    "# Northern Gulf of Mexico\n",
    "state = State('TX1')\n",
    "# Atlantic Coast Offshore\n",
    "state = State('DC1')\n"
   ]
  }
 ],
 "metadata": {
  "kernelspec": {
   "display_name": "Python 3",
   "language": "python",
   "name": "python3"
  },
  "language_info": {
   "codemirror_mode": {
    "name": "ipython",
    "version": 3
   },
   "file_extension": ".py",
   "mimetype": "text/x-python",
   "name": "python",
   "nbconvert_exporter": "python",
   "pygments_lexer": "ipython3",
   "version": "3.6.4"
  }
 },
 "nbformat": 4,
 "nbformat_minor": 1
}
