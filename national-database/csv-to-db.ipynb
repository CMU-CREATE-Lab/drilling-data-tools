{
 "cells": [
  {
   "cell_type": "code",
   "execution_count": 64,
   "metadata": {
    "collapsed": false
   },
   "outputs": [],
   "source": [
    "# module that imports CSVs and processes to DB\n",
    "import os, errno, array, csv, math\n",
    "from datetime import datetime\n",
    "#from dateutil.parser import parse\n",
    "import dateutil.parser\n",
    "import db_settings\n",
    "import psycopg2\n",
    "#from state import State\n",
    "\n",
    "\n",
    "layout_template = {\n",
    "    'date_field': '',\n",
    "    'api_field': '',\n",
    "    'api_includes_state': True,\n",
    "    'type_field': '',\n",
    "    'status_field': '',\n",
    "    'category_field': '',\n",
    "    'lat_field': '',\n",
    "    'lon_field': '',\n",
    "    'location_src_field': '',\n",
    "    'description_layout': '\\n'.join(['Descriptor1: %s',\n",
    "                             'Descriptor2: %s',\n",
    "                             'Descriptor3: %s',\n",
    "                             'Descriptor4: %s',\n",
    "                             'Descriptor5: %s'\n",
    "                            ]),\n",
    "    'description_fields': ['DescCol1', 'DescCol2', 'DescCol3', 'DescCol4', 'DescCol5'],\n",
    "    'type_map': None,\n",
    "    'status_map': None,\n",
    "    'category_map': None,\n",
    "    'location_src_map': None\n",
    "}\n",
    "\n",
    "def map_template(map_type, values):\n",
    "    if map_type == 'type':\n",
    "        t = 'type_map'\n",
    "        s = well_types\n",
    "    elif map_type == 'status':\n",
    "        t = 'status_map'\n",
    "        s = well_statuses\n",
    "    elif map_type == 'category':\n",
    "        t = 'category_map'\n",
    "        s = well_categories\n",
    "    elif map_type == 'location_src':\n",
    "        t = 'location_src_map'\n",
    "        s = location_sources.keys()\n",
    "    print 'valid options:', s\n",
    "    print \"    '%s': {\" % t\n",
    "    for item in values:\n",
    "        print \"        '\" + item + \"': '\" + (item.upper() if item.upper() in s else '') + \"',\"\n",
    "    print \"    },\"\n",
    "    \n",
    "state_apis = {'WA': '46', 'DE': '7', 'DC': '8', 'WI': '48', 'WV': '47', 'HI': '51', 'FL': '9', 'WY': '49', \n",
    "              'NH': '28', 'NJ': '29', 'NM': '30', 'TX': '42', 'LA': '17', 'AK': '50', 'NC': '32', 'ND': '33', \n",
    "              'NE': '26', 'TN': '41', 'NY': '31', 'NorthernGulfofMexico': '60', 'PA': '37', 'RI': '38', \n",
    "              'NV': '27', 'VA': '45', 'CO': '5', 'CA': '4', 'PacificCoastOffshore': '56', 'AL': '1', \n",
    "              'AlaskaOffshore': '55', 'AR': '3', 'VT': '44', 'IL': '12', 'GA': '10', 'IN': '13', 'IA': '14', \n",
    "              'OK': '35', 'AZ': '2', 'ID': '11', 'CT': '6', 'ME': '18', 'MD': '19', 'MA': '20', 'OH': '34', \n",
    "              'UT': '43', 'MO': '24', 'MN': '22', 'MI': '21', 'KS': '15', 'MT': '25', 'AtlanticCoastOffshore': '61', \n",
    "              'MS': '23', 'SC': '39', 'KY': '16', 'OR': '36', 'SD': '40'}\n",
    "\n",
    "well_types = {'OIL', 'GAS', 'OILANDGAS', 'INJECTION', 'OBSERVATION', 'STORAGE', 'DISPOSAL', 'DRY HOLE', 'TEST', 'WATER', 'OTHER'}\n",
    "well_statuses = {'ACTIVE', 'PA', 'TA', 'ORPHAN', 'PERMITTED', 'CANCELLED', 'UNKNOWN'} # PA: plugged and abandoned, TA: temporarily abandoned\n",
    "well_categories = {'CONVENTIONAL','UNCONVENTIONAL','FRAC','CBM','UIC','TEST','STORAGE','WATER','OTHER'}\n",
    "location_sources = { 'S': 'Surface', 'BH': 'Bottom Hole' }\n",
    "\n",
    "\n",
    "\n",
    "class State(object):\n",
    "    def __init__(self, state):\n",
    "        self.name = state\n",
    "        self.data = None\n",
    "        self.layout = None\n",
    "        self.source_url = None\n",
    "        self.description = None\n",
    "        self.download_directory = os.path.abspath('downloads/' + self.name).lower()\n",
    "        self.projection_srid = 4326 # WGS84 by default, but can be overridden\n",
    "\n",
    "    def load_data(self):\n",
    "        try:\n",
    "            filename = 'csvs/' + self.name.lower() + '-' + 'data' + '.csv'\n",
    "            with open(filename, 'rb') as f:\n",
    "                reader = csv.DictReader(f)\n",
    "                self.data = [row for row in reader]\n",
    "        except IOError as e:\n",
    "            raise IOError(\"Error in state.load_csv loading data. Verify that \" + filename + ' exists and try again. ' + e)\n",
    "    \n",
    "    def write_to_db(self):\n",
    "        if not self.source_url:\n",
    "            print 'Warning: Missing source_url'\n",
    "        if not self.description:\n",
    "            print 'Warning: Missing state description'\n",
    "\n",
    "        conn = psycopg2.connect(database=db_settings.DB, user=db_settings.USER, password=db_settings.PASSWD, host=db_settings.HOST)\n",
    "        with conn:\n",
    "            with conn.cursor() as cur:\n",
    "                query = 'UPDATE states SET (source_url, description, last_updated) = (%(source_url)s, %(description)s, now()) WHERE state=%(state)s;'\n",
    "                values = {'source_url': self.source_url, 'description': self.description, 'state': self.name}\n",
    "                try:\n",
    "                    cur.execute(query, values)\n",
    "                except psycopg2.Error as e:\n",
    "                    print query\n",
    "                    print e.pgerror\n",
    "\n",
    "        conn.close()\n",
    "        print 'Wrote description for', self.name, 'to database'\n",
    "    def set_projection(self, proj):\n",
    "        self.projection_srid = proj\n",
    "\n",
    "\n",
    "class Dataset(object):   \n",
    "    def __init__(self, state):\n",
    "        self.__dict__.update(state.layout)\n",
    "        self.state_name = state.name\n",
    "        self.source_data = state.data\n",
    "        self.projection = state.projection_srid\n",
    "        self.layout_ready = False\n",
    "        self.processed_data = None\n",
    "        if self.ready():\n",
    "            self.process_rows()\n",
    "\n",
    "    def ready(self):\n",
    "        if self.layout_ready:\n",
    "            return True\n",
    "        \n",
    "        result = []\n",
    "        keys = [key for key in self.source_data[0].keys()]\n",
    "        \n",
    "        for key, value in self.__dict__.iteritems(): # check for blank values\n",
    "            if value == '':\n",
    "                result.append(key)\n",
    "        for key in layout_template.keys(): # check if all template items present\n",
    "            if key not in self.__dict__.keys():\n",
    "                result.append(key)\n",
    "                \n",
    "        if len(result) > 0:\n",
    "            print 'Invalid layout. Available source file columns: \\n\\'' + \"', '\".join(keys) + \"'\"\n",
    "            print '\\nExample rows:', self.source_data[:2]\n",
    "            print 'Missing values for:', ', '.join(result)\n",
    "            return False\n",
    "        \n",
    "        if self.type_field and not self.type_map:\n",
    "            print 'Missing or invalid type_map.'\n",
    "            map_template('type', { row[self.type_field] for row in self.source_data })\n",
    "            return False\n",
    "        if self.status_field and not self.status_map:\n",
    "            print 'Missing or invalid status map.'\n",
    "            map_template('status', { row[self.status_field] for row in self.source_data })\n",
    "            return False\n",
    "        if self.category_field and not self.category_map:\n",
    "            print 'Warning: missing or invalid category map'\n",
    "            map_template('category', { row[self.category_field] for row in self.source_data })\n",
    "            return False\n",
    "        \n",
    "        if self.location_src_field and not self.location_src_map:\n",
    "            print 'Warning: missing or invalid location_src map'\n",
    "            map_template('location_src', { row[self.location_src_field] for row in self.source_data })\n",
    "            return False\n",
    "\n",
    "        self.layout_ready = True\n",
    "        return self.layout_ready\n",
    "    \n",
    "    def data_ready(self):\n",
    "        return True if self.processed_data else False\n",
    "    \n",
    "    def process_rows(self):\n",
    "        if not self.layout_ready:\n",
    "            print 'layout not ready'\n",
    "            return False\n",
    "        apis = dict()\n",
    "        tmp_wells = []\n",
    "        for row in self.source_data:\n",
    "            api = '' if self.api_includes_state else state_apis[state.name]\n",
    "            api += filter(str.isalnum, row[self.api_field]).upper()\n",
    "\n",
    "            try:\n",
    "                lon = float(row[self.lon_field])\n",
    "                lat = float(row[self.lat_field])\n",
    "            except ValueError:        \n",
    "                continue\n",
    "            \n",
    "            try:\n",
    "                date = dateutil.parser.parse(row[self.date_field])\n",
    "            except ValueError:\n",
    "                date = None\n",
    "            \n",
    "            if self.type_field and row[self.type_field] in self.type_map:\n",
    "                well_type = self.type_map[row[self.type_field]]\n",
    "            else:\n",
    "                well_type = 'OTHER'\n",
    "                \n",
    "            well_status = self.status_map[row[self.status_field]] if self.status_field else 'UNKNOWN'\n",
    "            well_category = self.category_map[row[self.category_field]] if self.category_field else None\n",
    "            location_src = self.location_src_map[row[self.location_src_field]] if self.location_src_field else None\n",
    "            description_values = tuple([row[field_name] for field_name in self.description_fields])\n",
    "            description = self.description_layout % description_values\n",
    "            well = { 'state': self.state_name, 'api': api, 'lon': lon, 'lat': lat, 'location_src': location_src, \n",
    "                    'date': date, 'type': well_type, 'status': well_status,\n",
    "                    'category': well_category, 'description': description }\n",
    "            \n",
    "            if api not in apis: # new API\n",
    "                apis[api] = well\n",
    "                tmp_wells.append(well)\n",
    "            else: # api already in dict\n",
    "                if (not apis[api]['date']) or (well['date'] and well['date'] > apis[api]['date']): # if the new record has a newer date\n",
    "                    apis[api] = well # keep the new value\n",
    "                    tmp_wells.append(well) # and append\n",
    "                else:\n",
    "                    continue # discard this record\n",
    "        \n",
    "        self.processed_data = tmp_wells\n",
    "        print len(self.processed_data), 'of', str(len(self.source_data)), 'rows loaded'    \n",
    "        print 'first item:', tmp_wells[:1]\n",
    "        return True\n",
    "    \n",
    "    def commit_to_db(self):\n",
    "        if not self.layout_ready:\n",
    "            return self.ready()\n",
    "        if not self.processed_data:\n",
    "            print 'data not ready'\n",
    "            return False\n",
    "        inserts = 0\n",
    "        conn = psycopg2.connect(database=db_settings.DB, user=db_settings.USER, password=db_settings.PASSWD, host=db_settings.HOST)\n",
    "        with conn:\n",
    "            with conn.cursor() as cur:\n",
    "                for row in self.processed_data:\n",
    "                    fields = ', '.join(['state', 'api', 'status', 'type', 'date', 'description', 'capture_time', 'location', 'location_src'])\n",
    "                    if self.projection == 4326:\n",
    "                        geog_str = \"ST_GeographyFromText('POINT(%(lon)s %(lat)s)')\"\n",
    "                    else:\n",
    "                        srid = str(self.projection)\n",
    "                        geog_str = \"Geography(ST_Transform(ST_GeometryFromText('POINT(%(lon)s %(lat)s)', \" + srid + \"), 4326))\"\n",
    "                    values =  \"'\" + self.state_name + \"', %(api)s, %(status)s, %(type)s, %(date)s, %(description)s, now(), \" + geog_str + \", %(location_src)s\"  \n",
    "                    query_structure = 'INSERT INTO wells (%s) VALUES (%s) ON CONFLICT (api, status, date) DO UPDATE SET (%s) = (%s) WHERE wells.api = %s AND wells.status = %s'\n",
    "                    query = query_structure % (fields, values, fields, values, '%(api)s', '%(status)s')\n",
    "                    try:\n",
    "                        cur.execute(query, row)\n",
    "                        inserts += 1\n",
    "                        # result = cur.statusmessage\n",
    "                    except psycopg2.Error as e:\n",
    "                        print query\n",
    "                        print e.pgerror\n",
    "                        return False\n",
    "        return inserts\n",
    "    \n"
   ]
  },
  {
   "cell_type": "code",
   "execution_count": null,
   "metadata": {
    "collapsed": false
   },
   "outputs": [],
   "source": [
    "\n"
   ]
  },
  {
   "cell_type": "code",
   "execution_count": 35,
   "metadata": {
    "collapsed": false
   },
   "outputs": [
    {
     "name": "stdout",
     "output_type": "stream",
     "text": [
      "Wrote description for AL to database\n",
      "18130 of 18853 rows loaded\n",
      "first item: [{'status': 'ACTIVE', 'date': datetime.datetime(2016, 7, 9, 0, 0), 'state': 'AL', 'api': '01035203440000', 'description': 'Permit Num: 17204-B\\nWell Name: Cedar Creek Land &amp; Timber 3-7 #1\\nOperator: Sklar Exploration Company L.L.C.\\nPlugged Date: &nbsp;\\nCounty: Conecuh\\nProd Date: &nbsp;\\nGSA OGB Link: <a href=\"http://www.gsa.state.al.us/ogb/results.aspx?api=01035203440000&permit=17204-B\" target=\"_blank\">Well Details</a>', 'location_src': 'S', 'lat': 31.25833, 'type': 'OIL', 'category': 'CONVENTIONAL', 'lon': -86.7386}]\n",
      "loaded 18130 of 18130 records into the database\n"
     ]
    }
   ],
   "source": [
    "# Alabama\n",
    "state = State('AL')\n",
    "well_source_url = 'http://www.gsa.state.al.us/ogb/results.aspx?api=%s&permit=%s'\n",
    "state.source_url = 'http://www.gsa.state.al.us/ogb/db_main.html'\n",
    "state.description = \"\"\"\n",
    "Data from the Geological Survey of Alabama State Oil and Gas Board\n",
    "\"\"\"\n",
    "state.write_to_db()\n",
    "\n",
    "state.layout = {\n",
    "    'date_field': 'Spud Date',\n",
    "    'api_field': 'API',\n",
    "    'api_includes_state': True,\n",
    "    'type_field': 'Well Type',\n",
    "    'category_field': 'Well Type',\n",
    "    'status_field': 'Well Status',\n",
    "    'lat_field': 'Latitude',\n",
    "    'lon_field': 'Longitude',\n",
    "    'source_well_id': 'Permit',\n",
    "    'location_src_field': 'Location Src',\n",
    "    'description_layout': '\\n'.join(['Permit Num: %s',\n",
    "                             'Well Name: %s',\n",
    "                             'Operator: %s',\n",
    "                             'Plugged Date: %s',\n",
    "                             'County: %s',\n",
    "                             'Prod Date: %s',\n",
    "                             'GSA OGB Link: <a href=\"http://www.gsa.state.al.us/ogb/results.aspx?api=%s&permit=%s\" target=\"_blank\">Well Details</a>'\n",
    "                            ]),\n",
    "    'description_fields': ['Permit', 'Well Name', 'Operator', 'PA Date', 'County', 'Prod Date', 'API', 'Permit'],\n",
    "    'type_map': {        'OIL': 'OIL',        'GST': 'STORAGE',        'CM': 'GAS',        'GAS': 'GAS',\n",
    "        'SWD': 'DISPOSAL',        'WI': 'INJECTION',        'WW': 'WATER',        'UN': 'OTHER',\n",
    "        'GC': 'GAS',        'SHG': 'GAS',        'WS': 'WATER',        'GI': 'INJECTION',\n",
    "    },\n",
    "    'status_map': {\n",
    "        'PR': 'ACTIVE',        'PA': 'PA',        'AC': 'ACTIVE',        'AB': 'PA',        'PW': 'PERMITTED',\n",
    "        'PP': 'UNKNOWN',        'CA': 'CANCELLED',        'CI': 'CANCELLED',        'DA': 'PA',\n",
    "        'PB': 'PA',        'SI': 'PA',        'UN': 'UNKNOWN',        'CV': 'UNKNOWN',\n",
    "        'RJ': 'UNKNOWN',        'TA': 'TA',\n",
    "    },\n",
    "    'category_map': {\n",
    "        'OIL': 'CONVENTIONAL',        'GST': 'STORAGE',        'CM': 'CBM',        'GAS': 'CONVENTIONAL',\n",
    "        'SWD': 'OTHER',        'WI': 'UNCONVENTIONAL',        'WW': 'OTHER',        'UN': 'OTHER',\n",
    "        'GC': 'CONVENTIONAL',        'SHG': 'UNCONVENTIONAL',        'WS': 'WATER',        'GI': 'UNCONVENTIONAL',\n",
    "    },\n",
    "    'location_src_map': {\n",
    "        'S': 'S',\n",
    "        '&nbsp;': None,\n",
    "        'C': None,\n",
    "        'G': None,\n",
    "        'F': None,\n",
    "    }\n",
    "}\n",
    "\n",
    "\"\"\"\n",
    "From http://www.ogb.state.al.us/ogb/database.aspx:\n",
    "Well Status Descriptions\n",
    "AB - Abandoned, AC - Active, CA - Canceled, CI - Canceled with Injection, CV - Converted, DA - Dry and Abandoned, \n",
    "PA - Plugged and Abandoned,PB - Plugged Back, PR - Producing, PW - Permitted Well, RJ - Released Jurisdiction\n",
    "SI - Shut In, TA - Temporarily Abandoned, TP - Temporarily Plugged and Abandoned,UN - Undesignated\n",
    "\n",
    "\n",
    "Well Type Descriptions, CM - Coal Bed Methane, GAS - Natural Gas, GC - Gas Condensate, \n",
    "GI - Gas Injection, GST - Gas Storage, OIL - Oil, SHG - Shale Gas, \n",
    "SWD - Salt Water Disposal, UN - Undesignated, WI - Water Injection, WS - Water Source, \n",
    "WW - Water Well\n",
    "\"\"\"\n",
    "\n",
    "\n",
    "state.load_data()\n",
    "dataset = Dataset(state)\n",
    "db_result = dataset.commit_to_db()\n",
    "print 'loaded', str(db_result), 'of', str(len(dataset.processed_data)), 'records into the database'"
   ]
  },
  {
   "cell_type": "code",
   "execution_count": 65,
   "metadata": {
    "collapsed": false
   },
   "outputs": [
    {
     "name": "stdout",
     "output_type": "stream",
     "text": [
      "8752 of 8752 rows loaded\n",
      "first item: [{'status': 'PA', 'date': datetime.datetime(1986, 11, 28, 0, 0), 'state': 'AK', 'api': '50009009990000', 'description': 'Operator Name: HERSHEY\\nLease Num: \\nFldPlWld: WILDCAT\\nArea: COOK INLET BASIN\\nWell Name: WATER WELL-HERSHEY', 'location_src': None, 'lat': 61.65876676478805, 'type': 'GAS', 'category': 'CONVENTIONAL', 'lon': -149.41019943170826}]\n",
      "loaded 8752 of 8752 records into the database\n"
     ]
    }
   ],
   "source": [
    "# Alaska\n",
    "state = State('AK')\n",
    "# state.set_projection(4267) # NAD27 - unclear what format the data coming from the ArcGIS database--presumably WGS84\n",
    "state.source_url = 'http://doa.alaska.gov/ogc/publicdb.html'\n",
    "state.description = \"\"\"\n",
    "Data from the Alaska Oil and Gas Conservation Commission\n",
    "\"\"\"\n",
    "\n",
    "state.layout = {\n",
    "    'date_field': 'Spud_Date',\n",
    "    'api_field': 'APINumber',\n",
    "    'api_includes_state': True,\n",
    "    'type_field': 'IStatus',\n",
    "    'status_field': 'CStatus',\n",
    "    'category_field': 'FStatus',\n",
    "    'lat_field': 'y',\n",
    "    'lon_field': 'x',\n",
    "    'location_src_field': None,\n",
    "    'description_layout': '\\n'.join(['Operator Name: %s',\n",
    "                             'Lease Num: %s',\n",
    "                             'FldPlWld: %s',\n",
    "                             'Area: %s',\n",
    "                             'Well Name: %s'\n",
    "                            ]),\n",
    "    'description_fields': ['OPName', 'LeaseNum', 'FldPlWld', 'Area', 'WName'],\n",
    "    'type_map': {\n",
    "        '': 'OTHER',\n",
    "        'GSTOR': 'STORAGE',\n",
    "        '1-0IL': 'OIL',\n",
    "        'WTRSP': 'WATER',\n",
    "        '1-OIL': 'OIL',\n",
    "        'GASSP': 'GAS',\n",
    "        'WDSP1': 'DISPOSAL',\n",
    "        'WDSP2': 'DISPOSAL',\n",
    "        '3-GAS': 'GAS',\n",
    "        '1-SBNG': 'GAS',\n",
    "        'WAGIN': 'OTHER',\n",
    "        '1O-WI': 'OIL',\n",
    "        '2-GAS': 'GAS',\n",
    "        'P&A': 'OIL',\n",
    "        'CORE': 'TEST',\n",
    "        '2O-2G': 'OILANDGAS',\n",
    "        '2O-1G': 'OILANDGAS',\n",
    "        'OBSW': 'OBSERVATION',\n",
    "        '1G-GS': 'GAS',\n",
    "        '1WINJ': 'INJECTION',\n",
    "        '2-OIL': 'OIL',\n",
    "        '1-CBNG': 'GAS',\n",
    "        'INFO': 'TEST',\n",
    "        'RELIF': 'OTHER',\n",
    "        'WATER': 'WATER',\n",
    "        'UN': 'OTHER',\n",
    "        '1-GAS': 'GAS',\n",
    "        'GEOTH': 'OTHER',\n",
    "        'COND': 'OTHER',\n",
    "        '1GINJ': 'OTHER',\n",
    "        '2WINJ': 'OTHER',\n",
    "    },\n",
    "    'status_map': {\n",
    "        '': 'UNKNOWN',\n",
    "        'GSTOR': 'ACTIVE',\n",
    "        'WTRSP': 'ACTIVE',\n",
    "        '1WIN2S': 'ACTIVE',\n",
    "        '1-OIL': 'ACTIVE',\n",
    "        'P&AOG': 'PA',\n",
    "        'WDSP1': 'ACTIVE',\n",
    "        '1-SBNG': 'ACTIVE',\n",
    "        'WDSP2': 'ACTIVE',\n",
    "        '3-GAS': 'ACTIVE',\n",
    "        'CO-2O': 'ACTIVE',\n",
    "        'SQZED': 'UNKNOWN',\n",
    "        '1G-WD': 'ACTIVE',\n",
    "        'P&A-G': 'PA',\n",
    "        'WAGIN': 'UNKNOWN',\n",
    "        '1O-WI': 'ACTIVE',\n",
    "        '1-WINJ': 'ACTIVE',\n",
    "        '2-GAS': 'ACTIVE',\n",
    "        'P&A': 'PA',\n",
    "        '2G-GS': 'ACTIVE',\n",
    "        'GI-1O': 'ACTIVE',\n",
    "        'OBSW': 'UNKNOWN',\n",
    "        '1G-GS': 'ACTIVE',\n",
    "        '1-0IL': 'ACTIVE',\n",
    "        'ADMA': 'UNKNOWN',\n",
    "        '2-OIL': 'ACTIVE',\n",
    "        'SUSP': 'TA',\n",
    "        'SPLUG': 'PA',\n",
    "        'CO-3O': 'UNKNOWN',\n",
    "        'INFO': 'UNKNOWN',\n",
    "        'SI': 'UNKNOWN',\n",
    "        'UN': 'UNKNOWN',\n",
    "        '1-GAS': 'ACTIVE',\n",
    "        'GEOTH': 'UNKNOWN',\n",
    "        '1WINJ': 'ACTIVE',\n",
    "        '1GINJ': 'ACTIVE',\n",
    "        '2WINJ': 'ACTIVE',\n",
    "    },\n",
    "    'category_map': {\n",
    "        '': 'OTHER',\n",
    "        'GSTOR': 'STORAGE',\n",
    "        '1OINJ': 'UIC',\n",
    "        'WTRSP': 'OTHER',\n",
    "        '1-OIL': 'CONVENTIONAL',\n",
    "        'GASSP': 'CONVENTIONAL',\n",
    "        'P&AOG': 'CONVENTIONAL',\n",
    "        'COND': 'OTHER',\n",
    "        '1-SBNG': 'OTHER',\n",
    "        'WDSP2': 'OTHER',\n",
    "        'P&A-O': 'CONVENTIONAL',\n",
    "        'CO-2O': 'OTHER',\n",
    "        'SQZED': 'OTHER',\n",
    "        '1G-WD': 'CONVENTIONAL',\n",
    "        'P&A-G': 'CONVENTIONAL',\n",
    "        '3-OIL': 'CONVENTIONAL',\n",
    "        'PERMIT': 'OTHER',\n",
    "        '1O-WI': 'UIC',\n",
    "        '2-GAS': 'CONVENTIONAL',\n",
    "        'P&A': 'CONVENTIONAL',\n",
    "        'CO-3O': 'OTHER',\n",
    "        'W-INJW': 'UIC',\n",
    "        'OBSW': 'TEST',\n",
    "        '1G-GS': 'CONVENTIONAL',\n",
    "        '1WINJ': 'UIC',\n",
    "        '2-OIL': 'CONVENTIONAL',\n",
    "        'SUSP': 'CONVENTIONAL',\n",
    "        '1-0IL': 'CONVENTIONAL',\n",
    "        'OIL-WO': 'CONVENTIONAL',\n",
    "        '1-CBNG': 'OTHER',\n",
    "        'INFO': 'TEST',\n",
    "        '3-GAS': 'CONVENTIONAL',\n",
    "        'P&A-OG': 'CONVENTIONAL',\n",
    "        'P&A-OC': 'CONVENTIONAL',\n",
    "        'SI': 'OTHER',\n",
    "        'WAGIN': 'OTHER',\n",
    "        '1-GAS': 'CONVENTIONAL',\n",
    "        'GEOTH': 'OTHER',\n",
    "        'WDSP1': 'OTHER',\n",
    "        '1GINJ': 'UIC',\n",
    "        '2WINJ': 'UIC',\n",
    "    },\n",
    "    'location_src_map': None\n",
    "}\n",
    "\n",
    "state.load_data()\n",
    "dataset = Dataset(state)\n",
    "db_result = dataset.commit_to_db()\n",
    "print 'loaded', str(db_result), 'of', str(len(dataset.processed_data)), 'records into the database'"
   ]
  },
  {
   "cell_type": "code",
   "execution_count": 53,
   "metadata": {
    "collapsed": false
   },
   "outputs": [
    {
     "name": "stdout",
     "output_type": "stream",
     "text": [
      "Warning: Missing source_url\n",
      "Wrote description for AZ to database\n",
      "1135 of 1135 rows loaded\n",
      "first item: [{'status': 'PA', 'date': None, 'state': 'AZ', 'api': '0201290001', 'description': 'Well Name: Phillips Petroleum H01 Federal\\nOperator: Phillips Petroleum\\nCounty: LA PAZ\\nField: \\nAZ OGCC Notes: no logs', 'location_src': None, 'lat': 33.49979433000004, 'type': 'OTHER', 'category': None, 'lon': -113.63266879999998}]\n",
      "loaded 1135 of 1135 records into the database\n"
     ]
    }
   ],
   "source": [
    "# Arizona\n",
    "state = State('AZ')\n",
    "source_url = 'http://azogcc.az.gov/'\n",
    "state.description = \"\"\"\n",
    "Data from the Arizona Oil and Gas Conservation Commission ArcGIS map at http://ogviewer.azdeq.gov/\n",
    "\"\"\"\n",
    "\n",
    "state.write_to_db()\n",
    "\n",
    "state.layout = {\n",
    "    'date_field': 'date',\n",
    "    'api_field': 'apino',\n",
    "    'api_includes_state': True,\n",
    "    'type_field': 'welltype',\n",
    "    'status_field': 'status',\n",
    "    'category_field': None,\n",
    "    'lat_field': 'y',\n",
    "    'lon_field': 'x',\n",
    "    'location_src_field': None,\n",
    "    'description_layout': '\\n'.join(['Well Name: %s',\n",
    "                             'Operator: %s',\n",
    "                             'County: %s',\n",
    "                             'Field: %s', \n",
    "                             'AZ OGCC Notes: %s'\n",
    "                            ]),\n",
    "    'description_fields': ['wellname', 'operator', 'county', 'field', 'notes'],\n",
    "    'type_map': {\n",
    "        'GasStorage': 'STORAGE',\n",
    "        'Disposal': 'DISPOSAL',\n",
    "        'Gas': 'GAS',\n",
    "        'Water Well': 'WATER',\n",
    "        'Geothermal': 'OTHER',\n",
    "        'O&Gexplor': 'OILANDGAS',\n",
    "    },\n",
    "    'status_map': {\n",
    "        'Unknown': 'UNKNOWN',\n",
    "        'Shut in': 'PA',\n",
    "        'Abandoned plugged': 'PA',\n",
    "        'Active': 'ACTIVE',\n",
    "        'Abandoned junked': 'PA',\n",
    "        'Abandoned temporary': 'TA',\n",
    "        'Temoprarily abandoned': 'TA',\n",
    "    },\n",
    "    'category_map': None,\n",
    "    'location_src_map': None\n",
    "}\n",
    "\n",
    "state.load_data()\n",
    "dataset = Dataset(state)\n",
    "db_result = dataset.commit_to_db()\n",
    "if db_result:\n",
    "    print 'loaded', str(db_result), 'of', str(len(dataset.processed_data)), 'records into the database'\n",
    "else:\n",
    "    print \"** error loading database! **\""
   ]
  },
  {
   "cell_type": "code",
   "execution_count": null,
   "metadata": {
    "collapsed": true
   },
   "outputs": [],
   "source": [
    "# Arkansas\n",
    "state = State('AR')"
   ]
  },
  {
   "cell_type": "code",
   "execution_count": null,
   "metadata": {
    "collapsed": true
   },
   "outputs": [],
   "source": [
    "# California\n",
    "state = State('CA')"
   ]
  },
  {
   "cell_type": "code",
   "execution_count": null,
   "metadata": {
    "collapsed": true
   },
   "outputs": [],
   "source": [
    "# Colorado\n",
    "state = State('CO')"
   ]
  },
  {
   "cell_type": "code",
   "execution_count": null,
   "metadata": {
    "collapsed": true
   },
   "outputs": [],
   "source": [
    "# Connecticut\n",
    "state = State('CT')"
   ]
  },
  {
   "cell_type": "code",
   "execution_count": null,
   "metadata": {
    "collapsed": true
   },
   "outputs": [],
   "source": [
    "# Delaware\n",
    "state = State('DE')"
   ]
  },
  {
   "cell_type": "code",
   "execution_count": null,
   "metadata": {
    "collapsed": true
   },
   "outputs": [],
   "source": [
    "# District of Columbia\n",
    "state = State('DC')"
   ]
  },
  {
   "cell_type": "code",
   "execution_count": null,
   "metadata": {
    "collapsed": true
   },
   "outputs": [],
   "source": [
    "# Florida\n",
    "state = State('FL')"
   ]
  },
  {
   "cell_type": "code",
   "execution_count": null,
   "metadata": {
    "collapsed": true
   },
   "outputs": [],
   "source": [
    "# Georgia\n",
    "state = State('GA')"
   ]
  },
  {
   "cell_type": "code",
   "execution_count": null,
   "metadata": {
    "collapsed": true
   },
   "outputs": [],
   "source": [
    "# Hawaii\n",
    "state = State('HI')"
   ]
  },
  {
   "cell_type": "code",
   "execution_count": null,
   "metadata": {
    "collapsed": true
   },
   "outputs": [],
   "source": [
    "# Idaho\n",
    "state = State('ID')"
   ]
  },
  {
   "cell_type": "code",
   "execution_count": null,
   "metadata": {
    "collapsed": true
   },
   "outputs": [],
   "source": [
    "# Illinois\n",
    "state = State('IL')"
   ]
  },
  {
   "cell_type": "code",
   "execution_count": 73,
   "metadata": {
    "collapsed": false
   },
   "outputs": [
    {
     "name": "stdout",
     "output_type": "stream",
     "text": [
      "Warning: Missing source_url\n",
      "Warning: Missing state description\n",
      "Wrote description for IN to database\n",
      "49963 of 51512 rows loaded\n",
      "first item: [{'status': 'PA', 'date': datetime.datetime(1890, 1, 1, 0, 0), 'state': 'IN', 'api': '13138538', 'description': 'County: Hamilton\\nField Name: Trenton\\nIGS ID: 138538\\nIGS Reported Status: gas\\nLink: <a href=\"https://igs.indiana.edu/pdms/wellEvents.cfm?igsID=138538\">IGS link</a>', 'location_src': None, 'lat': 39.994642027816056, 'type': 'GAS', 'category': None, 'lon': -86.18338877060668}]\n",
      "loaded 49963 of 49963 records into the database\n"
     ]
    }
   ],
   "source": [
    "# Indiana\n",
    "state = State('IN')\n",
    "state.source_url = 'https://igs.indiana.edu/pdms/map/'\n",
    "state.description = \"\"\"\n",
    "Oil and gas records retrieved from the Indiana Geological Survey. Well location data is\n",
    "retrieved from the Petroleum Database Managment System at <a href=\"https://igs.indiana.edu/pdms/map/\"\n",
    "target=\"_blank\">https://igs.indiana.edu/pdms/map/</a>. Well status information is retrieved\n",
    "by querying the PDMS well record tables at: https://igs.indiana.edu/PDMS/WellSearch.cfm\n",
    "All locations are assumed to be surface locations.\n",
    "Indiana does not identify its wells using API numbers. For the purposes of our database,\n",
    "we have used the two digit state prefix plus the IGS_ID to identify Indiana wells.\n",
    "\"\"\"\n",
    "\n",
    "state.write_to_db()\n",
    "# IN Well Symbols and Statuses: https://igs.indiana.edu/pdms/Help/index.htm#t=Petroleum_Well_Symbols.htm\n",
    "state.layout = {\n",
    "    'date_field': 'Date',\n",
    "    'api_field': 'IGS_ID',\n",
    "    'api_includes_state': False,\n",
    "    'type_field': 'SYMBOL',\n",
    "    'status_field': 'SYMBOL',\n",
    "    'category_field': None,\n",
    "    'location_src_field': None,\n",
    "    'lat_field': 'y',\n",
    "    'lon_field': 'x',\n",
    "    'description_layout': '\\n'.join(['County: %s',\n",
    "                             'Field Name: %s',\n",
    "                             'IGS ID: %s',\n",
    "                             'IGS Reported Status: %s',\n",
    "                             'Link: <a href=\"https://igs.indiana.edu/pdms/wellEvents.cfm?igsID=%s\">IGS link</a>'\n",
    "                            ]),\n",
    "    'description_fields': ['COUNTY', 'FIELD_NAME', 'IGS_ID', 'Status', 'IGS_ID'],\n",
    "    'type_map': {\n",
    "        'OAG': 'OILANDGAS',\n",
    "        'AGAS-C': 'GAS',\n",
    "        'AOIL': 'OIL',\n",
    "        'AWIO': 'INJECTION',\n",
    "        'GSG': 'STORAGE',\n",
    "        'ASWDO': 'DISPOSAL',\n",
    "        'AGAS-L': 'GAS',\n",
    "        'AWIG': 'INJECTION',\n",
    "        'AOAG-LC': 'OILANDGAS',\n",
    "        'GSO': 'STORAGE',\n",
    "        'AOIL-C': 'OIL',\n",
    "        'NPWSO': 'WATER',\n",
    "        'TAOIL': 'OIL',\n",
    "        'GAS': 'GAS',\n",
    "        'AOIL-L': 'OIL',\n",
    "        'AGAS': 'GAS',\n",
    "        'AOAG-L': 'OILANDGAS',\n",
    "        'AOAG-C': 'OILANDGAS',\n",
    "        'AOIL-LC': 'OIL',\n",
    "        'WIOG': 'INJECTION',\n",
    "        'OBG': 'OBSERVATION',\n",
    "        'ASWDG': 'DISPOSAL',\n",
    "        'AGSO': 'STORAGE',\n",
    "        'AGAS-LC': 'GAS',\n",
    "        'AGSG': 'STORAGE',\n",
    "        'WIG': 'INJECTION',\n",
    "        'SWDO': 'DISPOSAL',\n",
    "        'OIL': 'OIL',\n",
    "        'TAGAS': 'GAS',\n",
    "        'WIO': 'INJECTION',\n",
    "        'SWDG': 'DISPOSAL',\n",
    "        'TAOG': 'OILANDGAS',\n",
    "        'AOAG': 'OILANDGAS',\n",
    "        'AWIOG': 'INJECTION',\n",
    "    },\n",
    "    'status_map': {  \n",
    "        'OAG': 'ACTIVE',\n",
    "        'AGAS-C': 'PA',\n",
    "        'AOIL': 'PA',\n",
    "        'AWIO': 'PA',\n",
    "        'GSG': 'ACTIVE',\n",
    "        'ASWDO': 'PA',\n",
    "        'AGAS-L': 'PA',\n",
    "        'AWIG': 'PA',\n",
    "        'AOAG-LC': 'PA',\n",
    "        'GSO': 'ACTIVE',\n",
    "        'AOIL-C': 'PA',\n",
    "        'NPWSO': 'ACTIVE',\n",
    "        'TAOIL': 'TA',\n",
    "        'GAS': 'ACTIVE',\n",
    "        'AOIL-L': 'PA',\n",
    "        'AGAS': 'PA',\n",
    "        'AOAG-L': 'PA',\n",
    "        'AOAG-C': 'PA',\n",
    "        'AOIL-LC': 'PA',\n",
    "        'WIOG': 'ACTIVE',\n",
    "        'OBG': 'ACTIVE',\n",
    "        'ASWDG': 'PA',\n",
    "        'AGSO': 'PA',\n",
    "        'AGAS-LC': 'PA',\n",
    "        'AGSG': 'PA',\n",
    "        'WIG': 'ACTIVE',\n",
    "        'SWDO': 'ACTIVE',\n",
    "        'OIL': 'ACTIVE',\n",
    "        'TAGAS': 'TA',\n",
    "        'WIO': 'ACTIVE',\n",
    "        'SWDG': 'ACTIVE',\n",
    "        'TAOG': 'TA',\n",
    "        'AOAG': 'PA',\n",
    "        'AWIOG': 'PA',\n",
    "    },\n",
    "    'category_map': None,\n",
    "    'location_src_map': None\n",
    "}\n",
    "\n",
    "# Symobol Map\n",
    "state.load_data()\n",
    "dataset = Dataset(state)\n",
    "db_result = dataset.commit_to_db()\n",
    "if db_result:\n",
    "    print 'loaded', str(db_result), 'of', str(len(dataset.processed_data)), 'records into the database'\n",
    "else:\n",
    "    print \"** error loading database! **\""
   ]
  },
  {
   "cell_type": "code",
   "execution_count": null,
   "metadata": {
    "collapsed": true
   },
   "outputs": [],
   "source": [
    "# Iowa\n",
    "state = State('IA')"
   ]
  },
  {
   "cell_type": "code",
   "execution_count": null,
   "metadata": {
    "collapsed": true
   },
   "outputs": [],
   "source": [
    "# Kansas\n",
    "state = State('KS')"
   ]
  },
  {
   "cell_type": "code",
   "execution_count": null,
   "metadata": {
    "collapsed": true
   },
   "outputs": [],
   "source": [
    "# Kentucky\n",
    "state = State('KY')"
   ]
  },
  {
   "cell_type": "code",
   "execution_count": null,
   "metadata": {
    "collapsed": true
   },
   "outputs": [],
   "source": [
    "# Louisiana\n",
    "state = State('LA')"
   ]
  },
  {
   "cell_type": "code",
   "execution_count": null,
   "metadata": {
    "collapsed": true
   },
   "outputs": [],
   "source": [
    "# Maine\n",
    "state = State('ME')"
   ]
  },
  {
   "cell_type": "code",
   "execution_count": null,
   "metadata": {
    "collapsed": true
   },
   "outputs": [],
   "source": [
    "# Maryland\n",
    "state = State('MD')"
   ]
  },
  {
   "cell_type": "code",
   "execution_count": null,
   "metadata": {
    "collapsed": true
   },
   "outputs": [],
   "source": [
    "# Massachusetts\n",
    "state = State('MA')"
   ]
  },
  {
   "cell_type": "code",
   "execution_count": null,
   "metadata": {
    "collapsed": true
   },
   "outputs": [],
   "source": [
    "# Michigan\n",
    "state = State('MI')"
   ]
  },
  {
   "cell_type": "code",
   "execution_count": null,
   "metadata": {
    "collapsed": true
   },
   "outputs": [],
   "source": [
    "# Minnesota\n",
    "state = State('MN')"
   ]
  },
  {
   "cell_type": "code",
   "execution_count": null,
   "metadata": {
    "collapsed": true
   },
   "outputs": [],
   "source": [
    "# Mississippi\n",
    "state = State('MS')"
   ]
  },
  {
   "cell_type": "code",
   "execution_count": null,
   "metadata": {
    "collapsed": true
   },
   "outputs": [],
   "source": [
    "# Missouri\n",
    "state = State('MO')"
   ]
  },
  {
   "cell_type": "code",
   "execution_count": null,
   "metadata": {
    "collapsed": true
   },
   "outputs": [],
   "source": [
    "# Montana\n",
    "state = State('MT')"
   ]
  },
  {
   "cell_type": "code",
   "execution_count": null,
   "metadata": {
    "collapsed": true
   },
   "outputs": [],
   "source": [
    "# Nebraska\n",
    "state = State('NE')"
   ]
  },
  {
   "cell_type": "code",
   "execution_count": null,
   "metadata": {
    "collapsed": true
   },
   "outputs": [],
   "source": [
    "# Nevada\n",
    "state = State('NV')"
   ]
  },
  {
   "cell_type": "code",
   "execution_count": null,
   "metadata": {
    "collapsed": true
   },
   "outputs": [],
   "source": [
    "# New Hampshire\n",
    "state = State('NH')"
   ]
  },
  {
   "cell_type": "code",
   "execution_count": null,
   "metadata": {
    "collapsed": true
   },
   "outputs": [],
   "source": [
    "# New Jersey\n",
    "state = State('NJ')"
   ]
  },
  {
   "cell_type": "code",
   "execution_count": null,
   "metadata": {
    "collapsed": true
   },
   "outputs": [],
   "source": [
    "# New Mexico\n",
    "state = State('NM')"
   ]
  },
  {
   "cell_type": "code",
   "execution_count": null,
   "metadata": {
    "collapsed": true
   },
   "outputs": [],
   "source": [
    "# New York\n",
    "state = State('NY')"
   ]
  },
  {
   "cell_type": "code",
   "execution_count": null,
   "metadata": {
    "collapsed": true
   },
   "outputs": [],
   "source": [
    "# North Carolina\n",
    "state = State('NC')"
   ]
  },
  {
   "cell_type": "code",
   "execution_count": null,
   "metadata": {
    "collapsed": true
   },
   "outputs": [],
   "source": [
    "# North Dakota\n",
    "state = State('ND')"
   ]
  },
  {
   "cell_type": "code",
   "execution_count": null,
   "metadata": {
    "collapsed": true
   },
   "outputs": [],
   "source": [
    "# Ohio\n",
    "state = State('OH')"
   ]
  },
  {
   "cell_type": "code",
   "execution_count": null,
   "metadata": {
    "collapsed": true
   },
   "outputs": [],
   "source": [
    "# Oklahoma\n",
    "state = State('OK')"
   ]
  },
  {
   "cell_type": "code",
   "execution_count": null,
   "metadata": {
    "collapsed": true
   },
   "outputs": [],
   "source": [
    "# Oregon\n",
    "state = State('OR')"
   ]
  },
  {
   "cell_type": "code",
   "execution_count": 67,
   "metadata": {
    "collapsed": false
   },
   "outputs": [
    {
     "name": "stdout",
     "output_type": "stream",
     "text": [
      "Wrote description for PA to database\n",
      "142788 of 203545 rows loaded\n",
      "first item: [{'status': 'ACTIVE', 'date': None, 'state': 'PA', 'api': '3700300921', 'description': 'County: Allegheny\\nOperator Name: DANIEL J NADLER\\nOGO No: OGO-32546\\nMunicipality: Aleppo Twp\\nFarm Name: ZACHARY NADLER 1\\nWell Configuration: Vertical Well', 'location_src': None, 'lat': 40.529607, 'type': 'OIL', 'category': 'CONVENTIONAL', 'lon': -80.139878}]\n",
      "loaded 142788 of 142788 records into the database\n"
     ]
    }
   ],
   "source": [
    "# Pennsylvania\n",
    "state = State('PA')\n",
    "state.source_url = 'http://www.depreportingservices.state.pa.us/ReportServer/Pages/ReportViewer.aspx?/Oil_Gas/Spud_External_Data'\n",
    "state.description = \"\"\"\n",
    "Data downloaded in CSV form based on setting SPUD BEGIN DATE = 1/1/1800 and SPUD END DATE = 12/31/2099\n",
    "Represents 142,788, of which 110,000 have dates wells.\n",
    "\"\"\"\n",
    "state.write_to_db()\n",
    "\n",
    "state.layout = {\n",
    "    'date_field': 'SPUD_DATE',\n",
    "    'api_field': 'API',\n",
    "    'api_includes_state': False,\n",
    "    'type_field': 'WELL_CODE_DESC',\n",
    "    'status_field': 'WELL_STATUS',\n",
    "    'category_field': 'UNCONVENTIONAL',\n",
    "    'location_src_field': None,\n",
    "    'lat_field': 'LATITUDE',\n",
    "    'lon_field': 'LONGITUDE',\n",
    "    'description_layout': '\\n'.join(['County: %s',\n",
    "                             'Operator Name: %s',\n",
    "                             'OGO No: %s',\n",
    "                             'Municipality: %s',\n",
    "                             'Farm Name: %s',\n",
    "                             'Well Configuration: %s'\n",
    "                            ]),\n",
    "    'description_fields': ['COUNTY', 'OPERATOR', 'OGO_NUM', 'MUNICIPALITY', 'FARM_NAME', 'CONFIGURATION'],\n",
    "    \n",
    "    'type_map': {\n",
    "        'UNDETERMINED': 'OTHER',\n",
    "        'MULTIPLE WELL BORE TYPE': 'OTHER',\n",
    "        'OIL': 'OIL',\n",
    "        'OBSERVATION': 'OBSERVATION',\n",
    "        'DRY HOLE': 'DRY HOLE',\n",
    "        'COALBED METHANE': 'GAS',\n",
    "        'GAS': 'GAS',\n",
    "        'COMB. OIL&GAS': 'OILANDGAS',\n",
    "        'STORAGE WELL': 'STORAGE',\n",
    "        'WASTE DISPOSAL': 'DISPOSAL',\n",
    "        'INJECTION': 'INJECTION',\n",
    "        'TEST WELL': 'TEST',\n",
    "    },\n",
    "\n",
    "    'status_map': {\n",
    "        'DEP Abandoned List': 'ORPHAN',\n",
    "        'Plugged OG Well': 'PA',\n",
    "        'DEP Orphan List': 'ORPHAN',\n",
    "        'DEP Plugged': 'PA',\n",
    "        'Regulatory Inactive Status': 'UNKNOWN',\n",
    "        'Operator Reported Not Drilled': 'CANCELLED',\n",
    "        'Proposed But Never Materialized': 'CANCELLED',\n",
    "        'Active': 'ACTIVE',\n",
    "        'Abandoned': 'PA',\n",
    "    },\n",
    "\n",
    "    'category_map': {\n",
    "        'Yes': 'UNCONVENTIONAL',\n",
    "        'No': 'CONVENTIONAL',\n",
    "    },\n",
    "    'location_src_map': None\n",
    "}\n",
    "\n",
    "state.load_data()\n",
    "dataset = Dataset(state)\n",
    "db_result = dataset.commit_to_db()\n",
    "if db_result:\n",
    "    print 'loaded', str(db_result), 'of', str(len(dataset.processed_data)), 'records into the database'\n",
    "else:\n",
    "    print \"** error loading database! **\""
   ]
  },
  {
   "cell_type": "code",
   "execution_count": null,
   "metadata": {
    "collapsed": true
   },
   "outputs": [],
   "source": [
    "# Rhode Island\n",
    "state = State('RI')"
   ]
  },
  {
   "cell_type": "code",
   "execution_count": null,
   "metadata": {
    "collapsed": true
   },
   "outputs": [],
   "source": [
    "# South Carolina\n",
    "state = State('SC')"
   ]
  },
  {
   "cell_type": "code",
   "execution_count": null,
   "metadata": {
    "collapsed": true
   },
   "outputs": [],
   "source": [
    "# South Dakota\n",
    "state = State('SD')"
   ]
  },
  {
   "cell_type": "code",
   "execution_count": 68,
   "metadata": {
    "collapsed": false
   },
   "outputs": [
    {
     "name": "stdout",
     "output_type": "stream",
     "text": [
      "Wrote description for TN to database\n",
      "15976 of 16042 rows loaded\n",
      "first item: [{'status': 'UNKNOWN', 'date': datetime.datetime(2016, 7, 22, 0, 0), 'state': 'TN', 'api': '4113322739', 'description': 'County: Overton\\nOperator Name: Hornet Corporation\\nPermit No: 0012839\\nWell Name and Number: Johnny Taylor #1A\\nEFO Name: Cookeville', 'location_src': None, 'lat': 36.500806, 'type': 'OILANDGAS', 'category': None, 'lon': -85.240611}]\n",
      "loaded 15976 of 15976 records into the database\n"
     ]
    }
   ],
   "source": [
    "# Tennessee\n",
    "state = State('TN')\n",
    "\n",
    "state.description = \"\"\"\n",
    "Tennessee's Department of Environment & Conservation does not \n",
    "doesn't make a lot of details available (no spud date, well status). The dates recorded are the \n",
    "Permit Date. Status is set to unknown for all wells. Per their website, \n",
    "<i>\"This minimal permit information is intended to allow the public to easily track the number and \n",
    "locations of oil and gas well permits issued. For more detailed information about a specific well, \n",
    "contact the Oil and Gas program staff at 615-687-7109 . Permit files can be accessed by visiting \n",
    "the Oil and Gas Section at the Nashville Environmental Field Office in Nashville, TN 37243.\"</i>\n",
    "\"\"\"\n",
    "state.source_url = 'http://environment-online.state.tn.us:8080/pls/enf_reports/f?p=9034:34300:0::NO:::'\n",
    "state.write_to_db()\n",
    "\n",
    "state.layout = {\n",
    "    'date_field': 'Permit Date',\n",
    "    'api_field': 'API No',\n",
    "    'api_includes_state': False,\n",
    "    'type_field': 'Purpose af Well',\n",
    "    'status_field': None,\n",
    "    'category_field': None,\n",
    "    'location_src_field': None,\n",
    "    'lat_field': 'Latitude',\n",
    "    'lon_field': 'Longitude',\n",
    "    'description_layout': '\\n'.join(['County: %s',\n",
    "                             'Operator Name: %s',\n",
    "                             'Permit No: %s',\n",
    "                             'Well Name and Number: %s',\n",
    "                             'EFO Name: %s'\n",
    "                            ]),\n",
    "    'description_fields': ['County', 'Operator Name', 'Permit No', 'Well Name and Number', 'EFO Name'],\n",
    "    'type_map': None,\n",
    "    'status_map': None,\n",
    "    'category_map': None,\n",
    "    'type_map': {\n",
    "        '': 'OTHER',\n",
    "        'Oil': 'OIL',\n",
    "        'Oil And Gas': 'OILANDGAS',\n",
    "        'Mineral Core Test': 'TEST',\n",
    "        'Gas': 'GAS',\n",
    "        'NCG - Domestic Use': 'OTHER',\n",
    "    },\n",
    "    'location_src_map': None\n",
    "}\n",
    "\n",
    "state.load_data()\n",
    "dataset = Dataset(state)\n",
    "db_result = dataset.commit_to_db()\n",
    "if db_result:\n",
    "    print 'loaded', str(db_result), 'of', str(len(dataset.processed_data)), 'records into the database'\n",
    "else:\n",
    "    print \"** error loading database! **\""
   ]
  },
  {
   "cell_type": "code",
   "execution_count": null,
   "metadata": {
    "collapsed": true
   },
   "outputs": [],
   "source": [
    "# Texas\n",
    "state = State('TX')"
   ]
  },
  {
   "cell_type": "code",
   "execution_count": null,
   "metadata": {
    "collapsed": true
   },
   "outputs": [],
   "source": [
    "# Utah\n",
    "state = State('UT')"
   ]
  },
  {
   "cell_type": "code",
   "execution_count": null,
   "metadata": {
    "collapsed": true
   },
   "outputs": [],
   "source": [
    "# Vermont\n",
    "state = State('VT')"
   ]
  },
  {
   "cell_type": "code",
   "execution_count": null,
   "metadata": {
    "collapsed": true
   },
   "outputs": [],
   "source": [
    "# Virginia\n",
    "state = State('VA')"
   ]
  },
  {
   "cell_type": "code",
   "execution_count": null,
   "metadata": {
    "collapsed": true
   },
   "outputs": [],
   "source": [
    "# Washington\n",
    "state = State('WA')"
   ]
  },
  {
   "cell_type": "code",
   "execution_count": null,
   "metadata": {
    "collapsed": true
   },
   "outputs": [],
   "source": [
    "# West Virginia\n",
    "state = State('WV')"
   ]
  },
  {
   "cell_type": "code",
   "execution_count": null,
   "metadata": {
    "collapsed": true
   },
   "outputs": [],
   "source": [
    "# Wisconsin\n",
    "state = State('WI')"
   ]
  },
  {
   "cell_type": "code",
   "execution_count": null,
   "metadata": {
    "collapsed": true
   },
   "outputs": [],
   "source": [
    "# Wyoming\n",
    "state = State('WY')"
   ]
  },
  {
   "cell_type": "code",
   "execution_count": null,
   "metadata": {
    "collapsed": true
   },
   "outputs": [],
   "source": [
    "# Alaska Offshore\n",
    "state = State('AK1')\n",
    "# Pacific Coast Offshore\n",
    "state = State('CA1')\n",
    "# Northern Gulf of Mexico\n",
    "state = State('TX1')\n",
    "# Atlantic Coast Offshore\n",
    "state = State('DC1')\n"
   ]
  }
 ],
 "metadata": {
  "kernelspec": {
   "display_name": "Python 2",
   "language": "python",
   "name": "python2"
  },
  "language_info": {
   "codemirror_mode": {
    "name": "ipython",
    "version": 2
   },
   "file_extension": ".py",
   "mimetype": "text/x-python",
   "name": "python",
   "nbconvert_exporter": "python",
   "pygments_lexer": "ipython2",
   "version": "2.7.11"
  }
 },
 "nbformat": 4,
 "nbformat_minor": 0
}
