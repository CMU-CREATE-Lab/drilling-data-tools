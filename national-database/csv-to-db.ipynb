{
 "cells": [
  {
   "cell_type": "code",
   "execution_count": 1,
   "metadata": {},
   "outputs": [],
   "source": [
    "# module that imports CSVs and processes to DB\n",
    "import os, errno, array, csv, math, re\n",
    "from datetime import datetime\n",
    "import dateutil.parser\n",
    "import importlib\n",
    "import psycopg2\n",
    "import fieldmaps"
   ]
  },
  {
   "cell_type": "code",
   "execution_count": 3,
   "metadata": {},
   "outputs": [
    {
     "name": "stdout",
     "output_type": "stream",
     "text": [
      "Wrote description for AL to database\n",
      "16414 of 17086 rows loaded\n",
      "first item: [{'state': 'AL', 'api': '01297203230000', 'lon': -88.302816, 'lat': 30.245575, 'date': datetime.date(1991, 7, 29), 'type': 'GAS', 'status': 'PA', 'category': 'CONVENTIONAL', 'description': 'Permit Num: 10008-OS-52-BH\\nWell Name: STATE LEASE 527 #1\\nOperator: Arco Oil & Gas Co., Div. Of Atlantic Richfield'}]\n",
      "loaded 16414 of 16414 records into the database\n"
     ]
    }
   ],
   "source": [
    "# Alabama\n",
    "import fieldmaps.al\n",
    "state = fieldmaps.State('AL', webdate = True)\n",
    "well_source_url = 'http://www.gsa.state.al.us/ogb/results.aspx?api=%s&permit=%s'\n",
    "state.source_url = 'http://www.gsa.state.al.us/ogb/db_main.html'\n",
    "state.description = \"\"\"\n",
    "Data from the Geological Survey of Alabama State Oil and Gas Board\n",
    "\"\"\"\n",
    "state.write_to_db()\n",
    "\n",
    "dataset = fieldmaps.Dataset(state, fieldmaps.al.layout)\n",
    "db_result = dataset.write_to_db()"
   ]
  },
  {
   "cell_type": "code",
   "execution_count": 5,
   "metadata": {},
   "outputs": [
    {
     "name": "stdout",
     "output_type": "stream",
     "text": [
      "Wrote description for AK to database\n",
      "8911 of 9160 rows loaded\n",
      "first item: [{'state': 'AK', 'api': '50103205776300', 'lon': -151.043238764074, 'lat': 70.3376726847063, 'date': datetime.date(2018, 3, 13), 'type': 'OIL', 'status': 'UNKNOWN', 'category': 'CONVENTIONAL', 'description': 'Permit No. 218026\\nOperator: CONOCOPHILLIPS ALASKA, INC.\\nArea: ARCTIC SLOPE\\nField: COLVILLE RIVER\\nPools: QANNIK  OIL\\nWell Name: COLVILLE RIV QANN CD2-463L2-01'}]\n",
      "loaded 8911 of 8911 records into the database\n"
     ]
    },
    {
     "data": {
      "text/plain": [
       "8911"
      ]
     },
     "execution_count": 5,
     "metadata": {},
     "output_type": "execute_result"
    }
   ],
   "source": [
    "# Alaska\n",
    "import fieldmaps.ak\n",
    "state = fieldmaps.State('AK')\n",
    "state.projection = 4267 # NAD27\n",
    "state.source_url = 'http://aogweb.state.ak.us/DataMiner3/Forms/WellList.aspx'\n",
    "state.description = \"\"\"\n",
    "Data from the Alaska Oil and Gas Conservation Commission\n",
    "\"\"\"\n",
    "state.write_to_db()\n",
    "\n",
    "dataset = fieldmaps.Dataset(state, fieldmaps.ak.layout)\n",
    "dataset.write_to_db()"
   ]
  },
  {
   "cell_type": "code",
   "execution_count": 7,
   "metadata": {},
   "outputs": [
    {
     "name": "stdout",
     "output_type": "stream",
     "text": [
      "Wrote description for AR to database\n",
      "30318 of 52490 rows loaded\n",
      "first item: [{'state': 'AR', 'api': '03131110170000', 'lon': -94.2957, 'lat': 35.2014, 'date': datetime.date(2003, 9, 8), 'type': 'GAS', 'status': 'ACTIVE', 'category': 'CONVENTIONAL', 'description': 'WELL NAME: Harkreader  2-15\\nWELL NUMBER: 2-15\\nOPERATOR: Xto Energy, Inc.\\nCOUNTY: Sebastian\\nFIELD NAME: B-44 Area'}]\n",
      "loaded 30318 of 30318 records into the database\n"
     ]
    },
    {
     "data": {
      "text/plain": [
       "30318"
      ]
     },
     "execution_count": 7,
     "metadata": {},
     "output_type": "execute_result"
    }
   ],
   "source": [
    "# Arkansas\n",
    "import fieldmaps.ar\n",
    "state = fieldmaps.State('AR')\n",
    "state.source_url = 'http://www.noggateway.org/reports'\n",
    "state.description = \"Data from the National Oil and Gas Gateway\"\n",
    "state.write_to_db()\n",
    "\n",
    "state.projection = 4269 # NAD83\n",
    "\n",
    "dataset = fieldmaps.Dataset(state, fieldmaps.ar.layout)\n",
    "dataset.write_to_db()"
   ]
  },
  {
   "cell_type": "code",
   "execution_count": 10,
   "metadata": {},
   "outputs": [
    {
     "name": "stdout",
     "output_type": "stream",
     "text": [
      "Wrote description for AZ to database\n",
      "1144 of 4774 rows loaded\n",
      "first item: [{'state': 'AZ', 'api': '0201290001', 'lon': -113.6326688, 'lat': 33.49979433, 'date': None, 'type': 'TEST', 'status': 'PA', 'category': None, 'description': 'Well Name: Phillips Petroleum H01 Federal\\nOperator: Phillips Petroleum\\nCounty: LA PAZ\\nField: \\nAZ OGCC Notes: no logs'}]\n",
      "loaded 1144 of 1144 records into the database\n"
     ]
    }
   ],
   "source": [
    "# Arizona\n",
    "import fieldmaps.az\n",
    "state = fieldmaps.State('AZ')\n",
    "state.source_url = 'http://services.azgs.az.gov/arcgis/rest/services/aasggeothermal/AZWellHeaders/MapServer/0'\n",
    "state.description = \"\"\"\n",
    "Data from the Arizona Oil and Gas Conservation Commission ArcGIS map at http://ogviewer.azdeq.gov/.\n",
    "\n",
    "Dates do not seem to be available from this source.\n",
    "\"\"\"\n",
    "state.date_function = lambda x: None\n",
    "state.write_to_db()\n",
    "\n",
    "dataset = fieldmaps.Dataset(state, fieldmaps.az.layout)\n",
    "db_result = dataset.write_to_db()"
   ]
  },
  {
   "cell_type": "code",
   "execution_count": 11,
   "metadata": {},
   "outputs": [
    {
     "name": "stdout",
     "output_type": "stream",
     "text": [
      "Wrote description for CA to database\n",
      "226634 of 226634 rows loaded\n",
      "first item: [{'state': 'CA', 'api': '0402900001', 'lon': -118.95876, 'lat': 35.43406, 'date': datetime.date(2008, 11, 29), 'type': 'OILANDGAS', 'status': 'ACTIVE', 'category': None, 'description': 'LeaseName: \\nOpName: Chevron U.S.A. Inc.\\nURL: https://secure.conservation.ca.gov/WellSearch/Details?api=02900001\\nComments: \\nFieldName: Kern River'}]\n",
      "loaded 226634 of 226634 records into the database\n"
     ]
    },
    {
     "data": {
      "text/plain": [
       "226634"
      ]
     },
     "execution_count": 11,
     "metadata": {},
     "output_type": "execute_result"
    }
   ],
   "source": [
    "# California\n",
    "import fieldmaps.ca\n",
    "state = fieldmaps.State('CA', filename = 'california-data.csv', prepend_api = True, webdate = True)\n",
    "state.source_url = 'http://spatialservices.conservation.ca.gov/arcgis/rest/services/DOMS/Wells/MapServer/0'\n",
    "state.description = \"\"\"California Division of Oil, Gas, & Geothermal Resources \n",
    "at http://www.conservation.ca.gov/dog. Type codes: ftp://ftp.consrv.ca.gov/pub/oil/GIS/ReadMe.pdf\"\"\"\n",
    "state.write_to_db()\n",
    "\n",
    "dataset = fieldmaps.Dataset(state, fieldmaps.ca.layout)\n",
    "dataset.write_to_db()"
   ]
  },
  {
   "cell_type": "code",
   "execution_count": 12,
   "metadata": {},
   "outputs": [
    {
     "name": "stdout",
     "output_type": "stream",
     "text": [
      "114537 of 114537 rows loaded\n",
      "first item: [{'state': 'CO', 'api': '0500105000', 'lon': -103.727484, 'lat': 39.741587, 'date': datetime.date(1957, 10, 15), 'type': 'DRY HOLE', 'status': 'A', 'category': None, 'description': 'Operator TOMBERLIN* BILL\\nWell_Title 1 UPRR-JOLLY'}]\n",
      "loaded 114537 of 114537 records into the database\n"
     ]
    },
    {
     "data": {
      "text/plain": [
       "114537"
      ]
     },
     "execution_count": 12,
     "metadata": {},
     "output_type": "execute_result"
    }
   ],
   "source": [
    "# Colorado\n",
    "import fieldmaps.co\n",
    "state = fieldmaps.State('CO')\n",
    "\n",
    "wells = fieldmaps.Dataset(state, fieldmaps.co.layout)\n",
    "wells.write_to_db()"
   ]
  },
  {
   "cell_type": "code",
   "execution_count": null,
   "metadata": {},
   "outputs": [],
   "source": [
    "# Connecticut - No Oil or Gas Drilling"
   ]
  },
  {
   "cell_type": "code",
   "execution_count": null,
   "metadata": {},
   "outputs": [],
   "source": [
    "# Delaware - No Oil or Gas Drilling"
   ]
  },
  {
   "cell_type": "code",
   "execution_count": null,
   "metadata": {},
   "outputs": [],
   "source": [
    "# District of Columbia - No Oil or Gas Drilling"
   ]
  },
  {
   "cell_type": "code",
   "execution_count": 13,
   "metadata": {},
   "outputs": [
    {
     "name": "stdout",
     "output_type": "stream",
     "text": [
      "1267 of 1444 rows loaded\n",
      "first item: [{'state': 'FL', 'api': '09912310003', 'lon': -83.45759326189415, 'lat': 30.132361018336038, 'date': datetime.date(1949, 12, 8), 'type': 'DRY HOLE', 'status': 'A', 'category': None, 'description': None}]\n",
      "loaded 1267 of 1267 records into the database\n"
     ]
    },
    {
     "data": {
      "text/plain": [
       "1267"
      ]
     },
     "execution_count": 13,
     "metadata": {},
     "output_type": "execute_result"
    }
   ],
   "source": [
    "# Florida\n",
    "state = fieldmaps.State('FL', webdate = True,  prepend_api = True)\n",
    "import fieldmaps.fl\n",
    "\n",
    "wells = fieldmaps.Dataset(state, fieldmaps.fl.layout, quiet = True)\n",
    "wells.write_to_db()"
   ]
  },
  {
   "cell_type": "code",
   "execution_count": null,
   "metadata": {},
   "outputs": [],
   "source": [
    "# Georgia - No oil or gas activity"
   ]
  },
  {
   "cell_type": "code",
   "execution_count": null,
   "metadata": {},
   "outputs": [],
   "source": [
    "# Hawaii - No oil or gas activity"
   ]
  },
  {
   "cell_type": "code",
   "execution_count": 14,
   "metadata": {},
   "outputs": [
    {
     "name": "stdout",
     "output_type": "stream",
     "text": [
      "171 of 200 rows loaded\n",
      "first item: [{'state': 'ID', 'api': '1108100001', 'lon': -111.22, 'lat': 43.8, 'date': datetime.date(1903, 1, 16), 'type': 'UNKNOWN', 'status': 'PA', 'category': None, 'description': None}]\n",
      "loaded 171 of 171 records into the database\n"
     ]
    },
    {
     "data": {
      "text/plain": [
       "171"
      ]
     },
     "execution_count": 14,
     "metadata": {},
     "output_type": "execute_result"
    }
   ],
   "source": [
    "# Idaho\n",
    "state = fieldmaps.State('ID')\n",
    "# import fieldmaps.id\n",
    "state.load_data()\n",
    "layout = {\n",
    "    'api_field': 'API',\n",
    "    'date_field': 'Date',\n",
    "    'lat_field': 'lattitudeWGS84',\n",
    "    'lon_field': 'longitudeWGS84',\n",
    "    'status_field': 'Status',\n",
    "    'status_map': {\n",
    "        'Not Drilled - Permit Expired': 'CANCELLED',\n",
    "        'Permitted Well': 'PERMITTED',\n",
    "        'Expired Permit': 'CANCELLED',\n",
    "        'Plugged and Abandoned': 'PA',\n",
    "        'Shut In': 'SI',\n",
    "        'Not Drilled': 'PERMITTED',\n",
    "        'Drilling': 'ACTIVE',\n",
    "        'Producing': 'ACTIVE',\n",
    "        'Completed': 'ACTIVE',\n",
    "    },\n",
    "    'type_field': 'Well Type',\n",
    "    'type_map': {\n",
    "        '': 'UNKNOWN',\n",
    "        'Expired Location': 'UNKNOWN',\n",
    "        'Oil Well': 'OIL',\n",
    "        'Oil & Gas': 'OILANDGAS',\n",
    "        'Gas Well': 'GAS',\n",
    "        'Dry Hole': 'DRY HOLE',\n",
    "    }\n",
    "}\n",
    "wells = fieldmaps.Dataset(state, layout, quiet = True)\n",
    "wells.write_to_db()"
   ]
  },
  {
   "cell_type": "code",
   "execution_count": 15,
   "metadata": {},
   "outputs": [
    {
     "name": "stdout",
     "output_type": "stream",
     "text": [
      "195735 of 195735 rows loaded\n",
      "first item: [{'state': 'IL', 'api': '120010000200', 'lon': -90.92110000000001, 'lat': 40.080721, 'date': datetime.date(1945, 12, 31), 'type': 'DRY HOLE', 'status': 'A', 'category': None, 'description': None}]\n",
      "loaded 195735 of 195735 records into the database\n"
     ]
    },
    {
     "data": {
      "text/plain": [
       "195735"
      ]
     },
     "execution_count": 15,
     "metadata": {},
     "output_type": "execute_result"
    }
   ],
   "source": [
    "# Illinois\n",
    "state = fieldmaps.State('IL', webdate = True, filename = 'il-data-old.csv')\n",
    "import fieldmaps.il\n",
    "wells = fieldmaps.Dataset(state, fieldmaps.il.layout, quiet = True)\n",
    "wells.write_to_db()"
   ]
  },
  {
   "cell_type": "code",
   "execution_count": 16,
   "metadata": {},
   "outputs": [
    {
     "name": "stdout",
     "output_type": "stream",
     "text": [
      "49741 of 50714 rows loaded\n",
      "first item: [{'state': 'IN', 'api': '1316735', 'lon': -87.5878048752559, 'lat': 37.87489933916674, 'date': None, 'type': 'OIL', 'status': 'ACTIVE', 'category': None, 'description': 'County: Vanderburgh    \\nField Name: Barker                   \\nIGS ID: 16735\\nIGS Reported Status: Active\\nLink: <a href=\"https://igs.indiana.edu/pdms/wellEvents.cfm?igsID=16735\">IGS link</a>'}]\n",
      "loaded 49741 of 49741 records into the database\n"
     ]
    },
    {
     "data": {
      "text/plain": [
       "49741"
      ]
     },
     "execution_count": 16,
     "metadata": {},
     "output_type": "execute_result"
    }
   ],
   "source": [
    "# Indiana\n",
    "state = fieldmaps.State('IN', prepend_api = True)\n",
    "import fieldmaps.indiana\n",
    "wells = fieldmaps.Dataset(state, fieldmaps.indiana.layout)\n",
    "wells.write_to_db()"
   ]
  },
  {
   "cell_type": "code",
   "execution_count": null,
   "metadata": {},
   "outputs": [],
   "source": [
    "# Iowa - No oil or Gas"
   ]
  },
  {
   "cell_type": "code",
   "execution_count": 23,
   "metadata": {},
   "outputs": [
    {
     "name": "stdout",
     "output_type": "stream",
     "text": [
      "Invalid layout. Available source file columns: \n",
      "'', 'API_NUMBER', 'API_WELL_NUMBER', 'API_WORKOVERS', 'COMPLETION_DATE', 'COMPLETION_DATE_TXT', 'COMPLETION_YEAR', 'COUNTY', 'COUNTY_CODE', 'CURR_OPERATOR', 'ELEVATION_DF', 'ELEVATION_GL', 'ELEVATION_KB', 'FEET_EAST_FROM_REFERENCE', 'FEET_NORTH_FROM_REFERENCE', 'FIELD_KID', 'FIELD_NAME', 'KID', 'LEASE_NAME', 'NAD27_LATITUDE', 'NAD27_LONGITUDE', 'NAD83_LATITUDE', 'NAD83_LONGITUDE', 'OBJECTID', 'OPERATOR_KID', 'OPERATOR_NAME', 'ORIG_FID', 'PERMIT_DATE', 'PERMIT_DATE_TXT', 'PLUG_DATE', 'PLUG_DATE_TXT', 'PRINCIPAL_MERIDIAN', 'PRODUCING_FORMATION', 'RANGE', 'RANGE_DIRECTION', 'REFERENCE_CORNER', 'ROTARY_TOTAL_DEPTH', 'SECTION', 'SPOT', 'SPUD_DATE', 'SPUD_DATE_TXT', 'STATE_CODE', 'STATUS', 'STATUS_TXT', 'SUBDIVISION_1_LARGEST', 'SUBDIVISION_2', 'SUBDIVISION_3', 'SUBDIVISION_4_SMALLEST', 'TOWNSHIP', 'TOWNSHIP_DIRECTION', 'WELL_CLASS', 'WELL_LABEL', 'WELL_NAME', 'WELL_TYPE'\n",
      "\n",
      "Example rows: [OrderedDict([('', '0'), ('API_NUMBER', '15-007-10179'), ('API_WELL_NUMBER', '10179.0'), ('API_WORKOVERS', ''), ('COMPLETION_DATE', '-665107200000.0'), ('COMPLETION_DATE_TXT', '12/04/1948'), ('COMPLETION_YEAR', '1948'), ('COUNTY', 'Barber'), ('COUNTY_CODE', '7.0'), ('CURR_OPERATOR', ' '), ('ELEVATION_DF', '1680.0'), ('ELEVATION_GL', ''), ('ELEVATION_KB', ''), ('FEET_EAST_FROM_REFERENCE', '330.0'), ('FEET_NORTH_FROM_REFERENCE', '2970.0'), ('FIELD_KID', '1000146487.0'), ('FIELD_NAME', 'Skinner'), ('KID', '1001186874'), ('LEASE_NAME', \"Skinner 'B'\"), ('NAD27_LATITUDE', '37.3480839'), ('NAD27_LONGITUDE', '-98.8749025'), ('NAD83_LATITUDE', '37.3481067'), ('NAD83_LONGITUDE', '-98.8752778'), ('OBJECTID', '1'), ('OPERATOR_KID', ''), ('OPERATOR_NAME', 'coppinger & southern'), ('ORIG_FID', '-1'), ('PERMIT_DATE', ''), ('PERMIT_DATE_TXT', ' '), ('PLUG_DATE', '-650160000000.0'), ('PLUG_DATE_TXT', '05/26/1949'), ('PRINCIPAL_MERIDIAN', '6'), ('PRODUCING_FORMATION', ' '), ('RANGE', '14'), ('RANGE_DIRECTION', 'W'), ('REFERENCE_CORNER', 'SW'), ('ROTARY_TOTAL_DEPTH', '4469.0'), ('SECTION', '17'), ('SPOT', 'C'), ('SPUD_DATE', '-667440000000.0'), ('SPUD_DATE_TXT', '11/07/1948'), ('STATE_CODE', '15'), ('STATUS', 'OIL-P&A'), ('STATUS_TXT', 'Oil, Plugged'), ('SUBDIVISION_1_LARGEST', 'NW'), ('SUBDIVISION_2', 'SW'), ('SUBDIVISION_3', 'SW'), ('SUBDIVISION_4_SMALLEST', ' '), ('TOWNSHIP', '31'), ('TOWNSHIP_DIRECTION', 'S'), ('WELL_CLASS', 'Plugged and Abandoned'), ('WELL_LABEL', \"Skinner 'B' 3\"), ('WELL_NAME', '3'), ('WELL_TYPE', 'OIL')]), OrderedDict([('', '1'), ('API_NUMBER', '15-007-10188'), ('API_WELL_NUMBER', '10188.0'), ('API_WORKOVERS', ''), ('COMPLETION_DATE', '-658108800000.0'), ('COMPLETION_DATE_TXT', '02/23/1949'), ('COMPLETION_YEAR', '1949'), ('COUNTY', 'Barber'), ('COUNTY_CODE', '7.0'), ('CURR_OPERATOR', ' '), ('ELEVATION_DF', '1649.0'), ('ELEVATION_GL', ''), ('ELEVATION_KB', ''), ('FEET_EAST_FROM_REFERENCE', '-4290.0'), ('FEET_NORTH_FROM_REFERENCE', '-990.0'), ('FIELD_KID', '1000146487.0'), ('FIELD_NAME', 'Skinner'), ('KID', '1001186875'), ('LEASE_NAME', 'Skinner'), ('NAD27_LATITUDE', '37.3517494'), ('NAD27_LONGITUDE', '-98.8724615'), ('NAD83_LATITUDE', '37.3517721'), ('NAD83_LONGITUDE', '-98.8728363'), ('OBJECTID', '2'), ('OPERATOR_KID', ''), ('OPERATOR_NAME', 'j m huber corp.'), ('ORIG_FID', '-1'), ('PERMIT_DATE', ''), ('PERMIT_DATE_TXT', ' '), ('PLUG_DATE', '-426038400000.0'), ('PLUG_DATE_TXT', '07/02/1956'), ('PRINCIPAL_MERIDIAN', '6'), ('PRODUCING_FORMATION', ' '), ('RANGE', '14'), ('RANGE_DIRECTION', 'W'), ('REFERENCE_CORNER', 'NE'), ('ROTARY_TOTAL_DEPTH', '4398.0'), ('SECTION', '17'), ('SPOT', 'C'), ('SPUD_DATE', '-662688000000.0'), ('SPUD_DATE_TXT', '01/01/1949'), ('STATE_CODE', '15'), ('STATUS', 'OIL-P&A'), ('STATUS_TXT', 'Oil, Plugged'), ('SUBDIVISION_1_LARGEST', 'NW'), ('SUBDIVISION_2', 'NW'), ('SUBDIVISION_3', 'SE'), ('SUBDIVISION_4_SMALLEST', ' '), ('TOWNSHIP', '31'), ('TOWNSHIP_DIRECTION', 'S'), ('WELL_CLASS', 'Plugged and Abandoned'), ('WELL_LABEL', 'Skinner 3'), ('WELL_NAME', '3'), ('WELL_TYPE', 'OIL')])]\n",
      "Missing values for: description_layout, description_fields\n",
      "Error converting date for row:\n",
      "\n",
      "OrderedDict([('', '102463'), ('API_NUMBER', '15-007-22376'), ('API_WELL_NUMBER', '22376.0'), ('API_WORKOVERS', ''), ('COMPLETION_DATE', '684460800000.0'), ('COMPLETION_DATE_TXT', '09/10/1991'), ('COMPLETION_YEAR', '1991'), ('COUNTY', 'Barber'), ('COUNTY_CODE', '7.0'), ('CURR_OPERATOR', 'Dixon Energy, Inc.'), ('ELEVATION_DF', ''), ('ELEVATION_GL', '1678.0'), ('ELEVATION_KB', '1683.0'), ('FEET_EAST_FROM_REFERENCE', '-330.0'), ('FEET_NORTH_FROM_REFERENCE', '630.0'), ('FIELD_KID', '1000146506.0'), ('FIELD_NAME', 'Whelan'), ('KID', '1006017934'), ('LEASE_NAME', 'Watkins'), ('NAD27_LATITUDE', '37.3280089'), ('NAD27_LONGITUDE', '-98.5332943'), ('NAD83_LATITUDE', '37.3280307'), ('NAD83_LONGITUDE', '-98.5336536'), ('OBJECTID', '85469'), ('OPERATOR_KID', '1027995484.0'), ('OPERATOR_NAME', ''), ('ORIG_FID', None), ('PERMIT_DATE', None), ('PERMIT_DATE_TXT', None), ('PLUG_DATE', None), ('PLUG_DATE_TXT', None), ('PRINCIPAL_MERIDIAN', None), ('PRODUCING_FORMATION', None), ('RANGE', None), ('RANGE_DIRECTION', None), ('REFERENCE_CORNER', None), ('ROTARY_TOTAL_DEPTH', None), ('SECTION', None), ('SPOT', None), ('SPUD_DATE', None), ('SPUD_DATE_TXT', None), ('STATE_CODE', None), ('STATUS', None), ('STATUS_TXT', None), ('SUBDIVISION_1_LARGEST', None), ('SUBDIVISION_2', None), ('SUBDIVISION_3', None), ('SUBDIVISION_4_SMALLEST', None), ('TOWNSHIP', None), ('TOWNSHIP_DIRECTION', None), ('WELL_CLASS', None), ('WELL_LABEL', None), ('WELL_NAME', None), ('WELL_TYPE', None)])\n",
      "461547 of 481016 rows loaded\n",
      "first item: [{'state': 'KS', 'api': '1500710179', 'lon': -98.8752778, 'lat': 37.3481067, 'date': datetime.date(1948, 11, 6), 'type': 'OIL', 'status': 'PA', 'category': None, 'description': None}]\n",
      "loaded 461547 of 461547 records into the database\n"
     ]
    },
    {
     "data": {
      "text/plain": [
       "461547"
      ]
     },
     "execution_count": 23,
     "metadata": {},
     "output_type": "execute_result"
    }
   ],
   "source": [
    "# Kansas\n",
    "state = fieldmaps.State('KS', webdate = True)\n",
    "state.projection = 4269 # NAD83\n",
    "\n",
    "import fieldmaps.ks\n",
    "layout = fieldmaps.ks.layout\n",
    "wells = fieldmaps.Dataset(state, layout, quiet = True)\n",
    "wells.write_to_db()"
   ]
  },
  {
   "cell_type": "code",
   "execution_count": 40,
   "metadata": {},
   "outputs": [
    {
     "name": "stdout",
     "output_type": "stream",
     "text": [
      "117639 of 145745 rows loaded\n",
      "first item: [{'state': 'KY', 'api': '16195060750000', 'lon': -82.5155, 'lat': 37.3224, 'date': datetime.date(2009, 6, 27), 'type': 'GAS', 'status': 'ACTIVE', 'category': None, 'description': 'WELL NAME: Equitable Production Company 567990\\nWELL NUMBER: 567990\\nOPERATOR: Eqt Production Company\\nCOUNTY: Pike\\nFIELD NAME: '}]\n",
      "loaded 117639 of 117639 records into the database\n"
     ]
    },
    {
     "data": {
      "text/plain": [
       "117639"
      ]
     },
     "execution_count": 40,
     "metadata": {},
     "output_type": "execute_result"
    }
   ],
   "source": [
    "# Kentucky\n",
    "state = fieldmaps.State('KY')\n",
    "state.projection = 4267 # NAD27\n",
    "\n",
    "import fieldmaps.ky\n",
    "wells = fieldmaps.Dataset(state, fieldmaps.ky.layout)\n",
    "wells.write_to_db()"
   ]
  },
  {
   "cell_type": "code",
   "execution_count": 59,
   "metadata": {},
   "outputs": [
    {
     "name": "stdout",
     "output_type": "stream",
     "text": [
      "Invalid layout. Available source file columns: \n",
      "'', 'API_NUM', 'AREA_USDW_VALUE', 'CLASSIFICATION', 'COASTAL_PERMIT_NUM', 'COMMENTS', 'DIRWELL', 'DISTRICT_CODE', 'DOC_ACCESS', 'EFFECTIVE_DATE', 'EXEMPT_29E_FLAG', 'FIELD_ID', 'FIELD_NAME', 'FORMATIONS', 'GIS_UPD_DATE', 'HYPERLINK', 'INJECTION_RATE', 'INJECTION_VOLUME', 'INSPECTION_DATE', 'INSPECTION_YEAR_INDEX', 'LAST_RECOMPLETION_DATE', 'LAST_TEST_DATE', 'LEASE_NUM', 'LEGEND', 'LEGEND_DESC', 'LOCATION', 'LOG_REVIEWED_FLAG', 'LOWER_PERFS', 'LUW_CODE', 'LUW_NAME', 'LUW_TYPE_CODE', 'LW_REC_STATUS', 'MAX_SIP', 'MEASURED_DEPTH', 'MERIDIAN', 'MINERAL_INTEREST_FLAG', 'MUD_DENSITY', 'OBJECTID', 'OPERATION_TYPE_CODE', 'ORGANIZATION_ID', 'ORGOP_LINE_ID', 'ORG_OPER_NAME', 'ORIGINAL_COMPLETION_DATE', 'ORPHANED_FLAG', 'ORPHAN_STATUS_CODE', 'ORPHAN_STATUS_DATE', 'PARISH_CODE', 'PARISH_NAME', 'PERMIT_DATE', 'PRODUCT_TYPE_CODE', 'RESERVOIRS', 'SANDS', 'SCOUT_DETAIL', 'SCOUT_MEASURED_DEPTH', 'SCOUT_REPORT_DATE', 'SCOUT_TRUE_VERTICAL_DEPTH', 'SCOUT_WELL_STATUS_CODE', 'SECTION', 'SECTN', 'SIP_ASSIGNED_DATE', 'SOURCE_AREA_USDW_VALUE', 'SOURCE_OF_SIP_VALUE', 'SPUD_DATE', 'STATE_INTEREST_FLAG', 'STATE_ZONE', 'SURFACE_COORD_SYSTEM_CODE', 'SURFACE_LAMBERT_X', 'SURFACE_LAMBERT_Y', 'SURFACE_LAT_DEC_DEG', 'SURFACE_LONG_DEC_DEG', 'SURFACE_UTM83_X', 'SURFACE_UTM83_Y', 'SURFACE_ZONE', 'TOWNSHIP', 'UNIT_WELL_FLAG', 'UPPER_PERFS', 'USDW_VALUE', 'WELL_CLASS_TYPE_CODE', 'WELL_NAME', 'WELL_NUM', 'WELL_RANGE', 'WELL_SERIAL_NUM', 'WELL_STATUS_CODE', 'WELL_STATUS_DATE'\n",
      "\n",
      "Example rows: [OrderedDict([('', '0'), ('API_NUM', '00000000000000'), ('AREA_USDW_VALUE', ''), ('CLASSIFICATION', ''), ('COASTAL_PERMIT_NUM', ''), ('COMMENTS', '\\nMAX SIP 0 REVISED NOTES: '), ('DIRWELL', '3000'), ('DISTRICT_CODE', ''), ('DOC_ACCESS', 'http://ucmwww.dnr.state.la.us/ucmsearch/FindDocuments.aspx?idx=xwellserialnumber&val=3'), ('EFFECTIVE_DATE', '-1109808000000'), ('EXEMPT_29E_FLAG', 'N'), ('FIELD_ID', '9715'), ('FIELD_NAME', 'WILDCAT-NO LA SHREVEPORT DIST'), ('FORMATIONS', ''), ('GIS_UPD_DATE', '1520655534000'), ('HYPERLINK', 'http://sonlite.dnr.state.la.us/sundown/cart_prod/cart_con_wellinfo2?p_WSN=3'), ('INJECTION_RATE', ''), ('INJECTION_VOLUME', ''), ('INSPECTION_DATE', ''), ('INSPECTION_YEAR_INDEX', ''), ('LAST_RECOMPLETION_DATE', ''), ('LAST_TEST_DATE', ''), ('LEASE_NUM', ''), ('LEGEND', '3000'), ('LEGEND_DESC', 'PLUGGED AND ABANDONED  NO PRODUCT SPECIFIED'), ('LOCATION', ''), ('LOG_REVIEWED_FLAG', ''), ('LOWER_PERFS', ''), ('LUW_CODE', ''), ('LUW_NAME', ''), ('LUW_TYPE_CODE', ''), ('LW_REC_STATUS', ''), ('MAX_SIP', '0.0'), ('MEASURED_DEPTH', ''), ('MERIDIAN', 'W'), ('MINERAL_INTEREST_FLAG', 'N'), ('MUD_DENSITY', ''), ('OBJECTID', '1'), ('OPERATION_TYPE_CODE', '01'), ('ORGANIZATION_ID', '9999'), ('ORGOP_LINE_ID', '1'), ('ORG_OPER_NAME', 'INACTIVE OPERATOR'), ('ORIGINAL_COMPLETION_DATE', ''), ('ORPHANED_FLAG', ''), ('ORPHAN_STATUS_CODE', ''), ('ORPHAN_STATUS_DATE', ''), ('PARISH_CODE', '41'), ('PARISH_NAME', 'RED RIVER'), ('PERMIT_DATE', ''), ('PRODUCT_TYPE_CODE', '00'), ('RESERVOIRS', ''), ('SANDS', ''), ('SCOUT_DETAIL', ''), ('SCOUT_MEASURED_DEPTH', ''), ('SCOUT_REPORT_DATE', ''), ('SCOUT_TRUE_VERTICAL_DEPTH', ''), ('SCOUT_WELL_STATUS_CODE', ''), ('SECTION', '025'), ('SECTN', '025'), ('SIP_ASSIGNED_DATE', ''), ('SOURCE_AREA_USDW_VALUE', ''), ('SOURCE_OF_SIP_VALUE', ''), ('SPUD_DATE', ''), ('STATE_INTEREST_FLAG', 'N'), ('STATE_ZONE', 'NORTH'), ('SURFACE_COORD_SYSTEM_CODE', '01'), ('SURFACE_LAMBERT_X', '1707395.0'), ('SURFACE_LAMBERT_Y', '518012.0'), ('SURFACE_LAT_DEC_DEG', '32.087417632'), ('SURFACE_LONG_DEC_DEG', '-93.444976416'), ('SURFACE_UTM83_X', '458009.340566329'), ('SURFACE_UTM83_Y', '3550211.96366651'), ('SURFACE_ZONE', 'N'), ('TOWNSHIP', '13N'), ('UNIT_WELL_FLAG', 'N'), ('UPPER_PERFS', ''), ('USDW_VALUE', '0.0'), ('WELL_CLASS_TYPE_CODE', ''), ('WELL_NAME', 'E T ROBINSON'), ('WELL_NUM', '003'), ('WELL_RANGE', '11W'), ('WELL_SERIAL_NUM', '3'), ('WELL_STATUS_CODE', '30'), ('WELL_STATUS_DATE', '-1111017600000')]), OrderedDict([('', '1'), ('API_NUM', '00000000000000'), ('AREA_USDW_VALUE', ''), ('CLASSIFICATION', ''), ('COASTAL_PERMIT_NUM', ''), ('COMMENTS', '\\nMAX SIP 0 REVISED NOTES: '), ('DIRWELL', '3000'), ('DISTRICT_CODE', ''), ('DOC_ACCESS', 'http://ucmwww.dnr.state.la.us/ucmsearch/FindDocuments.aspx?idx=xwellserialnumber&val=4'), ('EFFECTIVE_DATE', '-1080950400000'), ('EXEMPT_29E_FLAG', 'N'), ('FIELD_ID', '9715'), ('FIELD_NAME', 'WILDCAT-NO LA SHREVEPORT DIST'), ('FORMATIONS', ''), ('GIS_UPD_DATE', '1520655534000'), ('HYPERLINK', 'http://sonlite.dnr.state.la.us/sundown/cart_prod/cart_con_wellinfo2?p_WSN=4'), ('INJECTION_RATE', ''), ('INJECTION_VOLUME', ''), ('INSPECTION_DATE', ''), ('INSPECTION_YEAR_INDEX', ''), ('LAST_RECOMPLETION_DATE', ''), ('LAST_TEST_DATE', ''), ('LEASE_NUM', ''), ('LEGEND', '3000'), ('LEGEND_DESC', 'PLUGGED AND ABANDONED  NO PRODUCT SPECIFIED'), ('LOCATION', ''), ('LOG_REVIEWED_FLAG', ''), ('LOWER_PERFS', ''), ('LUW_CODE', ''), ('LUW_NAME', ''), ('LUW_TYPE_CODE', ''), ('LW_REC_STATUS', ''), ('MAX_SIP', '0.0'), ('MEASURED_DEPTH', ''), ('MERIDIAN', 'W'), ('MINERAL_INTEREST_FLAG', 'N'), ('MUD_DENSITY', ''), ('OBJECTID', '2'), ('OPERATION_TYPE_CODE', '01'), ('ORGANIZATION_ID', '9999'), ('ORGOP_LINE_ID', '1'), ('ORG_OPER_NAME', 'INACTIVE OPERATOR'), ('ORIGINAL_COMPLETION_DATE', ''), ('ORPHANED_FLAG', ''), ('ORPHAN_STATUS_CODE', ''), ('ORPHAN_STATUS_DATE', ''), ('PARISH_CODE', '41'), ('PARISH_NAME', 'RED RIVER'), ('PERMIT_DATE', ''), ('PRODUCT_TYPE_CODE', '00'), ('RESERVOIRS', ''), ('SANDS', ''), ('SCOUT_DETAIL', ''), ('SCOUT_MEASURED_DEPTH', ''), ('SCOUT_REPORT_DATE', ''), ('SCOUT_TRUE_VERTICAL_DEPTH', ''), ('SCOUT_WELL_STATUS_CODE', ''), ('SECTION', '025'), ('SECTN', '025'), ('SIP_ASSIGNED_DATE', ''), ('SOURCE_AREA_USDW_VALUE', ''), ('SOURCE_OF_SIP_VALUE', ''), ('SPUD_DATE', ''), ('STATE_INTEREST_FLAG', 'N'), ('STATE_ZONE', 'NORTH'), ('SURFACE_COORD_SYSTEM_CODE', '01'), ('SURFACE_LAMBERT_X', '1707572.0'), ('SURFACE_LAMBERT_Y', '514711.0'), ('SURFACE_LAT_DEC_DEG', '32.078347823'), ('SURFACE_LONG_DEC_DEG', '-93.444312099'), ('SURFACE_UTM83_X', '458067.889067117'), ('SURFACE_UTM83_Y', '3549206.35890122'), ('SURFACE_ZONE', 'N'), ('TOWNSHIP', '13N'), ('UNIT_WELL_FLAG', 'N'), ('UPPER_PERFS', ''), ('USDW_VALUE', '0.0'), ('WELL_CLASS_TYPE_CODE', ''), ('WELL_NAME', 'E T ROBINSON'), ('WELL_NUM', '026'), ('WELL_RANGE', '11W'), ('WELL_SERIAL_NUM', '4'), ('WELL_STATUS_CODE', '30'), ('WELL_STATUS_DATE', '-1079481600000')])]\n",
      "Missing values for: description_layout, description_fields\n",
      "214470 of 240791 rows loaded\n",
      "first item: [{'state': 'LA', 'api': '00000000000000', 'lon': -93.444976416, 'lat': 32.087417632, 'date': datetime.date(1934, 10, 17), 'type': 'UNKNOWN', 'status': 'PA', 'category': None, 'description': None}]\n",
      "loaded 214470 of 214470 records into the database\n"
     ]
    },
    {
     "data": {
      "text/plain": [
       "214470"
      ]
     },
     "execution_count": 59,
     "metadata": {},
     "output_type": "execute_result"
    }
   ],
   "source": [
    "# Louisiana\n",
    "\n",
    "state = fieldmaps.State('LA', webdate = True)\n",
    "import fieldmaps.la\n",
    "\n",
    "wells = fieldmaps.Dataset(state, fieldmaps.la.layout, quiet = True)\n",
    "wells.write_to_db()"
   ]
  },
  {
   "cell_type": "code",
   "execution_count": 42,
   "metadata": {},
   "outputs": [],
   "source": [
    "# Maine - No Oil or Gas"
   ]
  },
  {
   "cell_type": "code",
   "execution_count": 63,
   "metadata": {},
   "outputs": [
    {
     "name": "stdout",
     "output_type": "stream",
     "text": [
      "Invalid layout. Available source file columns: \n",
      "'X', 'Y', 'Id', 'Date_drill', 'Date_Plugg', 'Depth', 'Formation', 'Permit_Num', 'Permittee', 'Completion', 'Well_Depth', 'Show_of_Ga', 'Common_Nam', 'Status', 'Dry_hole', 'POINT_X', 'POINT_Y', 'Comp_Rpt'\n",
      "\n",
      "Example rows: [OrderedDict([('X', '-79.37919687'), ('Y', '39.39788269'), ('Id', '0'), ('Date_drill', '7/1/51'), ('Date_Plugg', 'September of 1952'), ('Depth', '3602'), ('Formation', 'Oriskeny'), ('Permit_Num', '7977'), ('Permittee', 'Mid-Atlantic Oil and Gas Co.'), ('Completion', 'yes'), ('Well_Depth', '3602'), ('Show_of_Ga', '3523'), ('Common_Nam', 'Grimes No. 2'), ('Status', 'Plugged'), ('Dry_hole', 'Unknown'), ('POINT_X', '195082.9925'), ('POINT_Y', '194847.897'), ('Comp_Rpt', '<a href=\"L:/MINING/GIS_Shapefiles/Historic_Reports/hopkins-series.pdf#page=44\">Completion Report</a>')]), OrderedDict([('X', '-79.32807733'), ('Y', '39.43129633'), ('Id', '0'), ('Date_drill', '11/9/52'), ('Date_Plugg', 'na'), ('Depth', '5195'), ('Formation', 'Oriskeny'), ('Permit_Num', '7882'), ('Permittee', 'Mid-Atlantic Oil & Gas Co.'), ('Completion', 'yes'), ('Well_Depth', '5195'), ('Show_of_Ga', '4656'), ('Common_Nam', 'Lashorn No. 1'), ('Status', '?'), ('Dry_hole', 'Unknown'), ('POINT_X', '199579.4803'), ('POINT_Y', '198442.8488'), ('Comp_Rpt', '<a href=\"L:/MINING/GIS_Shapefiles/Historic_Reports/hopkins-series.pdf#page=43\">Completion Report</a>')])]\n",
      "Missing values for: description_layout, description_fields\n",
      "Error converting status for row:\n",
      "\n",
      "OrderedDict([('X', '-79.37415535'), ('Y', '39.39558305'), ('Id', '0'), ('Date_drill', '12/10/51'), ('Date_Plugg', ''), ('Depth', '3719'), ('Formation', ''), ('Permit_Num', '8709'), ('Permittee', 'Thomas Lafferty & Columbus Whetzel'), ('Completion', 'yes'), ('Well_Depth', '3719'), ('Show_of_Ga', ''), ('Common_Nam', 'Ashby No. 1'), ('Status', ''), ('Dry_hole', 'Not exact location, waterfound at depth'), ('POINT_X', '0'), ('POINT_Y', '0'), ('Comp_Rpt', '<a href=\"L:/MINING/GIS_Shapefiles/Historic_Reports/hopkins-series.pdf#page=71\">Completion Report</a>')])\n",
      "8 of 125 rows loaded\n",
      "first item: [{'state': 'MD', 'api': '190', 'lon': -79.37919687, 'lat': 39.39788269, 'date': datetime.date(2051, 7, 1), 'type': 'GAS', 'status': 'PA', 'category': None, 'description': None}]\n",
      "loaded 8 of 8 records into the database\n"
     ]
    },
    {
     "data": {
      "text/plain": [
       "8"
      ]
     },
     "execution_count": 63,
     "metadata": {},
     "output_type": "execute_result"
    }
   ],
   "source": [
    "# Maryland - gas only\n",
    "state = fieldmaps.State('MD', prepend_api = True)\n",
    "layout = {\n",
    "    'api_field': 'Id',\n",
    "    'date_field': 'Date_drill',\n",
    "    'lat_field': 'Y',\n",
    "    'lon_field': 'X',\n",
    "    'status_field': 'Status',\n",
    "    'status_map': {\n",
    "        '?': 'UNKNOWN',\n",
    "        'Abandoned': 'A',\n",
    "        'Active': 'ACTIVE',\n",
    "        'Plugged': 'PA',\n",
    "        'Plugged?': 'PA',\n",
    "        'plugged': 'PA',\n",
    "    },\n",
    "    'type_field': 'Status',\n",
    "    'type_map': {\n",
    "        '?': 'GAS',\n",
    "        'Abandoned': 'GAS',\n",
    "        'Active': 'GAS',\n",
    "        'Plugged': 'GAS',\n",
    "        'Plugged?': 'GAS',\n",
    "        'plugged': 'GAS',\n",
    "    },\n",
    "}\n",
    "wells = fieldmaps.Dataset(state, layout)\n",
    "wells.write_to_db()"
   ]
  },
  {
   "cell_type": "code",
   "execution_count": 44,
   "metadata": {},
   "outputs": [],
   "source": [
    "# Massachusetts - No oil or gas"
   ]
  },
  {
   "cell_type": "code",
   "execution_count": 68,
   "metadata": {},
   "outputs": [
    {
     "name": "stdout",
     "output_type": "stream",
     "text": [
      "Invalid layout. Available source file columns: \n",
      "'', 'BH_CNTY', 'CNTY_NAME', 'OBJECTID', 'PRUName', 'PRUNumber', 'PermDate', 'PlugDate', 'Slant', 'TRS', 'api_wellno', 'bh_lat', 'bh_long', 'bh_mgr_x', 'bh_mgr_y', 'bore_type', 'cnty_fips', 'co_name', 'completion', 'concen_h2s', 'deep_fm', 'deep_fm_cd', 'dtd', 'elev_ref', 'fed_land', 'fieldname', 'fieldtype', 'kotvd', 'lease_name', 'op_no', 'permit_no', 'prod_fm', 'prod_fm_cd', 'qqqs', 'qqs', 'qs', 'ref_tops', 'sidetrck', 'state_land', 'surf_owner', 'tvd', 'twp_name', 'well_no', 'well_stat', 'well_type'\n",
      "\n",
      "Example rows: [OrderedDict([('', '0'), ('BH_CNTY', ''), ('CNTY_NAME', ''), ('OBJECTID', '1'), ('PRUName', ''), ('PRUNumber', ''), ('PermDate', ''), ('PlugDate', ''), ('Slant', 'V'), ('TRS', ''), ('api_wellno', '21001003199000'), ('bh_lat', '44.7351'), ('bh_long', '-83.45521'), ('bh_mgr_x', '701317.24'), ('bh_mgr_y', '467974.61'), ('bore_type', 'Pre-Permit'), ('cnty_fips', ''), ('co_name', 'Kurrasch  H A'), ('completion', '0'), ('concen_h2s', ''), ('deep_fm', 'ANTRIM'), ('deep_fm_cd', 'ANRM'), ('dtd', '729.0'), ('elev_ref', ''), ('fed_land', '0.0'), ('fieldname', ''), ('fieldtype', ''), ('kotvd', ''), ('lease_name', 'Kurrasch, H.A.'), ('op_no', '6186'), ('permit_no', '319'), ('prod_fm', ''), ('prod_fm_cd', ''), ('qqqs', ''), ('qqs', ''), ('qs', ''), ('ref_tops', ''), ('sidetrck', '90'), ('state_land', '0.0'), ('surf_owner', ''), ('tvd', ''), ('twp_name', ''), ('well_no', '1'), ('well_stat', 'Plugging Approved'), ('well_type', 'DH')]), OrderedDict([('', '1'), ('BH_CNTY', ''), ('CNTY_NAME', ''), ('OBJECTID', '2'), ('PRUName', ''), ('PRUNumber', ''), ('PermDate', ''), ('PlugDate', ''), ('Slant', 'V'), ('TRS', ''), ('api_wellno', '21001004539000'), ('bh_lat', '44.71426'), ('bh_long', '-83.33211'), ('bh_mgr_x', '711137.97'), ('bh_mgr_y', '465971.07'), ('bore_type', 'Pre-Permit'), ('cnty_fips', ''), ('co_name', 'ALCONA PROSPECTING CO'), ('completion', '0'), ('concen_h2s', ''), ('deep_fm', 'DETROIT RIVER GROUP'), ('deep_fm_cd', 'DRRV3'), ('dtd', '1710.0'), ('elev_ref', ''), ('fed_land', '0.0'), ('fieldname', ''), ('fieldtype', ''), ('kotvd', ''), ('lease_name', 'Campbell, John'), ('op_no', '6076'), ('permit_no', '453'), ('prod_fm', ''), ('prod_fm_cd', ''), ('qqqs', ''), ('qqs', ''), ('qs', ''), ('ref_tops', 'G'), ('sidetrck', '90'), ('state_land', '0.0'), ('surf_owner', ''), ('tvd', ''), ('twp_name', ''), ('well_no', '1'), ('well_stat', 'Plugging Approved'), ('well_type', 'DH')])]\n",
      "Missing values for: description_layout\n",
      "signed integer is greater than maximum\n",
      "Error converting date for row:\n",
      "\n",
      "OrderedDict([('', '3'), ('BH_CNTY', ''), ('CNTY_NAME', ''), ('OBJECTID', '4'), ('PRUName', ''), ('PRUNumber', ''), ('PermDate', '-1086998400000.0'), ('PlugDate', '460684800000.0'), ('Slant', 'V'), ('TRS', ''), ('api_wellno', '21001026520000'), ('bh_lat', '44.79712'), ('bh_long', '-83.29715'), ('bh_mgr_x', '713601.93'), ('bh_mgr_y', '475264.79'), ('bore_type', 'Oil and Gas Test'), ('cnty_fips', ''), ('co_name', 'KIRKHAM VIRGIL R D'), ('completion', '0'), ('concen_h2s', ''), ('deep_fm', 'TRAVERSE  LIMESTONE'), ('deep_fm_cd', 'TRVR4'), ('dtd', '381.0'), ('elev_ref', ''), ('fed_land', '0.0'), ('fieldname', ''), ('fieldtype', ''), ('kotvd', ''), ('lease_name', 'JOZWIAK'), ('op_no', '1286'), ('permit_no', '2652'), ('prod_fm', ''), ('prod_fm_cd', ''), ('qqqs', ''), ('qqs', ''), ('qs', ''), ('ref_tops', 'G'), ('sidetrck', '0'), ('state_land', '0.0'), ('surf_owner', ''), ('tvd', ''), ('twp_name', ''), ('well_no', '1'), ('well_stat', 'Plugging Approved'), ('well_type', 'DH')])\n",
      "76944 of 80087 rows loaded\n",
      "first item: [{'state': 'MI', 'api': '21001003199000', 'lon': -83.45521, 'lat': 44.7351, 'date': '', 'type': 'DRY HOLE', 'status': 'PA', 'category': None, 'description': None}]\n",
      "loaded 76944 of 76944 records into the database\n"
     ]
    },
    {
     "data": {
      "text/plain": [
       "76944"
      ]
     },
     "execution_count": 68,
     "metadata": {},
     "output_type": "execute_result"
    }
   ],
   "source": [
    "# Michigan\n",
    "# the date fields appear to be all empty. may require some supplemental scraping\n",
    "state = fieldmaps.State('MI')\n",
    "\n",
    "import fieldmaps.mi\n",
    "wells = fieldmaps.Dataset(state, fieldmaps.mi.layout)\n",
    "wells.write_to_db()"
   ]
  },
  {
   "cell_type": "code",
   "execution_count": null,
   "metadata": {},
   "outputs": [],
   "source": [
    "# Minnesota - no oil or gas"
   ]
  },
  {
   "cell_type": "code",
   "execution_count": 69,
   "metadata": {},
   "outputs": [
    {
     "name": "stdout",
     "output_type": "stream",
     "text": [
      "Invalid layout. Available source file columns: \n",
      "'API NUMBER', 'WELL NAME', 'WELL NUMBER', 'OPERATOR', 'STATE', 'COUNTY', 'COMPLETED FORMATION NAME', 'ENCOUNTERED FORMATION NAME', 'STANDARD WELL TYPE DESCRIPTION', 'STANDARD WELL STATUS DESCRIPTION', 'WELLHEAD LATITUDE, DECIMAL DEGREES', 'WELLHEAD LONGITUDE, DECIMAL DEGREES', 'MEASURED DEPTH, FEET', 'TOTAL VERTICAL DEPTH, FEET', 'DRILLING ORIENTATION', 'BASIN NAME', 'FIELD NAME', 'STATE SUBDIVISION', 'FIRST PRODUCTION DATE', 'SPUD DATE', 'FIRST COMPLETION DATE', 'TOP WELL PERFORATION, FEET', 'BOTTOM WELL PERFORATION, FEET', 'FORMATION TOP, FEET', 'FORMATION BOTTOM, FEET', 'IN FRACFOCUS', 'UNDERGROUND SOURCE OF DRINKING WATER', 'LITHOLOGY', 'STATE WELL TYPE', 'STATE WELL STATUS', 'BOTTOM HOLE LATITUDE, DECIMAL DEGREES', 'BOTTOM HOLE LONGITUDE, DECIMAL DEGREES', 'GEODETIC DATUM', 'WELL LOCATION METHOD', 'ELEVATION', 'ELEVATION REFERENCE POINT', 'SECTION', 'TOWNSHIP', 'TOWNSHIP DIRECTION', 'RANGE', 'RANGE DIRECTION', 'MERIDIAN', 'FOOTAGE NORTH OR SOUTH, FEET', 'FOOTAGE EAST OR WEST, FEET', 'CITY', 'ZIP', 'STATUS DATE', 'EAST OR WEST DIRECTION', 'NORTH OR SOUTH DIRECTION', 'STANDARD WELL TYPE CODE', 'STANDARD WELL STATUS CODE', 'WELL LATITUDE IN WGS84 DATUM, DECIMAL DEGREES', 'WELL LONGITUDE IN WGS84 DATUM, DECIMAL DEGREES'\n",
      "\n",
      "Example rows: [OrderedDict([('API NUMBER', '=\"23037215470000\"'), ('WELL NAME', 'Spencer 25-4 1'), ('WELL NUMBER', '1'), ('OPERATOR', 'Moon-hines-tigrett Operating Co., Inc.'), ('STATE', 'Mississippi'), ('COUNTY', 'Franklin'), ('COMPLETED FORMATION NAME', ''), ('ENCOUNTERED FORMATION NAME', ''), ('STANDARD WELL TYPE DESCRIPTION', 'Dry Hole'), ('STANDARD WELL STATUS DESCRIPTION', 'Abandoned:Plugged'), ('WELLHEAD LATITUDE, DECIMAL DEGREES', '31.3777'), ('WELLHEAD LONGITUDE, DECIMAL DEGREES', '-90.6654'), ('MEASURED DEPTH, FEET', '11050'), ('TOTAL VERTICAL DEPTH, FEET', ''), ('DRILLING ORIENTATION', 'Vertical'), ('BASIN NAME', ''), ('FIELD NAME', 'Wildcat'), ('STATE SUBDIVISION', ''), ('FIRST PRODUCTION DATE', ''), ('SPUD DATE', '2015-10-14'), ('FIRST COMPLETION DATE', '2016-01-15'), ('TOP WELL PERFORATION, FEET', '11028'), ('BOTTOM WELL PERFORATION, FEET', '11031'), ('FORMATION TOP, FEET', ''), ('FORMATION BOTTOM, FEET', ''), ('IN FRACFOCUS', 'No'), ('UNDERGROUND SOURCE OF DRINKING WATER', ''), ('LITHOLOGY', ''), ('STATE WELL TYPE', 'Dh - Dry Hole'), ('STATE WELL STATUS', 'Pa - Plugged And Abandoned'), ('BOTTOM HOLE LATITUDE, DECIMAL DEGREES', ''), ('BOTTOM HOLE LONGITUDE, DECIMAL DEGREES', ''), ('GEODETIC DATUM', 'NAD83'), ('WELL LOCATION METHOD', ''), ('ELEVATION', '477'), ('ELEVATION REFERENCE POINT', '0'), ('SECTION', '25'), ('TOWNSHIP', '5'), ('TOWNSHIP DIRECTION', 'N'), ('RANGE', '5'), ('RANGE DIRECTION', 'E'), ('MERIDIAN', ''), ('FOOTAGE NORTH OR SOUTH, FEET', ''), ('FOOTAGE EAST OR WEST, FEET', ''), ('CITY', ''), ('ZIP', '39664'), ('STATUS DATE', '2016-01-27'), ('EAST OR WEST DIRECTION', ''), ('NORTH OR SOUTH DIRECTION', ''), ('STANDARD WELL TYPE CODE', 'DRY'), ('STANDARD WELL STATUS CODE', 'ABN:PLG'), ('WELL LATITUDE IN WGS84 DATUM, DECIMAL DEGREES', ''), ('WELL LONGITUDE IN WGS84 DATUM, DECIMAL DEGREES', '')]), OrderedDict([('API NUMBER', '=\"23037215490000\"'), ('WELL NAME', 'Lehmann 1'), ('WELL NUMBER', '1'), ('OPERATOR', 'Saye Oil Company'), ('STATE', 'Mississippi'), ('COUNTY', 'Franklin'), ('COMPLETED FORMATION NAME', ''), ('ENCOUNTERED FORMATION NAME', ''), ('STANDARD WELL TYPE DESCRIPTION', 'Dry Hole'), ('STANDARD WELL STATUS DESCRIPTION', 'Abandoned:Plugged'), ('WELLHEAD LATITUDE, DECIMAL DEGREES', '31.5467'), ('WELLHEAD LONGITUDE, DECIMAL DEGREES', '-91.0042'), ('MEASURED DEPTH, FEET', ''), ('TOTAL VERTICAL DEPTH, FEET', ''), ('DRILLING ORIENTATION', 'Vertical'), ('BASIN NAME', ''), ('FIELD NAME', 'Wildcat'), ('STATE SUBDIVISION', ''), ('FIRST PRODUCTION DATE', ''), ('SPUD DATE', '2015-09-03'), ('FIRST COMPLETION DATE', ''), ('TOP WELL PERFORATION, FEET', ''), ('BOTTOM WELL PERFORATION, FEET', ''), ('FORMATION TOP, FEET', ''), ('FORMATION BOTTOM, FEET', ''), ('IN FRACFOCUS', 'No'), ('UNDERGROUND SOURCE OF DRINKING WATER', ''), ('LITHOLOGY', ''), ('STATE WELL TYPE', 'Dh - Dry Hole'), ('STATE WELL STATUS', 'Pa - Plugged And Abandoned'), ('BOTTOM HOLE LATITUDE, DECIMAL DEGREES', ''), ('BOTTOM HOLE LONGITUDE, DECIMAL DEGREES', ''), ('GEODETIC DATUM', 'NAD83'), ('WELL LOCATION METHOD', ''), ('ELEVATION', ''), ('ELEVATION REFERENCE POINT', ''), ('SECTION', '34'), ('TOWNSHIP', '7'), ('TOWNSHIP DIRECTION', 'N'), ('RANGE', '2'), ('RANGE DIRECTION', 'E'), ('MERIDIAN', ''), ('FOOTAGE NORTH OR SOUTH, FEET', ''), ('FOOTAGE EAST OR WEST, FEET', ''), ('CITY', ''), ('ZIP', '39661'), ('STATUS DATE', '2015-10-08'), ('EAST OR WEST DIRECTION', ''), ('NORTH OR SOUTH DIRECTION', ''), ('STANDARD WELL TYPE CODE', 'DRY'), ('STANDARD WELL STATUS CODE', 'ABN:PLG'), ('WELL LATITUDE IN WGS84 DATUM, DECIMAL DEGREES', ''), ('WELL LONGITUDE IN WGS84 DATUM, DECIMAL DEGREES', '')])]\n",
      "Missing values for: description_layout\n",
      "22033 of 34586 rows loaded\n",
      "first item: [{'state': 'MS', 'api': '23037215470000', 'lon': -90.6654, 'lat': 31.3777, 'date': datetime.date(2015, 10, 14), 'type': 'DRY HOLE', 'status': 'PA', 'category': None, 'description': None}]\n",
      "loaded 22033 of 22033 records into the database\n"
     ]
    },
    {
     "data": {
      "text/plain": [
       "22033"
      ]
     },
     "execution_count": 69,
     "metadata": {},
     "output_type": "execute_result"
    }
   ],
   "source": [
    "# Mississippi\n",
    "state = fieldmaps.State('MS')\n",
    "layout = {\n",
    "   'date_field': ['SPUD DATE', 'FIRST COMPLETION DATE', 'FIRST PRODUCTION DATE'],\n",
    "    'api_field': 'API NUMBER',\n",
    "    'type_field': 'STANDARD WELL TYPE DESCRIPTION',\n",
    "    'status_field': 'STANDARD WELL STATUS DESCRIPTION',\n",
    "    'lat_field': 'WELLHEAD LATITUDE, DECIMAL DEGREES',\n",
    "    'lon_field': 'WELLHEAD LONGITUDE, DECIMAL DEGREES',\n",
    "    'status_map': {\n",
    "        'Unassigned': 'UNKNOWN',\n",
    "        'Abandoned': 'A',\n",
    "        'Abandoned:Plugged': 'PA',\n",
    "        'Abandoned:Dry Hole': 'A',\n",
    "        'Active:Producing': 'ACTIVE',\n",
    "        'Permit:Active': 'ACTIVE',\n",
    "        'Inactive:Temporarily Abandoned': 'TA',\n",
    "        'Permit:Cancelled Expired': 'CANCELLED',\n",
    "        'Active:Completed': 'ACTIVE',\n",
    "        'Active': 'ACTIVE',\n",
    "        'Inactive': 'A',\n",
    "        'Active:Injecting': 'ACTIVE',\n",
    "    },\n",
    "    'type_map': {\n",
    "        'Other': 'OTHER',\n",
    "        'Gas': 'GAS',\n",
    "        'Unassigned': 'OTHER',\n",
    "        'Oil': 'OIL',\n",
    "        'Observation Monitor Strat Test': 'TEST',\n",
    "        'Gas Storage': 'STORAGE',\n",
    "        'Water Supply': 'WATER',\n",
    "        'Permit': 'UNKNOWN',\n",
    "        'Underground Injection Control:Class 2 Disposal': 'INJECTION',\n",
    "        'Dry Hole': 'DRY HOLE',\n",
    "        'Underground Injection Control:Class 2 Enhanced Recovery': 'INJECTION',\n",
    "        'Underground Injection Control:Class 1': 'INJECTION',\n",
    "    },\n",
    "}\n",
    "#import fieldmaps.ks\n",
    "wells = fieldmaps.Dataset(state, layout)\n",
    "wells.write_to_db()"
   ]
  },
  {
   "cell_type": "code",
   "execution_count": 78,
   "metadata": {},
   "outputs": [],
   "source": [
    "importlib.reload(fieldmaps)\n",
    "importlib.reload(fieldmaps.mi)\n",
    "\n",
    "layout = {\n",
    "    'api_field': '',\n",
    "    'date_field': '',\n",
    "    'lat_field': 'y',\n",
    "    'lon_field': 'x',\n",
    "    'status_field': '',\n",
    "    'status_map': None,\n",
    "    'type_field': '',\n",
    "    'type_map': None\n",
    "}"
   ]
  },
  {
   "cell_type": "code",
   "execution_count": 83,
   "metadata": {},
   "outputs": [
    {
     "name": "stdout",
     "output_type": "stream",
     "text": [
      "10287 of 10471 rows loaded\n",
      "first item: [{'state': 'MO', 'api': '2400100001', 'lon': -92.37907, 'lat': 40.25678, 'date': datetime.date(1939, 9, 1), 'type': 'DRY HOLE', 'status': 'A', 'category': None, 'description': None}]\n",
      "loaded 10287 of 10287 records into the database\n"
     ]
    },
    {
     "data": {
      "text/plain": [
       "10287"
      ]
     },
     "execution_count": 83,
     "metadata": {},
     "output_type": "execute_result"
    }
   ],
   "source": [
    "# Missouri\n",
    "state = fieldmaps.State('MO', strip_whitespace = ['Well Status', 'Well Type'], prepend_api = True)\n",
    "#import fieldmaps.ks\n",
    "layout = {\n",
    "    'api_field': 'API Number',\n",
    "    'date_field': ['Spud Date','Well Status Date'],\n",
    "    'lat_field': 'Well Latitude Decimal',\n",
    "    'lon_field': 'Well Longitude Decimal',\n",
    "    'status_field': 'Well Status',\n",
    "    'status_map': {\n",
    "        'Abandoned': 'A',\n",
    "        'Abandoned, Known Location and Verified': 'A',\n",
    "        'Abandoned, No evidence of existence/ Unable to find': 'A',\n",
    "        'Abandoned, Unknown Location': 'A',\n",
    "        'Active Well': 'ACTIVE',\n",
    "        'Inactive Ð Initial 90 day window': 'TA',\n",
    "        'Plugged - Approved': 'PA',\n",
    "        'Proposed Well (Associated with permit application only)': 'UNKNOWN',\n",
    "        'Shut in - Complete': 'SI',\n",
    "        'Shut in - Extended': 'SI',\n",
    "        'Shut in - Incomplete': 'SI',\n",
    "        'Temporarily Abandoned(Idle)': 'TA',\n",
    "        'Under Construction': 'PERMITTED',\n",
    "        'Unknown Well Status': 'UNKNOWN',\n",
    "        'Water Well Conversion': 'UNKNOWN',\n",
    "    },\n",
    "    'type_field': 'Well Type',\n",
    "    'type_map': {\n",
    "        'Dry Hole': 'DRY HOLE',\n",
    "        'Gas Storage Wells': 'STORAGE',\n",
    "        'Gas(Coalbed Methane)': 'GAS',\n",
    "        'Gas(Convertional, Commercial)': 'GAS',\n",
    "        'Gas(Private Use)': 'GAS',\n",
    "        'Horizontal Oil Well': 'OIL',\n",
    "        'Injection(Class II Disposal)': 'INJECTION',\n",
    "        'Injection(Class II EOR)': 'INJECTION',\n",
    "        'Observation': 'OBSERVATION',\n",
    "        'Oil': 'OIL',\n",
    "        'Stratigraphic Test': 'TEST',\n",
    "        'Stratigraphic Test, None Oil/Gas Related(has geophysical log)': 'TEST',\n",
    "        'Unknown Well Type': 'UNKNOWN',\n",
    "        'Water Well': 'WATER',\n",
    "        'Water Well, None Oil/Gas Related(has geophysical log)': 'WATER',\n",
    "    },\n",
    "}\n",
    "wells = fieldmaps.Dataset(state, layout)\n",
    "wells.write_to_db()"
   ]
  },
  {
   "cell_type": "code",
   "execution_count": null,
   "metadata": {},
   "outputs": [],
   "source": [
    "# Montana\n",
    "state = fieldmaps.State('MT')\n",
    "#import fieldmaps.ks\n",
    "wells = fieldmaps.Dataset(state, )\n",
    "wells.write_to_db()"
   ]
  },
  {
   "cell_type": "code",
   "execution_count": null,
   "metadata": {},
   "outputs": [],
   "source": [
    "# Nebraska\n",
    "state = fieldmaps.State('NE')\n",
    "\n",
    "layout = {\n",
    "   'date_field': ['SPUD DATE', 'FIRST COMPLETION DATE', 'FIRST PRODUCTION DATE'],\n",
    "    'api_field': 'API NUMBER',\n",
    "    'type_field': 'STANDARD WELL TYPE DESCRIPTION',\n",
    "    'status_field': 'STANDARD WELL STATUS DESCRIPTION',\n",
    "    'lat_field': 'WELLHEAD LATITUDE, DECIMAL DEGREES',\n",
    "    'lon_field': 'WELLHEAD LONGITUDE, DECIMAL DEGREES',\n",
    "    'status_map': None,\n",
    "    'type_map': None\n",
    "}\n",
    "#import fieldmaps.ks\n",
    "wells = fieldmaps.Dataset(state, layout)\n",
    "wells.write_to_db()"
   ]
  },
  {
   "cell_type": "code",
   "execution_count": null,
   "metadata": {},
   "outputs": [],
   "source": [
    "# Nevada\n",
    "state = fieldmaps.State('NV')"
   ]
  },
  {
   "cell_type": "code",
   "execution_count": null,
   "metadata": {},
   "outputs": [],
   "source": [
    "# New Hampshire - no oil or gas"
   ]
  },
  {
   "cell_type": "code",
   "execution_count": null,
   "metadata": {},
   "outputs": [],
   "source": [
    "# New Jersey - no oil or gas"
   ]
  },
  {
   "cell_type": "code",
   "execution_count": null,
   "metadata": {},
   "outputs": [],
   "source": [
    "# New Mexico\n",
    "state = fieldmaps.State('NM')"
   ]
  },
  {
   "cell_type": "code",
   "execution_count": null,
   "metadata": {},
   "outputs": [],
   "source": [
    "# New York\n",
    "state = fieldmaps.State('NY')"
   ]
  },
  {
   "cell_type": "code",
   "execution_count": null,
   "metadata": {},
   "outputs": [],
   "source": [
    "# North Carolina - no oil or gas"
   ]
  },
  {
   "cell_type": "code",
   "execution_count": null,
   "metadata": {},
   "outputs": [],
   "source": [
    "# North Dakota\n",
    "state = fieldmaps.State('ND')"
   ]
  },
  {
   "cell_type": "code",
   "execution_count": null,
   "metadata": {},
   "outputs": [],
   "source": [
    "# Ohio\n",
    "state = fieldmaps.State('OH')"
   ]
  },
  {
   "cell_type": "code",
   "execution_count": null,
   "metadata": {},
   "outputs": [],
   "source": [
    "# Oklahoma\n",
    "state = fieldmaps.State('OK')\n",
    "\n",
    "layout = {\n",
    "   'date_field': ['SPUD DATE', 'FIRST COMPLETION DATE', 'FIRST PRODUCTION DATE'],\n",
    "    'api_field': 'API NUMBER',\n",
    "    'type_field': 'STANDARD WELL TYPE DESCRIPTION',\n",
    "    'status_field': 'STANDARD WELL STATUS DESCRIPTION',\n",
    "    'lat_field': 'WELLHEAD LATITUDE, DECIMAL DEGREES',\n",
    "    'lon_field': 'WELLHEAD LONGITUDE, DECIMAL DEGREES',\n",
    "    'status_map': None,\n",
    "    'type_map': None\n",
    "}\n",
    "#import fieldmaps.ks\n",
    "wells = fieldmaps.Dataset(state, layout)\n",
    "wells.write_to_db()"
   ]
  },
  {
   "cell_type": "code",
   "execution_count": null,
   "metadata": {},
   "outputs": [],
   "source": [
    "# Oregon\n",
    "state = fieldmaps.State('OR')"
   ]
  },
  {
   "cell_type": "code",
   "execution_count": null,
   "metadata": {},
   "outputs": [],
   "source": [
    "# Pennsylvania\n",
    "state = State('PA')\n",
    "state.source_url = 'http://www.depreportingservices.state.pa.us/ReportServer/Pages/ReportViewer.aspx?/Oil_Gas/Spud_External_Data'\n",
    "state.description = \"\"\"\n",
    "Data downloaded in CSV form based on setting SPUD BEGIN DATE = 1/1/1800 and SPUD END DATE = 12/31/2099\n",
    "Represents 142,788, of which 110,000 have dates wells.\n",
    "\"\"\"\n",
    "state.write_to_db()\n",
    "\n",
    "state.layout = {\n",
    "    'date_field': 'SPUD_DATE',\n",
    "    'api_field': 'API',\n",
    "    'api_includes_state': False,\n",
    "    'type_field': 'WELL_CODE_DESC',\n",
    "    'status_field': 'WELL_STATUS',\n",
    "    'category_field': 'UNCONVENTIONAL',\n",
    "    'location_src_field': None,\n",
    "    'lat_field': 'LATITUDE',\n",
    "    'lon_field': 'LONGITUDE',\n",
    "    'description_layout': '\\n'.join(['County: %s',\n",
    "                             'Operator Name: %s',\n",
    "                             'OGO No: %s',\n",
    "                             'Municipality: %s',\n",
    "                             'Farm Name: %s',\n",
    "                             'Well Configuration: %s'\n",
    "                            ]),\n",
    "    'description_fields': ['COUNTY', 'OPERATOR', 'OGO_NUM', 'MUNICIPALITY', 'FARM_NAME', 'CONFIGURATION'],\n",
    "    \n",
    "    'type_map': {\n",
    "        'UNDETERMINED': 'OTHER',\n",
    "        'MULTIPLE WELL BORE TYPE': 'OTHER',\n",
    "        'OIL': 'OIL',\n",
    "        'OBSERVATION': 'OBSERVATION',\n",
    "        'DRY HOLE': 'DRY HOLE',\n",
    "        'COALBED METHANE': 'GAS',\n",
    "        'GAS': 'GAS',\n",
    "        'COMB. OIL&GAS': 'OILANDGAS',\n",
    "        'STORAGE WELL': 'STORAGE',\n",
    "        'WASTE DISPOSAL': 'DISPOSAL',\n",
    "        'INJECTION': 'INJECTION',\n",
    "        'TEST WELL': 'TEST',\n",
    "    },\n",
    "\n",
    "    'status_map': {\n",
    "        'DEP Abandoned List': 'ORPHAN',\n",
    "        'Plugged OG Well': 'PA',\n",
    "        'DEP Orphan List': 'ORPHAN',\n",
    "        'DEP Plugged': 'PA',\n",
    "        'Regulatory Inactive Status': 'UNKNOWN',\n",
    "        'Operator Reported Not Drilled': 'CANCELLED',\n",
    "        'Proposed But Never Materialized': 'CANCELLED',\n",
    "        'Active': 'ACTIVE',\n",
    "        'Abandoned': 'PA',\n",
    "    },\n",
    "\n",
    "    'category_map': {\n",
    "        'Yes': 'UNCONVENTIONAL',\n",
    "        'No': 'CONVENTIONAL',\n",
    "    },\n",
    "    'location_src_map': None\n",
    "}\n",
    "\n",
    "state.load_data()\n",
    "dataset = Dataset(state)\n",
    "db_result = dataset.commit_to_db()\n",
    "if db_result:\n",
    "    print ('loaded', str(db_result), 'of', str(len(dataset.processed_data)), 'records into the database')\n",
    "else:\n",
    "    print (\"** error loading database! **\")"
   ]
  },
  {
   "cell_type": "code",
   "execution_count": null,
   "metadata": {},
   "outputs": [],
   "source": [
    "# Rhode Island - no oil or gas"
   ]
  },
  {
   "cell_type": "code",
   "execution_count": null,
   "metadata": {},
   "outputs": [],
   "source": [
    "# South Carolina - No oil or gas"
   ]
  },
  {
   "cell_type": "code",
   "execution_count": null,
   "metadata": {},
   "outputs": [],
   "source": [
    "# South Dakota\n",
    "state = fieldmaps.State('SD')"
   ]
  },
  {
   "cell_type": "code",
   "execution_count": null,
   "metadata": {},
   "outputs": [],
   "source": [
    "# Tennessee\n",
    "state = fieldmaps.State('TN')\n",
    "\n",
    "state.description = \"\"\"\n",
    "Tennessee's Department of Environment & Conservation does not \n",
    "doesn't make a lot of details available (no spud date, well status). The dates recorded are the \n",
    "Permit Date. Status is set to unknown for all wells. Per their website, \n",
    "<i>\"This minimal permit information is intended to allow the public to easily track the number and \n",
    "locations of oil and gas well permits issued. For more detailed information about a specific well, \n",
    "contact the Oil and Gas program staff at 615-687-7109 . Permit files can be accessed by visiting \n",
    "the Oil and Gas Section at the Nashville Environmental Field Office in Nashville, TN 37243.\"</i>\n",
    "\"\"\"\n",
    "state.source_url = 'http://environment-online.state.tn.us:8080/pls/enf_reports/f?p=9034:34300:0::NO:::'\n",
    "state.write_to_db()\n",
    "\n",
    "state.layout = {\n",
    "    'date_field': 'Permit Date',\n",
    "    'api_field': 'API No',\n",
    "    'type_field': 'Purpose af Well',\n",
    "    'status_field': None,\n",
    "    'category_field': None,\n",
    "    'location_src_field': None,\n",
    "    'lat_field': 'Latitude',\n",
    "    'lon_field': 'Longitude',\n",
    "    'description_layout': '\\n'.join(['County: %s',\n",
    "                             'Operator Name: %s',\n",
    "                             'Permit No: %s',\n",
    "                             'Well Name and Number: %s',\n",
    "                             'EFO Name: %s'\n",
    "                            ]),\n",
    "    'description_fields': ['County', 'Operator Name', 'Permit No', 'Well Name and Number', 'EFO Name'],\n",
    "    'type_map': None,\n",
    "    'status_map': None,\n",
    "    'category_map': None,\n",
    "    'type_map': {\n",
    "        '': 'OTHER',\n",
    "        'Oil': 'OIL',\n",
    "        'Oil And Gas': 'OILANDGAS',\n",
    "        'Mineral Core Test': 'TEST',\n",
    "        'Gas': 'GAS',\n",
    "        'NCG - Domestic Use': 'OTHER',\n",
    "    },\n",
    "    'location_src_map': None\n",
    "}\n",
    "\n",
    "state.load_data()\n",
    "dataset = Dataset(state)\n",
    "db_result = dataset.commit_to_db()\n",
    "if db_result:\n",
    "    print ('loaded', str(db_result), 'of', str(len(dataset.processed_data)), 'records into the database')\n",
    "else:\n",
    "    print (\"** error loading database! **\")"
   ]
  },
  {
   "cell_type": "code",
   "execution_count": null,
   "metadata": {},
   "outputs": [],
   "source": [
    "# Texas\n",
    "state = fieldmaps.State('TX')"
   ]
  },
  {
   "cell_type": "code",
   "execution_count": null,
   "metadata": {},
   "outputs": [],
   "source": [
    "# Utah\n",
    "state = fieldmaps.State('UT')"
   ]
  },
  {
   "cell_type": "code",
   "execution_count": null,
   "metadata": {},
   "outputs": [],
   "source": [
    "# Vermont - no oil or gas"
   ]
  },
  {
   "cell_type": "code",
   "execution_count": null,
   "metadata": {},
   "outputs": [],
   "source": [
    "# Virginia\n",
    "state = fieldmaps.State('VA')"
   ]
  },
  {
   "cell_type": "code",
   "execution_count": null,
   "metadata": {},
   "outputs": [],
   "source": [
    "# Washington\n",
    "state = fieldmaps.State('WA')"
   ]
  },
  {
   "cell_type": "code",
   "execution_count": null,
   "metadata": {},
   "outputs": [],
   "source": [
    "# West Virginia\n",
    "state = fieldmaps.State('WV')"
   ]
  },
  {
   "cell_type": "code",
   "execution_count": null,
   "metadata": {},
   "outputs": [],
   "source": [
    "# Wisconsin - no oil or gas"
   ]
  },
  {
   "cell_type": "code",
   "execution_count": null,
   "metadata": {},
   "outputs": [],
   "source": [
    "# Wyoming\n",
    "state = State('WY')"
   ]
  },
  {
   "cell_type": "code",
   "execution_count": null,
   "metadata": {},
   "outputs": [],
   "source": [
    "# Alaska Offshore\n",
    "state = State('AK1')\n",
    "# Pacific Coast Offshore\n",
    "state = State('CA1')\n",
    "# Northern Gulf of Mexico\n",
    "state = State('TX1')\n",
    "# Atlantic Coast Offshore\n",
    "state = State('DC1')\n"
   ]
  }
 ],
 "metadata": {
  "kernelspec": {
   "display_name": "Python 3",
   "language": "python",
   "name": "python3"
  },
  "language_info": {
   "codemirror_mode": {
    "name": "ipython",
    "version": 3
   },
   "file_extension": ".py",
   "mimetype": "text/x-python",
   "name": "python",
   "nbconvert_exporter": "python",
   "pygments_lexer": "ipython3",
   "version": "3.6.4"
  }
 },
 "nbformat": 4,
 "nbformat_minor": 1
}
