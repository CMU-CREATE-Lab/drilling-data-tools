{
 "cells": [
  {
   "cell_type": "markdown",
   "metadata": {},
   "source": [
    "This notebook takes the well data stored in a local database and renders out a binary file with the well location data in EarthTime format."
   ]
  },
  {
   "cell_type": "code",
   "execution_count": 1,
   "metadata": {},
   "outputs": [],
   "source": [
    "import os, array, csv, json, math, random\n",
    "from datetime import datetime\n",
    "\n",
    "import db_settings\n",
    "import psycopg2\n",
    "\n",
    "def LonLatToPixelXY(lonlat):\n",
    "    (lon, lat) = lonlat\n",
    "    x = (lon + 180.0) * 256.0 / 360.0\n",
    "    y = 128.0 - math.log(math.tan((lat + 90.0) * math.pi / 360.0)) * 128.0 / math.pi\n",
    "    return [x, y]"
   ]
  },
  {
   "cell_type": "markdown",
   "metadata": {},
   "source": [
    "## Traditional - Lat / Lon / Time"
   ]
  },
  {
   "cell_type": "code",
   "execution_count": 2,
   "metadata": {},
   "outputs": [],
   "source": [
    "conn = psycopg2.connect(database=db_settings.DB, user=db_settings.USER, password=db_settings.PASSWD, host=db_settings.HOST)\n",
    "with conn:\n",
    "    with conn.cursor() as cur:\n",
    "        query = 'SELECT date, ST_X(location::geometry) AS lon, ST_Y(location::geometry) AS lat FROM wells '\n",
    "        query += \"WHERE type IN ('OIL', 'GAS', 'OILANDGAS')\"\n",
    "\n",
    "        try:\n",
    "            cur.execute(query)\n",
    "        except psycopg2.Error as e:\n",
    "            print (query)\n",
    "            print (e.pgerror)\n",
    "        wells = cur.fetchall()\n",
    "conn.close()"
   ]
  },
  {
   "cell_type": "code",
   "execution_count": 3,
   "metadata": {},
   "outputs": [],
   "source": [
    "data = []\n",
    "base_date = datetime(1970, 1, 1)\n",
    "for well in wells:\n",
    "    date, lon, lat = well\n",
    "    x, y = LonLatToPixelXY([lon,lat])\n",
    "    if date:\n",
    "        date = datetime.combine(date, datetime.min.time())\n",
    "        epochtime = (date - base_date).total_seconds()\n",
    "    else:\n",
    "        epochtime = 0\n",
    "    data += [x,y,epochtime]\n",
    "array.array('f', data).tofile(open('data/data.bin', 'wb'))"
   ]
  },
  {
   "cell_type": "markdown",
   "metadata": {},
   "source": [
    "# Experimental - Lat / Lon / Time / Active"
   ]
  },
  {
   "cell_type": "code",
   "execution_count": 5,
   "metadata": {},
   "outputs": [
    {
     "name": "stdout",
     "output_type": "stream",
     "text": [
      "wrote 1374085.0 records to data/decay.bin\n"
     ]
    }
   ],
   "source": [
    "# Extract well data from database and write to .bin file\n",
    "\n",
    "import db_settings\n",
    "import psycopg2, psycopg2.extras, ast, math, array\n",
    "from datetime import datetime\n",
    "result_file = 'data/decay.bin'\n",
    "\n",
    "query = \"\"\"\n",
    "SELECT DISTINCT ON(api) api, ST_AsGeoJSON(location) AS location, \n",
    "date,\n",
    "date_part('year', date) AS year,\n",
    "date_part('month', date) AS month,\n",
    "date_part('day', date) AS day,\n",
    "CASE WHEN status = 'ACTIVE' THEN 'True' ELSE 'False' END AS active\n",
    "FROM wells\n",
    "WHERE type IN ('OIL', 'OILANDGAS', 'GAS')\n",
    "AND date IS NOT NULL\n",
    "ORDER BY api, date, capture_time DESC;\n",
    "\"\"\"\n",
    "data = []\n",
    "conn = psycopg2.connect(database=db_settings.DB, user=db_settings.USER, password=db_settings.PASSWD, host=db_settings.HOST)\n",
    "with conn:\n",
    "    with conn.cursor(name='wells_cur', cursor_factory=psycopg2.extras.DictCursor) as cur:\n",
    "        cur.execute(query)\n",
    "        for record in cur:\n",
    "            if record['date']:\n",
    "                date = datetime(int(record['year']), int(record['month']), int(record['day']))\n",
    "            epochtime = (date - datetime(1970, 1, 1)).total_seconds()\n",
    "            value = 1 if ast.literal_eval(record['active']) else 0            \n",
    "            point = ast.literal_eval(record['location'])\n",
    "            x = (point['coordinates'][0] + 180.0) * 256.0 / 360.0\n",
    "            y = 128.0 - math.log(math.tan((point['coordinates'][1] + 90.0) * math.pi / 360.0)) * 128.0 / math.pi\n",
    "            data += [x, y, epochtime, value];\n",
    "\n",
    "array.array('f', data).tofile(open(result_file, 'wb'))\n",
    "print ('wrote', str(len(data)/4), 'records to', result_file)"
   ]
  },
  {
   "cell_type": "code",
   "execution_count": null,
   "metadata": {},
   "outputs": [],
   "source": []
  }
 ],
 "metadata": {
  "kernelspec": {
   "display_name": "Python 3",
   "language": "python",
   "name": "python3"
  },
  "language_info": {
   "codemirror_mode": {
    "name": "ipython",
    "version": 3
   },
   "file_extension": ".py",
   "mimetype": "text/x-python",
   "name": "python",
   "nbconvert_exporter": "python",
   "pygments_lexer": "ipython3",
   "version": "3.6.4"
  }
 },
 "nbformat": 4,
 "nbformat_minor": 1
}
