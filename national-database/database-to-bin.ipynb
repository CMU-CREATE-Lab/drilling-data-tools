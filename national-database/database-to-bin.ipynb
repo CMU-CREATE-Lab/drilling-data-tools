{
 "cells": [
  {
   "cell_type": "markdown",
   "metadata": {},
   "source": [
    "This notebook takes the well data stored in a local database and renders out a binary file with the well location data in EarthTime format."
   ]
  },
  {
   "cell_type": "code",
   "execution_count": 1,
   "metadata": {},
   "outputs": [],
   "source": [
    "import os, array, csv, json, math, random\n",
    "from datetime import datetime\n",
    "\n",
    "import db_settings\n",
    "import psycopg2\n",
    "\n",
    "def LonLatToPixelXY(lonlat):\n",
    "    (lon, lat) = lonlat\n",
    "    x = (lon + 180.0) * 256.0 / 360.0\n",
    "    y = 128.0 - math.log(math.tan((lat + 90.0) * math.pi / 360.0)) * 128.0 / math.pi\n",
    "    return [x, y]"
   ]
  },
  {
   "cell_type": "code",
   "execution_count": 10,
   "metadata": {},
   "outputs": [],
   "source": [
    "conn = psycopg2.connect(database=db_settings.DB, user=db_settings.USER, password=db_settings.PASSWD, host=db_settings.HOST)\n",
    "with conn:\n",
    "    with conn.cursor() as cur:\n",
    "        query = 'SELECT date, ST_X(location::geometry) AS lon, ST_Y(location::geometry) AS lat FROM wells '\n",
    "        query += \"WHERE type IN ('OIL', 'GAS', 'DRY HOLE', 'DISPOSAL', 'OILANDGAS')\"\n",
    "\n",
    "        try:\n",
    "            cur.execute(query)\n",
    "        except psycopg2.Error as e:\n",
    "            print (query)\n",
    "            print (e.pgerror)\n",
    "        wells = cur.fetchall()\n",
    "conn.close()"
   ]
  },
  {
   "cell_type": "code",
   "execution_count": 11,
   "metadata": {},
   "outputs": [],
   "source": [
    "data = []\n",
    "base_date = datetime(1970, 1, 1)\n",
    "for well in wells:\n",
    "    date, lon, lat = well\n",
    "    x, y = LonLatToPixelXY([lon,lat])\n",
    "    if date:\n",
    "        date = datetime.combine(date, datetime.min.time())\n",
    "        epochtime = (date - base_date).total_seconds()\n",
    "    else:\n",
    "        epochtime = 0\n",
    "    data += [x,y,epochtime]\n",
    "array.array('f', data).tofile(open('data/data.bin', 'wb'))"
   ]
  },
  {
   "cell_type": "code",
   "execution_count": null,
   "metadata": {},
   "outputs": [],
   "source": []
  }
 ],
 "metadata": {
  "kernelspec": {
   "display_name": "Python 3",
   "language": "python",
   "name": "python3"
  },
  "language_info": {
   "codemirror_mode": {
    "name": "ipython",
    "version": 3
   },
   "file_extension": ".py",
   "mimetype": "text/x-python",
   "name": "python",
   "nbconvert_exporter": "python",
   "pygments_lexer": "ipython3",
   "version": "3.6.4"
  }
 },
 "nbformat": 4,
 "nbformat_minor": 1
}
