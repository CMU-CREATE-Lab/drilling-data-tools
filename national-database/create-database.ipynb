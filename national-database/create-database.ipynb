{
 "cells": [
  {
   "cell_type": "markdown",
   "metadata": {},
   "source": [
    "Set up the database."
   ]
  },
  {
   "cell_type": "code",
   "execution_count": 1,
   "metadata": {},
   "outputs": [
    {
     "name": "stdout",
     "output_type": "stream",
     "text": [
      "createdb: database creation failed: ERROR:  database \"wells\" already exists\r\n"
     ]
    }
   ],
   "source": [
    "!createdb wells"
   ]
  },
  {
   "cell_type": "code",
   "execution_count": 1,
   "metadata": {},
   "outputs": [
    {
     "name": "stdout",
     "output_type": "stream",
     "text": [
      "CREATE EXTENSION\r\n"
     ]
    }
   ],
   "source": [
    "!psql -c \"CREATE EXTENSION postgis;\" wells"
   ]
  },
  {
   "cell_type": "code",
   "execution_count": 2,
   "metadata": {},
   "outputs": [],
   "source": [
    "%load_ext sql"
   ]
  },
  {
   "cell_type": "code",
   "execution_count": 3,
   "metadata": {},
   "outputs": [
    {
     "data": {
      "text/plain": [
       "'Connected: postgres@wells'"
      ]
     },
     "execution_count": 3,
     "metadata": {},
     "output_type": "execute_result"
    }
   ],
   "source": [
    "%%sql\n",
    "postgresql://postgres:@localhost/wells"
   ]
  },
  {
   "cell_type": "code",
   "execution_count": 5,
   "metadata": {},
   "outputs": [
    {
     "name": "stdout",
     "output_type": "stream",
     "text": [
      "Done.\n",
      "Done.\n",
      "Done.\n",
      "Done.\n"
     ]
    },
    {
     "data": {
      "text/plain": [
       "[]"
      ]
     },
     "execution_count": 5,
     "metadata": {},
     "output_type": "execute_result"
    }
   ],
   "source": [
    "%%sql\n",
    "DROP TABLE IF EXISTS states CASCADE;\n",
    "CREATE TABLE states \n",
    "(\n",
    "    id serial,\n",
    "    state char(2) UNIQUE,\n",
    "    name VARCHAR,\n",
    "    source_url VARCHAR,\n",
    "    description TEXT,\n",
    "    last_updated TIMESTAMPTZ,\n",
    "    api_prefix CHAR(2),\n",
    "    PRIMARY KEY (id)\n",
    ");\n",
    "CREATE INDEX idx_state_id ON states(id);\n",
    "CREATE INDEX idx_state_st ON states(state);"
   ]
  },
  {
   "cell_type": "markdown",
   "metadata": {},
   "source": [
    "Injection Wells: (https://www.epa.gov/uic/class-ii-oil-and-gas-related-injection-wells)\n",
    "Well types and statuses: (http://www.ogsrlibrary.com/definitions_well_status_oil_gas_ontario)\n",
    "INJECTION = FRACKING"
   ]
  },
  {
   "cell_type": "code",
   "execution_count": 11,
   "metadata": {},
   "outputs": [
    {
     "name": "stdout",
     "output_type": "stream",
     "text": [
      "Done.\n",
      "Done.\n",
      "Done.\n",
      "Done.\n",
      "Done.\n",
      "Done.\n",
      "Done.\n",
      "Done.\n",
      "Done.\n",
      "Done.\n",
      "Done.\n",
      "Done.\n",
      "Done.\n",
      "Done.\n",
      "Done.\n",
      "Done.\n",
      "Done.\n"
     ]
    },
    {
     "data": {
      "text/plain": [
       "[]"
      ]
     },
     "execution_count": 11,
     "metadata": {},
     "output_type": "execute_result"
    }
   ],
   "source": [
    "%%sql\n",
    "DROP TYPE IF EXISTS enum_well_type CASCADE;\n",
    "CREATE TYPE enum_well_type AS ENUM\n",
    "(\n",
    "    'OIL',\n",
    "    'GAS',\n",
    "    'OILANDGAS',\n",
    "    'INJECTION',\n",
    "    'STORAGE',\n",
    "    'DISPOSAL',\n",
    "    'SERVICE',\n",
    "    'DRY HOLE',\n",
    "    'OBSERVATION',\n",
    "    'TEST',\n",
    "    'WATER',\n",
    "    'OTHER',\n",
    "    'UNKNOWN'\n",
    ");\n",
    "DROP TYPE IF EXISTS enum_well_status CASCADE;\n",
    "CREATE TYPE enum_well_status AS ENUM\n",
    "(\n",
    "    'PERMITTED',\n",
    "    'CANCELLED',\n",
    "    'ACTIVE',\n",
    "    'A', -- ABANDONED\n",
    "    'TA',\n",
    "    'SI', -- SHUT IN\n",
    "    'PA',\n",
    "    'ORPHAN',\n",
    "    'UNKNOWN'\n",
    ");\n",
    "DROP TYPE IF EXISTS enum_well_category CASCADE;\n",
    "CREATE TYPE enum_well_category AS ENUM\n",
    "(\n",
    "    'CONVENTIONAL',\n",
    "    'UNCONVENTIONAL',\n",
    "    'FRAC',\n",
    "    'CBM',\n",
    "    'SERVICE',\n",
    "    'TEST',\n",
    "    'STORAGE',\n",
    "    'WATER',\n",
    "    'OTHER',\n",
    "    'UNKNOWN'\n",
    ");\n",
    "DROP TYPE IF EXISTS enum_location_src CASCADE;\n",
    "CREATE TYPE enum_location_src AS ENUM\n",
    "(\n",
    "    'S', --Surface\n",
    "    'BH' --Bottom Hole\n",
    ");\n",
    "\n",
    "DROP TABLE IF EXISTS wells;\n",
    "CREATE TABLE wells\n",
    "(\n",
    "    id SERIAL PRIMARY KEY,\n",
    "    api varchar NOT NULL CONSTRAINT plain_api CHECK (api ~ '^[A-Z0-9]+$'),\n",
    "    state char(2) REFERENCES states(state) NOT NULL,\n",
    "    status enum_well_status NOT NULL,\n",
    "    type enum_well_type,\n",
    "    category enum_well_category,\n",
    "    date DATE,\n",
    "    description TEXT,\n",
    "    location_src enum_location_src,\n",
    "    location GEOGRAPHY(POINT, 4326) NOT NULL,\n",
    "    capture_time TIMESTAMPTZ,\n",
    "    UNIQUE (api, status, date)\n",
    ");\n",
    "\n",
    "CREATE INDEX idx_well_id ON wells(id);\n",
    "CREATE INDEX idx_api ON wells(api);\n",
    "CREATE INDEX idx_api_status_date ON wells(api, status, date);\n",
    "CREATE INDEX idx_api_capture_time ON wells(api, capture_time);\n",
    "CREATE INDEX idx_well_location ON wells(location);\n",
    "CREATE INDEX idx_well_status ON wells(status);\n",
    "CREATE INDEX idx_well_type ON wells(type);"
   ]
  },
  {
   "cell_type": "code",
   "execution_count": 7,
   "metadata": {},
   "outputs": [],
   "source": [
    "import psycopg2\n",
    "\n",
    "conn = psycopg2.connect(database=\"wells\")\n",
    "with conn:\n",
    "    with conn.cursor() as cur:\n",
    "        with open('states-data.csv', 'r') as f:\n",
    "            cur.copy_expert('COPY states(api_prefix, state, name) FROM STDIN WITH DELIMITER \\',\\' CSV HEADER', f)\n",
    "            #, 'states', sep=',', columns='api_prefix, state, name'))\n",
    "conn.close()            "
   ]
  },
  {
   "cell_type": "code",
   "execution_count": null,
   "metadata": {},
   "outputs": [],
   "source": []
  }
 ],
 "metadata": {
  "kernelspec": {
   "display_name": "Python 3",
   "language": "python",
   "name": "python3"
  },
  "language_info": {
   "codemirror_mode": {
    "name": "ipython",
    "version": 3
   },
   "file_extension": ".py",
   "mimetype": "text/x-python",
   "name": "python",
   "nbconvert_exporter": "python",
   "pygments_lexer": "ipython3",
   "version": "3.6.4"
  }
 },
 "nbformat": 4,
 "nbformat_minor": 1
}
