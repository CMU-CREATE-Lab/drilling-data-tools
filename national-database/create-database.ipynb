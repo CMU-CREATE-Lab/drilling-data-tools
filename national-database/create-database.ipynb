{
 "cells": [
  {
   "cell_type": "code",
   "execution_count": 5,
   "metadata": {
    "collapsed": false
   },
   "outputs": [],
   "source": [
    "# PostgreSQL 9.5\n",
    "# with PostGIS 2.2\n",
    "# 1. create user with credentials in db_settings.py\n",
    "# 2. run query below\n",
    "\"\"\"\n",
    "CREATE DATABASE wells\n",
    "    WITH \n",
    "    OWNER = wellsuser\n",
    "    ENCODING = 'UTF8'\n",
    "    CONNECTION LIMIT = -1;\n",
    "GRANT ALL ON DATABASE wells TO wellsuser;\n",
    "\\connect wells\n",
    "CREATE EXTENSION postgis;\n",
    "\"\"\"\n",
    "\n",
    "import db_settings\n",
    "import psycopg2\n",
    "\n",
    "def run_query(query):\n",
    "    # Connect to the database\n",
    "    conn = psycopg2.connect(\n",
    "            database=db_settings.DB,\n",
    "            user=db_settings.USER,\n",
    "            password=db_settings.PASSWD,\n",
    "            host=db_settings.HOST)\n",
    "    with conn:\n",
    "        with conn.cursor() as curs:\n",
    "            curs.execute(query)\n",
    "            print curs.statusmessage\n",
    "    conn.close()\n",
    "    "
   ]
  },
  {
   "cell_type": "code",
   "execution_count": 9,
   "metadata": {
    "collapsed": false
   },
   "outputs": [
    {
     "name": "stdout",
     "output_type": "stream",
     "text": [
      "CREATE INDEX\n"
     ]
    }
   ],
   "source": [
    "query = \"\"\"\n",
    "DROP TABLE IF EXISTS states CASCADE;\n",
    "CREATE TABLE states \n",
    "(\n",
    "    id serial,\n",
    "    state char(2) UNIQUE,\n",
    "    name VARCHAR,\n",
    "    source_url VARCHAR,\n",
    "    description TEXT,\n",
    "    last_updated TIMESTAMPTZ,\n",
    "    api_prefix CHAR(2),\n",
    "    PRIMARY KEY (id)\n",
    ");\n",
    "CREATE INDEX idx_state_id ON states(id);\n",
    "CREATE INDEX idx_state_st ON states(state);\n",
    "\"\"\"\n",
    "run_query(query)\n"
   ]
  },
  {
   "cell_type": "code",
   "execution_count": 10,
   "metadata": {
    "collapsed": false
   },
   "outputs": [
    {
     "name": "stdout",
     "output_type": "stream",
     "text": [
      "CREATE INDEX\n"
     ]
    }
   ],
   "source": [
    "# Injection Wells: https://www.epa.gov/uic/class-ii-oil-and-gas-related-injection-wells\n",
    "# Well types and statuses: http://www.ogsrlibrary.com/definitions_well_status_oil_gas_ontario  \n",
    "# INJECTION = FRACKING\n",
    "query = \"\"\"\n",
    "DROP TYPE IF EXISTS enum_well_type CASCADE;\n",
    "CREATE TYPE enum_well_type AS ENUM\n",
    "(\n",
    "    'OIL',\n",
    "    'GAS',\n",
    "    'OILANDGAS',\n",
    "    'INJECTION',\n",
    "    'STORAGE',\n",
    "    'DISPOSAL',\n",
    "    'DRY HOLE',\n",
    "    'OBSERVATION',\n",
    "    'TEST',\n",
    "    'WATER',\n",
    "    'OTHER'\n",
    ");\n",
    "DROP TYPE IF EXISTS enum_well_status CASCADE;\n",
    "CREATE TYPE enum_well_status AS ENUM\n",
    "(\n",
    "    'UNKNOWN',\n",
    "    'PERMITTED',\n",
    "    'CANCELLED',\n",
    "    'ACTIVE',\n",
    "    'TA',\n",
    "    'PA',\n",
    "    'ORPHAN'\n",
    ");\n",
    "DROP TYPE IF EXISTS enum_well_category CASCADE;\n",
    "CREATE TYPE enum_well_category AS ENUM\n",
    "(\n",
    "    'CONVENTIONAL',\n",
    "    'UNCONVENTIONAL',\n",
    "    'FRAC',\n",
    "    'CBM',\n",
    "    'UIC',\n",
    "    'TEST',\n",
    "    'STORAGE',\n",
    "    'WATER',\n",
    "    'OTHER'\n",
    ");\n",
    "DROP TYPE IF EXISTS enum_location_src CASCADE;\n",
    "CREATE TYPE enum_location_src AS ENUM\n",
    "(\n",
    "    'S', --Surface\n",
    "    'BH' --Bottom Hole\n",
    ");\n",
    "\n",
    "DROP TABLE IF EXISTS wells;\n",
    "CREATE TABLE wells\n",
    "(\n",
    "    id SERIAL PRIMARY KEY,\n",
    "    location GEOGRAPHY(POINT, 4326) NOT NULL,\n",
    "    location_src enum_location_src,\n",
    "    api varchar NOT NULL CONSTRAINT plain_api CHECK (api ~ '^[A-Z0-9]+$'),\n",
    "    state char(2) REFERENCES states(state) NOT NULL,\n",
    "    date DATE,\n",
    "    status enum_well_status NOT NULL,\n",
    "    type enum_well_type,\n",
    "    category enum_well_category,\n",
    "    capture_time TIMESTAMPTZ,\n",
    "    description TEXT,\n",
    "    UNIQUE (api, status, date)\n",
    ");\n",
    "\n",
    "CREATE INDEX idx_well_id ON wells(id);\n",
    "CREATE INDEX idx_api ON wells(api);\n",
    "CREATE INDEX idx_api_status_date ON wells(api, status, date);\n",
    "CREATE INDEX idx_api_capture_time ON wells(api, capture_time);\n",
    "CREATE INDEX idx_well_location ON wells(location);\n",
    "CREATE INDEX idx_well_status ON wells(status);\n",
    "CREATE INDEX idx_well_type ON wells(type);\n",
    "\"\"\"\n",
    "run_query(query)\n"
   ]
  },
  {
   "cell_type": "code",
   "execution_count": 11,
   "metadata": {
    "collapsed": false
   },
   "outputs": [],
   "source": [
    "import db_settings\n",
    "import psycopg2\n",
    "\n",
    "conn = psycopg2.connect(database=db_settings.DB, user=db_settings.USER, password=db_settings.PASSWD, host=db_settings.HOST)\n",
    "with conn:\n",
    "    with conn.cursor() as cur:\n",
    "        with open('states-data.csv', 'r') as f:\n",
    "            cur.copy_expert('COPY states(api_prefix, state, name) FROM STDIN WITH DELIMITER \\',\\' CSV HEADER', f)\n",
    "            #, 'states', sep=',', columns='api_prefix, state, name'))\n",
    "conn.close()            "
   ]
  },
  {
   "cell_type": "code",
   "execution_count": null,
   "metadata": {
    "collapsed": true
   },
   "outputs": [],
   "source": []
  }
 ],
 "metadata": {
  "kernelspec": {
   "display_name": "Python 2",
   "language": "python",
   "name": "python2"
  },
  "language_info": {
   "codemirror_mode": {
    "name": "ipython",
    "version": 2
   },
   "file_extension": ".py",
   "mimetype": "text/x-python",
   "name": "python",
   "nbconvert_exporter": "python",
   "pygments_lexer": "ipython2",
   "version": "2.7.11"
  }
 },
 "nbformat": 4,
 "nbformat_minor": 0
}
